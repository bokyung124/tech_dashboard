{
 "cells": [
  {
   "cell_type": "code",
   "execution_count": 3,
   "metadata": {},
   "outputs": [],
   "source": [
    "# !pip install pandas\n",
    "# !pip install wordcloud\n",
    "# !pip install plotly"
   ]
  },
  {
   "cell_type": "code",
   "execution_count": 4,
   "metadata": {},
   "outputs": [],
   "source": [
    "import csv\n",
    "import matplotlib.pyplot as plt\n",
    "import plotly.express as px\n",
    "import pandas as pd\n",
    "from wordcloud import WordCloud\n",
    "from collections import Counter"
   ]
  },
  {
   "cell_type": "markdown",
   "metadata": {},
   "source": [
    "## 더미 데이터"
   ]
  },
  {
   "cell_type": "code",
   "execution_count": 5,
   "metadata": {},
   "outputs": [],
   "source": [
    "socar_path = './socar_data.csv'\n",
    "line_path = './line_data.csv'\n",
    "\n",
    "socar_df = pd.read_csv(socar_path)\n",
    "line_df = pd.read_csv(line_path)\n",
    "\n",
    "dummy_df = pd.concat([socar_df, line_df], ignore_index=True)"
   ]
  },
  {
   "cell_type": "code",
   "execution_count": 6,
   "metadata": {},
   "outputs": [
    {
     "name": "stdout",
     "output_type": "stream",
     "text": [
      "(228, 3)\n"
     ]
    }
   ],
   "source": [
    "new_dummy_df = dummy_df[['date', 'tags', 'company']]\n",
    "print(new_dummy_df.shape)"
   ]
  },
  {
   "cell_type": "markdown",
   "metadata": {},
   "source": [
    "## 태그 빈도수 시각화(전체, 기업별)"
   ]
  },
  {
   "cell_type": "markdown",
   "metadata": {},
   "source": [
    "### 전체 기업 - barchart"
   ]
  },
  {
   "cell_type": "code",
   "execution_count": 7,
   "metadata": {},
   "outputs": [],
   "source": [
    "tags_list = new_dummy_df['tags'].dropna().str.split(', ').tolist()\n",
    "tags_list = sum(tags_list, [])\n",
    "tag_counts = Counter(tags_list)\n",
    "tags_df = pd.DataFrame(tag_counts.most_common(20), columns=['Tag', 'Count'])"
   ]
  },
  {
   "cell_type": "code",
   "execution_count": 8,
   "metadata": {},
   "outputs": [
    {
     "data": {
      "application/vnd.plotly.v1+json": {
       "config": {
        "plotlyServerURL": "https://plot.ly"
       },
       "data": [
        {
         "alignmentgroup": "True",
         "hovertemplate": "Tags=%{y}<br>Frequency=%{x}<extra></extra>",
         "legendgroup": "Server-side",
         "marker": {
          "color": "#636efa",
          "pattern": {
           "shape": ""
          }
         },
         "name": "Server-side",
         "offsetgroup": "Server-side",
         "orientation": "h",
         "showlegend": true,
         "textposition": "auto",
         "type": "bar",
         "x": [
          36
         ],
         "xaxis": "x",
         "y": [
          "Server-side"
         ],
         "yaxis": "y"
        },
        {
         "alignmentgroup": "True",
         "hovertemplate": "Tags=%{y}<br>Frequency=%{x}<extra></extra>",
         "legendgroup": "Data/AI",
         "marker": {
          "color": "#EF553B",
          "pattern": {
           "shape": ""
          }
         },
         "name": "Data/AI",
         "offsetgroup": "Data/AI",
         "orientation": "h",
         "showlegend": true,
         "textposition": "auto",
         "type": "bar",
         "x": [
          23
         ],
         "xaxis": "x",
         "y": [
          "Data/AI"
         ],
         "yaxis": "y"
        },
        {
         "alignmentgroup": "True",
         "hovertemplate": "Tags=%{y}<br>Frequency=%{x}<extra></extra>",
         "legendgroup": "iOS",
         "marker": {
          "color": "#00cc96",
          "pattern": {
           "shape": ""
          }
         },
         "name": "iOS",
         "offsetgroup": "iOS",
         "orientation": "h",
         "showlegend": true,
         "textposition": "auto",
         "type": "bar",
         "x": [
          21
         ],
         "xaxis": "x",
         "y": [
          "iOS"
         ],
         "yaxis": "y"
        },
        {
         "alignmentgroup": "True",
         "hovertemplate": "Tags=%{y}<br>Frequency=%{x}<extra></extra>",
         "legendgroup": "Open Source",
         "marker": {
          "color": "#ab63fa",
          "pattern": {
           "shape": ""
          }
         },
         "name": "Open Source",
         "offsetgroup": "Open Source",
         "orientation": "h",
         "showlegend": true,
         "textposition": "auto",
         "type": "bar",
         "x": [
          19
         ],
         "xaxis": "x",
         "y": [
          "Open Source"
         ],
         "yaxis": "y"
        },
        {
         "alignmentgroup": "True",
         "hovertemplate": "Tags=%{y}<br>Frequency=%{x}<extra></extra>",
         "legendgroup": "data",
         "marker": {
          "color": "#FFA15A",
          "pattern": {
           "shape": ""
          }
         },
         "name": "data",
         "offsetgroup": "data",
         "orientation": "h",
         "showlegend": true,
         "textposition": "auto",
         "type": "bar",
         "x": [
          16
         ],
         "xaxis": "x",
         "y": [
          "data"
         ],
         "yaxis": "y"
        },
        {
         "alignmentgroup": "True",
         "hovertemplate": "Tags=%{y}<br>Frequency=%{x}<extra></extra>",
         "legendgroup": "QA",
         "marker": {
          "color": "#19d3f3",
          "pattern": {
           "shape": ""
          }
         },
         "name": "QA",
         "offsetgroup": "QA",
         "orientation": "h",
         "showlegend": true,
         "textposition": "auto",
         "type": "bar",
         "x": [
          15
         ],
         "xaxis": "x",
         "y": [
          "QA"
         ],
         "yaxis": "y"
        },
        {
         "alignmentgroup": "True",
         "hovertemplate": "Tags=%{y}<br>Frequency=%{x}<extra></extra>",
         "legendgroup": "Tech Management",
         "marker": {
          "color": "#FF6692",
          "pattern": {
           "shape": ""
          }
         },
         "name": "Tech Management",
         "offsetgroup": "Tech Management",
         "orientation": "h",
         "showlegend": true,
         "textposition": "auto",
         "type": "bar",
         "x": [
          15
         ],
         "xaxis": "x",
         "y": [
          "Tech Management"
         ],
         "yaxis": "y"
        },
        {
         "alignmentgroup": "True",
         "hovertemplate": "Tags=%{y}<br>Frequency=%{x}<extra></extra>",
         "legendgroup": "Android",
         "marker": {
          "color": "#B6E880",
          "pattern": {
           "shape": ""
          }
         },
         "name": "Android",
         "offsetgroup": "Android",
         "orientation": "h",
         "showlegend": true,
         "textposition": "auto",
         "type": "bar",
         "x": [
          14
         ],
         "xaxis": "x",
         "y": [
          "Android"
         ],
         "yaxis": "y"
        },
        {
         "alignmentgroup": "True",
         "hovertemplate": "Tags=%{y}<br>Frequency=%{x}<extra></extra>",
         "legendgroup": "Armeria",
         "marker": {
          "color": "#FF97FF",
          "pattern": {
           "shape": ""
          }
         },
         "name": "Armeria",
         "offsetgroup": "Armeria",
         "orientation": "h",
         "showlegend": true,
         "textposition": "auto",
         "type": "bar",
         "x": [
          11
         ],
         "xaxis": "x",
         "y": [
          "Armeria"
         ],
         "yaxis": "y"
        },
        {
         "alignmentgroup": "True",
         "hovertemplate": "Tags=%{y}<br>Frequency=%{x}<extra></extra>",
         "legendgroup": "data engineering",
         "marker": {
          "color": "#FECB52",
          "pattern": {
           "shape": ""
          }
         },
         "name": "data engineering",
         "offsetgroup": "data engineering",
         "orientation": "h",
         "showlegend": true,
         "textposition": "auto",
         "type": "bar",
         "x": [
          10
         ],
         "xaxis": "x",
         "y": [
          "data engineering"
         ],
         "yaxis": "y"
        },
        {
         "alignmentgroup": "True",
         "hovertemplate": "Tags=%{y}<br>Frequency=%{x}<extra></extra>",
         "legendgroup": "LINE Events",
         "marker": {
          "color": "#636efa",
          "pattern": {
           "shape": ""
          }
         },
         "name": "LINE Events",
         "offsetgroup": "LINE Events",
         "orientation": "h",
         "showlegend": true,
         "textposition": "auto",
         "type": "bar",
         "x": [
          10
         ],
         "xaxis": "x",
         "y": [
          "LINE Events"
         ],
         "yaxis": "y"
        },
        {
         "alignmentgroup": "True",
         "hovertemplate": "Tags=%{y}<br>Frequency=%{x}<extra></extra>",
         "legendgroup": "Java",
         "marker": {
          "color": "#EF553B",
          "pattern": {
           "shape": ""
          }
         },
         "name": "Java",
         "offsetgroup": "Java",
         "orientation": "h",
         "showlegend": true,
         "textposition": "auto",
         "type": "bar",
         "x": [
          9
         ],
         "xaxis": "x",
         "y": [
          "Java"
         ],
         "yaxis": "y"
        },
        {
         "alignmentgroup": "True",
         "hovertemplate": "Tags=%{y}<br>Frequency=%{x}<extra></extra>",
         "legendgroup": "frontend",
         "marker": {
          "color": "#00cc96",
          "pattern": {
           "shape": ""
          }
         },
         "name": "frontend",
         "offsetgroup": "frontend",
         "orientation": "h",
         "showlegend": true,
         "textposition": "auto",
         "type": "bar",
         "x": [
          8
         ],
         "xaxis": "x",
         "y": [
          "frontend"
         ],
         "yaxis": "y"
        },
        {
         "alignmentgroup": "True",
         "hovertemplate": "Tags=%{y}<br>Frequency=%{x}<extra></extra>",
         "legendgroup": "Security Engineering",
         "marker": {
          "color": "#ab63fa",
          "pattern": {
           "shape": ""
          }
         },
         "name": "Security Engineering",
         "offsetgroup": "Security Engineering",
         "orientation": "h",
         "showlegend": true,
         "textposition": "auto",
         "type": "bar",
         "x": [
          8
         ],
         "xaxis": "x",
         "y": [
          "Security Engineering"
         ],
         "yaxis": "y"
        },
        {
         "alignmentgroup": "True",
         "hovertemplate": "Tags=%{y}<br>Frequency=%{x}<extra></extra>",
         "legendgroup": "Web Development",
         "marker": {
          "color": "#FFA15A",
          "pattern": {
           "shape": ""
          }
         },
         "name": "Web Development",
         "offsetgroup": "Web Development",
         "orientation": "h",
         "showlegend": true,
         "textposition": "auto",
         "type": "bar",
         "x": [
          7
         ],
         "xaxis": "x",
         "y": [
          "Web Development"
         ],
         "yaxis": "y"
        },
        {
         "alignmentgroup": "True",
         "hovertemplate": "Tags=%{y}<br>Frequency=%{x}<extra></extra>",
         "legendgroup": "design system",
         "marker": {
          "color": "#19d3f3",
          "pattern": {
           "shape": ""
          }
         },
         "name": "design system",
         "offsetgroup": "design system",
         "orientation": "h",
         "showlegend": true,
         "textposition": "auto",
         "type": "bar",
         "x": [
          6
         ],
         "xaxis": "x",
         "y": [
          "design system"
         ],
         "yaxis": "y"
        },
        {
         "alignmentgroup": "True",
         "hovertemplate": "Tags=%{y}<br>Frequency=%{x}<extra></extra>",
         "legendgroup": "Client-side",
         "marker": {
          "color": "#FF6692",
          "pattern": {
           "shape": ""
          }
         },
         "name": "Client-side",
         "offsetgroup": "Client-side",
         "orientation": "h",
         "showlegend": true,
         "textposition": "auto",
         "type": "bar",
         "x": [
          6
         ],
         "xaxis": "x",
         "y": [
          "Client-side"
         ],
         "yaxis": "y"
        },
        {
         "alignmentgroup": "True",
         "hovertemplate": "Tags=%{y}<br>Frequency=%{x}<extra></extra>",
         "legendgroup": "Kubernetes",
         "marker": {
          "color": "#B6E880",
          "pattern": {
           "shape": ""
          }
         },
         "name": "Kubernetes",
         "offsetgroup": "Kubernetes",
         "orientation": "h",
         "showlegend": true,
         "textposition": "auto",
         "type": "bar",
         "x": [
          6
         ],
         "xaxis": "x",
         "y": [
          "Kubernetes"
         ],
         "yaxis": "y"
        },
        {
         "alignmentgroup": "True",
         "hovertemplate": "Tags=%{y}<br>Frequency=%{x}<extra></extra>",
         "legendgroup": "Fintech",
         "marker": {
          "color": "#FF97FF",
          "pattern": {
           "shape": ""
          }
         },
         "name": "Fintech",
         "offsetgroup": "Fintech",
         "orientation": "h",
         "showlegend": true,
         "textposition": "auto",
         "type": "bar",
         "x": [
          6
         ],
         "xaxis": "x",
         "y": [
          "Fintech"
         ],
         "yaxis": "y"
        },
        {
         "alignmentgroup": "True",
         "hovertemplate": "Tags=%{y}<br>Frequency=%{x}<extra></extra>",
         "legendgroup": "Front-end",
         "marker": {
          "color": "#FECB52",
          "pattern": {
           "shape": ""
          }
         },
         "name": "Front-end",
         "offsetgroup": "Front-end",
         "orientation": "h",
         "showlegend": true,
         "textposition": "auto",
         "type": "bar",
         "x": [
          5
         ],
         "xaxis": "x",
         "y": [
          "Front-end"
         ],
         "yaxis": "y"
        }
       ],
       "layout": {
        "barmode": "relative",
        "height": 800,
        "legend": {
         "title": {
          "text": "Tags"
         },
         "tracegroupgap": 0
        },
        "template": {
         "data": {
          "bar": [
           {
            "error_x": {
             "color": "#2a3f5f"
            },
            "error_y": {
             "color": "#2a3f5f"
            },
            "marker": {
             "line": {
              "color": "#E5ECF6",
              "width": 0.5
             },
             "pattern": {
              "fillmode": "overlay",
              "size": 10,
              "solidity": 0.2
             }
            },
            "type": "bar"
           }
          ],
          "barpolar": [
           {
            "marker": {
             "line": {
              "color": "#E5ECF6",
              "width": 0.5
             },
             "pattern": {
              "fillmode": "overlay",
              "size": 10,
              "solidity": 0.2
             }
            },
            "type": "barpolar"
           }
          ],
          "carpet": [
           {
            "aaxis": {
             "endlinecolor": "#2a3f5f",
             "gridcolor": "white",
             "linecolor": "white",
             "minorgridcolor": "white",
             "startlinecolor": "#2a3f5f"
            },
            "baxis": {
             "endlinecolor": "#2a3f5f",
             "gridcolor": "white",
             "linecolor": "white",
             "minorgridcolor": "white",
             "startlinecolor": "#2a3f5f"
            },
            "type": "carpet"
           }
          ],
          "choropleth": [
           {
            "colorbar": {
             "outlinewidth": 0,
             "ticks": ""
            },
            "type": "choropleth"
           }
          ],
          "contour": [
           {
            "colorbar": {
             "outlinewidth": 0,
             "ticks": ""
            },
            "colorscale": [
             [
              0,
              "#0d0887"
             ],
             [
              0.1111111111111111,
              "#46039f"
             ],
             [
              0.2222222222222222,
              "#7201a8"
             ],
             [
              0.3333333333333333,
              "#9c179e"
             ],
             [
              0.4444444444444444,
              "#bd3786"
             ],
             [
              0.5555555555555556,
              "#d8576b"
             ],
             [
              0.6666666666666666,
              "#ed7953"
             ],
             [
              0.7777777777777778,
              "#fb9f3a"
             ],
             [
              0.8888888888888888,
              "#fdca26"
             ],
             [
              1,
              "#f0f921"
             ]
            ],
            "type": "contour"
           }
          ],
          "contourcarpet": [
           {
            "colorbar": {
             "outlinewidth": 0,
             "ticks": ""
            },
            "type": "contourcarpet"
           }
          ],
          "heatmap": [
           {
            "colorbar": {
             "outlinewidth": 0,
             "ticks": ""
            },
            "colorscale": [
             [
              0,
              "#0d0887"
             ],
             [
              0.1111111111111111,
              "#46039f"
             ],
             [
              0.2222222222222222,
              "#7201a8"
             ],
             [
              0.3333333333333333,
              "#9c179e"
             ],
             [
              0.4444444444444444,
              "#bd3786"
             ],
             [
              0.5555555555555556,
              "#d8576b"
             ],
             [
              0.6666666666666666,
              "#ed7953"
             ],
             [
              0.7777777777777778,
              "#fb9f3a"
             ],
             [
              0.8888888888888888,
              "#fdca26"
             ],
             [
              1,
              "#f0f921"
             ]
            ],
            "type": "heatmap"
           }
          ],
          "heatmapgl": [
           {
            "colorbar": {
             "outlinewidth": 0,
             "ticks": ""
            },
            "colorscale": [
             [
              0,
              "#0d0887"
             ],
             [
              0.1111111111111111,
              "#46039f"
             ],
             [
              0.2222222222222222,
              "#7201a8"
             ],
             [
              0.3333333333333333,
              "#9c179e"
             ],
             [
              0.4444444444444444,
              "#bd3786"
             ],
             [
              0.5555555555555556,
              "#d8576b"
             ],
             [
              0.6666666666666666,
              "#ed7953"
             ],
             [
              0.7777777777777778,
              "#fb9f3a"
             ],
             [
              0.8888888888888888,
              "#fdca26"
             ],
             [
              1,
              "#f0f921"
             ]
            ],
            "type": "heatmapgl"
           }
          ],
          "histogram": [
           {
            "marker": {
             "pattern": {
              "fillmode": "overlay",
              "size": 10,
              "solidity": 0.2
             }
            },
            "type": "histogram"
           }
          ],
          "histogram2d": [
           {
            "colorbar": {
             "outlinewidth": 0,
             "ticks": ""
            },
            "colorscale": [
             [
              0,
              "#0d0887"
             ],
             [
              0.1111111111111111,
              "#46039f"
             ],
             [
              0.2222222222222222,
              "#7201a8"
             ],
             [
              0.3333333333333333,
              "#9c179e"
             ],
             [
              0.4444444444444444,
              "#bd3786"
             ],
             [
              0.5555555555555556,
              "#d8576b"
             ],
             [
              0.6666666666666666,
              "#ed7953"
             ],
             [
              0.7777777777777778,
              "#fb9f3a"
             ],
             [
              0.8888888888888888,
              "#fdca26"
             ],
             [
              1,
              "#f0f921"
             ]
            ],
            "type": "histogram2d"
           }
          ],
          "histogram2dcontour": [
           {
            "colorbar": {
             "outlinewidth": 0,
             "ticks": ""
            },
            "colorscale": [
             [
              0,
              "#0d0887"
             ],
             [
              0.1111111111111111,
              "#46039f"
             ],
             [
              0.2222222222222222,
              "#7201a8"
             ],
             [
              0.3333333333333333,
              "#9c179e"
             ],
             [
              0.4444444444444444,
              "#bd3786"
             ],
             [
              0.5555555555555556,
              "#d8576b"
             ],
             [
              0.6666666666666666,
              "#ed7953"
             ],
             [
              0.7777777777777778,
              "#fb9f3a"
             ],
             [
              0.8888888888888888,
              "#fdca26"
             ],
             [
              1,
              "#f0f921"
             ]
            ],
            "type": "histogram2dcontour"
           }
          ],
          "mesh3d": [
           {
            "colorbar": {
             "outlinewidth": 0,
             "ticks": ""
            },
            "type": "mesh3d"
           }
          ],
          "parcoords": [
           {
            "line": {
             "colorbar": {
              "outlinewidth": 0,
              "ticks": ""
             }
            },
            "type": "parcoords"
           }
          ],
          "pie": [
           {
            "automargin": true,
            "type": "pie"
           }
          ],
          "scatter": [
           {
            "fillpattern": {
             "fillmode": "overlay",
             "size": 10,
             "solidity": 0.2
            },
            "type": "scatter"
           }
          ],
          "scatter3d": [
           {
            "line": {
             "colorbar": {
              "outlinewidth": 0,
              "ticks": ""
             }
            },
            "marker": {
             "colorbar": {
              "outlinewidth": 0,
              "ticks": ""
             }
            },
            "type": "scatter3d"
           }
          ],
          "scattercarpet": [
           {
            "marker": {
             "colorbar": {
              "outlinewidth": 0,
              "ticks": ""
             }
            },
            "type": "scattercarpet"
           }
          ],
          "scattergeo": [
           {
            "marker": {
             "colorbar": {
              "outlinewidth": 0,
              "ticks": ""
             }
            },
            "type": "scattergeo"
           }
          ],
          "scattergl": [
           {
            "marker": {
             "colorbar": {
              "outlinewidth": 0,
              "ticks": ""
             }
            },
            "type": "scattergl"
           }
          ],
          "scattermapbox": [
           {
            "marker": {
             "colorbar": {
              "outlinewidth": 0,
              "ticks": ""
             }
            },
            "type": "scattermapbox"
           }
          ],
          "scatterpolar": [
           {
            "marker": {
             "colorbar": {
              "outlinewidth": 0,
              "ticks": ""
             }
            },
            "type": "scatterpolar"
           }
          ],
          "scatterpolargl": [
           {
            "marker": {
             "colorbar": {
              "outlinewidth": 0,
              "ticks": ""
             }
            },
            "type": "scatterpolargl"
           }
          ],
          "scatterternary": [
           {
            "marker": {
             "colorbar": {
              "outlinewidth": 0,
              "ticks": ""
             }
            },
            "type": "scatterternary"
           }
          ],
          "surface": [
           {
            "colorbar": {
             "outlinewidth": 0,
             "ticks": ""
            },
            "colorscale": [
             [
              0,
              "#0d0887"
             ],
             [
              0.1111111111111111,
              "#46039f"
             ],
             [
              0.2222222222222222,
              "#7201a8"
             ],
             [
              0.3333333333333333,
              "#9c179e"
             ],
             [
              0.4444444444444444,
              "#bd3786"
             ],
             [
              0.5555555555555556,
              "#d8576b"
             ],
             [
              0.6666666666666666,
              "#ed7953"
             ],
             [
              0.7777777777777778,
              "#fb9f3a"
             ],
             [
              0.8888888888888888,
              "#fdca26"
             ],
             [
              1,
              "#f0f921"
             ]
            ],
            "type": "surface"
           }
          ],
          "table": [
           {
            "cells": {
             "fill": {
              "color": "#EBF0F8"
             },
             "line": {
              "color": "white"
             }
            },
            "header": {
             "fill": {
              "color": "#C8D4E3"
             },
             "line": {
              "color": "white"
             }
            },
            "type": "table"
           }
          ]
         },
         "layout": {
          "annotationdefaults": {
           "arrowcolor": "#2a3f5f",
           "arrowhead": 0,
           "arrowwidth": 1
          },
          "autotypenumbers": "strict",
          "coloraxis": {
           "colorbar": {
            "outlinewidth": 0,
            "ticks": ""
           }
          },
          "colorscale": {
           "diverging": [
            [
             0,
             "#8e0152"
            ],
            [
             0.1,
             "#c51b7d"
            ],
            [
             0.2,
             "#de77ae"
            ],
            [
             0.3,
             "#f1b6da"
            ],
            [
             0.4,
             "#fde0ef"
            ],
            [
             0.5,
             "#f7f7f7"
            ],
            [
             0.6,
             "#e6f5d0"
            ],
            [
             0.7,
             "#b8e186"
            ],
            [
             0.8,
             "#7fbc41"
            ],
            [
             0.9,
             "#4d9221"
            ],
            [
             1,
             "#276419"
            ]
           ],
           "sequential": [
            [
             0,
             "#0d0887"
            ],
            [
             0.1111111111111111,
             "#46039f"
            ],
            [
             0.2222222222222222,
             "#7201a8"
            ],
            [
             0.3333333333333333,
             "#9c179e"
            ],
            [
             0.4444444444444444,
             "#bd3786"
            ],
            [
             0.5555555555555556,
             "#d8576b"
            ],
            [
             0.6666666666666666,
             "#ed7953"
            ],
            [
             0.7777777777777778,
             "#fb9f3a"
            ],
            [
             0.8888888888888888,
             "#fdca26"
            ],
            [
             1,
             "#f0f921"
            ]
           ],
           "sequentialminus": [
            [
             0,
             "#0d0887"
            ],
            [
             0.1111111111111111,
             "#46039f"
            ],
            [
             0.2222222222222222,
             "#7201a8"
            ],
            [
             0.3333333333333333,
             "#9c179e"
            ],
            [
             0.4444444444444444,
             "#bd3786"
            ],
            [
             0.5555555555555556,
             "#d8576b"
            ],
            [
             0.6666666666666666,
             "#ed7953"
            ],
            [
             0.7777777777777778,
             "#fb9f3a"
            ],
            [
             0.8888888888888888,
             "#fdca26"
            ],
            [
             1,
             "#f0f921"
            ]
           ]
          },
          "colorway": [
           "#636efa",
           "#EF553B",
           "#00cc96",
           "#ab63fa",
           "#FFA15A",
           "#19d3f3",
           "#FF6692",
           "#B6E880",
           "#FF97FF",
           "#FECB52"
          ],
          "font": {
           "color": "#2a3f5f"
          },
          "geo": {
           "bgcolor": "white",
           "lakecolor": "white",
           "landcolor": "#E5ECF6",
           "showlakes": true,
           "showland": true,
           "subunitcolor": "white"
          },
          "hoverlabel": {
           "align": "left"
          },
          "hovermode": "closest",
          "mapbox": {
           "style": "light"
          },
          "paper_bgcolor": "white",
          "plot_bgcolor": "#E5ECF6",
          "polar": {
           "angularaxis": {
            "gridcolor": "white",
            "linecolor": "white",
            "ticks": ""
           },
           "bgcolor": "#E5ECF6",
           "radialaxis": {
            "gridcolor": "white",
            "linecolor": "white",
            "ticks": ""
           }
          },
          "scene": {
           "xaxis": {
            "backgroundcolor": "#E5ECF6",
            "gridcolor": "white",
            "gridwidth": 2,
            "linecolor": "white",
            "showbackground": true,
            "ticks": "",
            "zerolinecolor": "white"
           },
           "yaxis": {
            "backgroundcolor": "#E5ECF6",
            "gridcolor": "white",
            "gridwidth": 2,
            "linecolor": "white",
            "showbackground": true,
            "ticks": "",
            "zerolinecolor": "white"
           },
           "zaxis": {
            "backgroundcolor": "#E5ECF6",
            "gridcolor": "white",
            "gridwidth": 2,
            "linecolor": "white",
            "showbackground": true,
            "ticks": "",
            "zerolinecolor": "white"
           }
          },
          "shapedefaults": {
           "line": {
            "color": "#2a3f5f"
           }
          },
          "ternary": {
           "aaxis": {
            "gridcolor": "white",
            "linecolor": "white",
            "ticks": ""
           },
           "baxis": {
            "gridcolor": "white",
            "linecolor": "white",
            "ticks": ""
           },
           "bgcolor": "#E5ECF6",
           "caxis": {
            "gridcolor": "white",
            "linecolor": "white",
            "ticks": ""
           }
          },
          "title": {
           "x": 0.05
          },
          "xaxis": {
           "automargin": true,
           "gridcolor": "white",
           "linecolor": "white",
           "ticks": "",
           "title": {
            "standoff": 15
           },
           "zerolinecolor": "white",
           "zerolinewidth": 2
          },
          "yaxis": {
           "automargin": true,
           "gridcolor": "white",
           "linecolor": "white",
           "ticks": "",
           "title": {
            "standoff": 15
           },
           "zerolinecolor": "white",
           "zerolinewidth": 2
          }
         }
        },
        "title": {
         "text": "Top 20 Tags in All posts"
        },
        "width": 1000,
        "xaxis": {
         "anchor": "y",
         "categoryorder": "total descending",
         "domain": [
          0,
          1
         ],
         "title": {
          "text": "Frequency"
         }
        },
        "yaxis": {
         "anchor": "x",
         "categoryarray": [
          "Front-end",
          "Fintech",
          "Kubernetes",
          "Client-side",
          "design system",
          "Web Development",
          "Security Engineering",
          "frontend",
          "Java",
          "LINE Events",
          "data engineering",
          "Armeria",
          "Android",
          "Tech Management",
          "QA",
          "data",
          "Open Source",
          "iOS",
          "Data/AI",
          "Server-side"
         ],
         "categoryorder": "array",
         "domain": [
          0,
          1
         ],
         "title": {
          "text": "Tags"
         }
        }
       }
      }
     },
     "metadata": {},
     "output_type": "display_data"
    }
   ],
   "source": [
    "fig = px.bar(\n",
    "    tags_df,\n",
    "    x='Count',\n",
    "    y='Tag',\n",
    "    title='Top 20 Tags in All posts',\n",
    "    labels={'Tag': 'Tags', 'Count': 'Frequency'},  # 축 라벨 정의\n",
    "    color='Tag',  # 태그별 다른 색상으로 표시\n",
    ")\n",
    "fig.update_layout(\n",
    "    width = 1000,\n",
    "    height = 800,\n",
    "    xaxis={'categoryorder':'total descending'},  # 빈도수가 높은 순으로 정렬\n",
    "    yaxis_title='Tags'  # y축 제목 설정\n",
    ")\n",
    "fig.show()"
   ]
  },
  {
   "cell_type": "code",
   "execution_count": 9,
   "metadata": {},
   "outputs": [
    {
     "data": {
      "application/vnd.plotly.v1+json": {
       "config": {
        "plotlyServerURL": "https://plot.ly"
       },
       "data": [
        {
         "alignmentgroup": "True",
         "hovertemplate": "Tags=%{x}<br>Frequency=%{y}<extra></extra>",
         "legendgroup": "Server-side",
         "marker": {
          "color": "#636efa",
          "pattern": {
           "shape": ""
          }
         },
         "name": "Server-side",
         "offsetgroup": "Server-side",
         "orientation": "v",
         "showlegend": true,
         "textposition": "auto",
         "type": "bar",
         "x": [
          "Server-side"
         ],
         "xaxis": "x",
         "y": [
          36
         ],
         "yaxis": "y"
        },
        {
         "alignmentgroup": "True",
         "hovertemplate": "Tags=%{x}<br>Frequency=%{y}<extra></extra>",
         "legendgroup": "Data/AI",
         "marker": {
          "color": "#EF553B",
          "pattern": {
           "shape": ""
          }
         },
         "name": "Data/AI",
         "offsetgroup": "Data/AI",
         "orientation": "v",
         "showlegend": true,
         "textposition": "auto",
         "type": "bar",
         "x": [
          "Data/AI"
         ],
         "xaxis": "x",
         "y": [
          23
         ],
         "yaxis": "y"
        },
        {
         "alignmentgroup": "True",
         "hovertemplate": "Tags=%{x}<br>Frequency=%{y}<extra></extra>",
         "legendgroup": "iOS",
         "marker": {
          "color": "#00cc96",
          "pattern": {
           "shape": ""
          }
         },
         "name": "iOS",
         "offsetgroup": "iOS",
         "orientation": "v",
         "showlegend": true,
         "textposition": "auto",
         "type": "bar",
         "x": [
          "iOS"
         ],
         "xaxis": "x",
         "y": [
          21
         ],
         "yaxis": "y"
        },
        {
         "alignmentgroup": "True",
         "hovertemplate": "Tags=%{x}<br>Frequency=%{y}<extra></extra>",
         "legendgroup": "Open Source",
         "marker": {
          "color": "#ab63fa",
          "pattern": {
           "shape": ""
          }
         },
         "name": "Open Source",
         "offsetgroup": "Open Source",
         "orientation": "v",
         "showlegend": true,
         "textposition": "auto",
         "type": "bar",
         "x": [
          "Open Source"
         ],
         "xaxis": "x",
         "y": [
          19
         ],
         "yaxis": "y"
        },
        {
         "alignmentgroup": "True",
         "hovertemplate": "Tags=%{x}<br>Frequency=%{y}<extra></extra>",
         "legendgroup": "data",
         "marker": {
          "color": "#FFA15A",
          "pattern": {
           "shape": ""
          }
         },
         "name": "data",
         "offsetgroup": "data",
         "orientation": "v",
         "showlegend": true,
         "textposition": "auto",
         "type": "bar",
         "x": [
          "data"
         ],
         "xaxis": "x",
         "y": [
          16
         ],
         "yaxis": "y"
        },
        {
         "alignmentgroup": "True",
         "hovertemplate": "Tags=%{x}<br>Frequency=%{y}<extra></extra>",
         "legendgroup": "QA",
         "marker": {
          "color": "#19d3f3",
          "pattern": {
           "shape": ""
          }
         },
         "name": "QA",
         "offsetgroup": "QA",
         "orientation": "v",
         "showlegend": true,
         "textposition": "auto",
         "type": "bar",
         "x": [
          "QA"
         ],
         "xaxis": "x",
         "y": [
          15
         ],
         "yaxis": "y"
        },
        {
         "alignmentgroup": "True",
         "hovertemplate": "Tags=%{x}<br>Frequency=%{y}<extra></extra>",
         "legendgroup": "Tech Management",
         "marker": {
          "color": "#FF6692",
          "pattern": {
           "shape": ""
          }
         },
         "name": "Tech Management",
         "offsetgroup": "Tech Management",
         "orientation": "v",
         "showlegend": true,
         "textposition": "auto",
         "type": "bar",
         "x": [
          "Tech Management"
         ],
         "xaxis": "x",
         "y": [
          15
         ],
         "yaxis": "y"
        },
        {
         "alignmentgroup": "True",
         "hovertemplate": "Tags=%{x}<br>Frequency=%{y}<extra></extra>",
         "legendgroup": "Android",
         "marker": {
          "color": "#B6E880",
          "pattern": {
           "shape": ""
          }
         },
         "name": "Android",
         "offsetgroup": "Android",
         "orientation": "v",
         "showlegend": true,
         "textposition": "auto",
         "type": "bar",
         "x": [
          "Android"
         ],
         "xaxis": "x",
         "y": [
          14
         ],
         "yaxis": "y"
        },
        {
         "alignmentgroup": "True",
         "hovertemplate": "Tags=%{x}<br>Frequency=%{y}<extra></extra>",
         "legendgroup": "Armeria",
         "marker": {
          "color": "#FF97FF",
          "pattern": {
           "shape": ""
          }
         },
         "name": "Armeria",
         "offsetgroup": "Armeria",
         "orientation": "v",
         "showlegend": true,
         "textposition": "auto",
         "type": "bar",
         "x": [
          "Armeria"
         ],
         "xaxis": "x",
         "y": [
          11
         ],
         "yaxis": "y"
        },
        {
         "alignmentgroup": "True",
         "hovertemplate": "Tags=%{x}<br>Frequency=%{y}<extra></extra>",
         "legendgroup": "data engineering",
         "marker": {
          "color": "#FECB52",
          "pattern": {
           "shape": ""
          }
         },
         "name": "data engineering",
         "offsetgroup": "data engineering",
         "orientation": "v",
         "showlegend": true,
         "textposition": "auto",
         "type": "bar",
         "x": [
          "data engineering"
         ],
         "xaxis": "x",
         "y": [
          10
         ],
         "yaxis": "y"
        },
        {
         "alignmentgroup": "True",
         "hovertemplate": "Tags=%{x}<br>Frequency=%{y}<extra></extra>",
         "legendgroup": "LINE Events",
         "marker": {
          "color": "#636efa",
          "pattern": {
           "shape": ""
          }
         },
         "name": "LINE Events",
         "offsetgroup": "LINE Events",
         "orientation": "v",
         "showlegend": true,
         "textposition": "auto",
         "type": "bar",
         "x": [
          "LINE Events"
         ],
         "xaxis": "x",
         "y": [
          10
         ],
         "yaxis": "y"
        },
        {
         "alignmentgroup": "True",
         "hovertemplate": "Tags=%{x}<br>Frequency=%{y}<extra></extra>",
         "legendgroup": "Java",
         "marker": {
          "color": "#EF553B",
          "pattern": {
           "shape": ""
          }
         },
         "name": "Java",
         "offsetgroup": "Java",
         "orientation": "v",
         "showlegend": true,
         "textposition": "auto",
         "type": "bar",
         "x": [
          "Java"
         ],
         "xaxis": "x",
         "y": [
          9
         ],
         "yaxis": "y"
        },
        {
         "alignmentgroup": "True",
         "hovertemplate": "Tags=%{x}<br>Frequency=%{y}<extra></extra>",
         "legendgroup": "frontend",
         "marker": {
          "color": "#00cc96",
          "pattern": {
           "shape": ""
          }
         },
         "name": "frontend",
         "offsetgroup": "frontend",
         "orientation": "v",
         "showlegend": true,
         "textposition": "auto",
         "type": "bar",
         "x": [
          "frontend"
         ],
         "xaxis": "x",
         "y": [
          8
         ],
         "yaxis": "y"
        },
        {
         "alignmentgroup": "True",
         "hovertemplate": "Tags=%{x}<br>Frequency=%{y}<extra></extra>",
         "legendgroup": "Security Engineering",
         "marker": {
          "color": "#ab63fa",
          "pattern": {
           "shape": ""
          }
         },
         "name": "Security Engineering",
         "offsetgroup": "Security Engineering",
         "orientation": "v",
         "showlegend": true,
         "textposition": "auto",
         "type": "bar",
         "x": [
          "Security Engineering"
         ],
         "xaxis": "x",
         "y": [
          8
         ],
         "yaxis": "y"
        },
        {
         "alignmentgroup": "True",
         "hovertemplate": "Tags=%{x}<br>Frequency=%{y}<extra></extra>",
         "legendgroup": "Web Development",
         "marker": {
          "color": "#FFA15A",
          "pattern": {
           "shape": ""
          }
         },
         "name": "Web Development",
         "offsetgroup": "Web Development",
         "orientation": "v",
         "showlegend": true,
         "textposition": "auto",
         "type": "bar",
         "x": [
          "Web Development"
         ],
         "xaxis": "x",
         "y": [
          7
         ],
         "yaxis": "y"
        },
        {
         "alignmentgroup": "True",
         "hovertemplate": "Tags=%{x}<br>Frequency=%{y}<extra></extra>",
         "legendgroup": "design system",
         "marker": {
          "color": "#19d3f3",
          "pattern": {
           "shape": ""
          }
         },
         "name": "design system",
         "offsetgroup": "design system",
         "orientation": "v",
         "showlegend": true,
         "textposition": "auto",
         "type": "bar",
         "x": [
          "design system"
         ],
         "xaxis": "x",
         "y": [
          6
         ],
         "yaxis": "y"
        },
        {
         "alignmentgroup": "True",
         "hovertemplate": "Tags=%{x}<br>Frequency=%{y}<extra></extra>",
         "legendgroup": "Client-side",
         "marker": {
          "color": "#FF6692",
          "pattern": {
           "shape": ""
          }
         },
         "name": "Client-side",
         "offsetgroup": "Client-side",
         "orientation": "v",
         "showlegend": true,
         "textposition": "auto",
         "type": "bar",
         "x": [
          "Client-side"
         ],
         "xaxis": "x",
         "y": [
          6
         ],
         "yaxis": "y"
        },
        {
         "alignmentgroup": "True",
         "hovertemplate": "Tags=%{x}<br>Frequency=%{y}<extra></extra>",
         "legendgroup": "Kubernetes",
         "marker": {
          "color": "#B6E880",
          "pattern": {
           "shape": ""
          }
         },
         "name": "Kubernetes",
         "offsetgroup": "Kubernetes",
         "orientation": "v",
         "showlegend": true,
         "textposition": "auto",
         "type": "bar",
         "x": [
          "Kubernetes"
         ],
         "xaxis": "x",
         "y": [
          6
         ],
         "yaxis": "y"
        },
        {
         "alignmentgroup": "True",
         "hovertemplate": "Tags=%{x}<br>Frequency=%{y}<extra></extra>",
         "legendgroup": "Fintech",
         "marker": {
          "color": "#FF97FF",
          "pattern": {
           "shape": ""
          }
         },
         "name": "Fintech",
         "offsetgroup": "Fintech",
         "orientation": "v",
         "showlegend": true,
         "textposition": "auto",
         "type": "bar",
         "x": [
          "Fintech"
         ],
         "xaxis": "x",
         "y": [
          6
         ],
         "yaxis": "y"
        },
        {
         "alignmentgroup": "True",
         "hovertemplate": "Tags=%{x}<br>Frequency=%{y}<extra></extra>",
         "legendgroup": "Front-end",
         "marker": {
          "color": "#FECB52",
          "pattern": {
           "shape": ""
          }
         },
         "name": "Front-end",
         "offsetgroup": "Front-end",
         "orientation": "v",
         "showlegend": true,
         "textposition": "auto",
         "type": "bar",
         "x": [
          "Front-end"
         ],
         "xaxis": "x",
         "y": [
          5
         ],
         "yaxis": "y"
        }
       ],
       "layout": {
        "barmode": "relative",
        "height": 800,
        "legend": {
         "title": {
          "text": "Tags"
         },
         "tracegroupgap": 0
        },
        "template": {
         "data": {
          "bar": [
           {
            "error_x": {
             "color": "#2a3f5f"
            },
            "error_y": {
             "color": "#2a3f5f"
            },
            "marker": {
             "line": {
              "color": "#E5ECF6",
              "width": 0.5
             },
             "pattern": {
              "fillmode": "overlay",
              "size": 10,
              "solidity": 0.2
             }
            },
            "type": "bar"
           }
          ],
          "barpolar": [
           {
            "marker": {
             "line": {
              "color": "#E5ECF6",
              "width": 0.5
             },
             "pattern": {
              "fillmode": "overlay",
              "size": 10,
              "solidity": 0.2
             }
            },
            "type": "barpolar"
           }
          ],
          "carpet": [
           {
            "aaxis": {
             "endlinecolor": "#2a3f5f",
             "gridcolor": "white",
             "linecolor": "white",
             "minorgridcolor": "white",
             "startlinecolor": "#2a3f5f"
            },
            "baxis": {
             "endlinecolor": "#2a3f5f",
             "gridcolor": "white",
             "linecolor": "white",
             "minorgridcolor": "white",
             "startlinecolor": "#2a3f5f"
            },
            "type": "carpet"
           }
          ],
          "choropleth": [
           {
            "colorbar": {
             "outlinewidth": 0,
             "ticks": ""
            },
            "type": "choropleth"
           }
          ],
          "contour": [
           {
            "colorbar": {
             "outlinewidth": 0,
             "ticks": ""
            },
            "colorscale": [
             [
              0,
              "#0d0887"
             ],
             [
              0.1111111111111111,
              "#46039f"
             ],
             [
              0.2222222222222222,
              "#7201a8"
             ],
             [
              0.3333333333333333,
              "#9c179e"
             ],
             [
              0.4444444444444444,
              "#bd3786"
             ],
             [
              0.5555555555555556,
              "#d8576b"
             ],
             [
              0.6666666666666666,
              "#ed7953"
             ],
             [
              0.7777777777777778,
              "#fb9f3a"
             ],
             [
              0.8888888888888888,
              "#fdca26"
             ],
             [
              1,
              "#f0f921"
             ]
            ],
            "type": "contour"
           }
          ],
          "contourcarpet": [
           {
            "colorbar": {
             "outlinewidth": 0,
             "ticks": ""
            },
            "type": "contourcarpet"
           }
          ],
          "heatmap": [
           {
            "colorbar": {
             "outlinewidth": 0,
             "ticks": ""
            },
            "colorscale": [
             [
              0,
              "#0d0887"
             ],
             [
              0.1111111111111111,
              "#46039f"
             ],
             [
              0.2222222222222222,
              "#7201a8"
             ],
             [
              0.3333333333333333,
              "#9c179e"
             ],
             [
              0.4444444444444444,
              "#bd3786"
             ],
             [
              0.5555555555555556,
              "#d8576b"
             ],
             [
              0.6666666666666666,
              "#ed7953"
             ],
             [
              0.7777777777777778,
              "#fb9f3a"
             ],
             [
              0.8888888888888888,
              "#fdca26"
             ],
             [
              1,
              "#f0f921"
             ]
            ],
            "type": "heatmap"
           }
          ],
          "heatmapgl": [
           {
            "colorbar": {
             "outlinewidth": 0,
             "ticks": ""
            },
            "colorscale": [
             [
              0,
              "#0d0887"
             ],
             [
              0.1111111111111111,
              "#46039f"
             ],
             [
              0.2222222222222222,
              "#7201a8"
             ],
             [
              0.3333333333333333,
              "#9c179e"
             ],
             [
              0.4444444444444444,
              "#bd3786"
             ],
             [
              0.5555555555555556,
              "#d8576b"
             ],
             [
              0.6666666666666666,
              "#ed7953"
             ],
             [
              0.7777777777777778,
              "#fb9f3a"
             ],
             [
              0.8888888888888888,
              "#fdca26"
             ],
             [
              1,
              "#f0f921"
             ]
            ],
            "type": "heatmapgl"
           }
          ],
          "histogram": [
           {
            "marker": {
             "pattern": {
              "fillmode": "overlay",
              "size": 10,
              "solidity": 0.2
             }
            },
            "type": "histogram"
           }
          ],
          "histogram2d": [
           {
            "colorbar": {
             "outlinewidth": 0,
             "ticks": ""
            },
            "colorscale": [
             [
              0,
              "#0d0887"
             ],
             [
              0.1111111111111111,
              "#46039f"
             ],
             [
              0.2222222222222222,
              "#7201a8"
             ],
             [
              0.3333333333333333,
              "#9c179e"
             ],
             [
              0.4444444444444444,
              "#bd3786"
             ],
             [
              0.5555555555555556,
              "#d8576b"
             ],
             [
              0.6666666666666666,
              "#ed7953"
             ],
             [
              0.7777777777777778,
              "#fb9f3a"
             ],
             [
              0.8888888888888888,
              "#fdca26"
             ],
             [
              1,
              "#f0f921"
             ]
            ],
            "type": "histogram2d"
           }
          ],
          "histogram2dcontour": [
           {
            "colorbar": {
             "outlinewidth": 0,
             "ticks": ""
            },
            "colorscale": [
             [
              0,
              "#0d0887"
             ],
             [
              0.1111111111111111,
              "#46039f"
             ],
             [
              0.2222222222222222,
              "#7201a8"
             ],
             [
              0.3333333333333333,
              "#9c179e"
             ],
             [
              0.4444444444444444,
              "#bd3786"
             ],
             [
              0.5555555555555556,
              "#d8576b"
             ],
             [
              0.6666666666666666,
              "#ed7953"
             ],
             [
              0.7777777777777778,
              "#fb9f3a"
             ],
             [
              0.8888888888888888,
              "#fdca26"
             ],
             [
              1,
              "#f0f921"
             ]
            ],
            "type": "histogram2dcontour"
           }
          ],
          "mesh3d": [
           {
            "colorbar": {
             "outlinewidth": 0,
             "ticks": ""
            },
            "type": "mesh3d"
           }
          ],
          "parcoords": [
           {
            "line": {
             "colorbar": {
              "outlinewidth": 0,
              "ticks": ""
             }
            },
            "type": "parcoords"
           }
          ],
          "pie": [
           {
            "automargin": true,
            "type": "pie"
           }
          ],
          "scatter": [
           {
            "fillpattern": {
             "fillmode": "overlay",
             "size": 10,
             "solidity": 0.2
            },
            "type": "scatter"
           }
          ],
          "scatter3d": [
           {
            "line": {
             "colorbar": {
              "outlinewidth": 0,
              "ticks": ""
             }
            },
            "marker": {
             "colorbar": {
              "outlinewidth": 0,
              "ticks": ""
             }
            },
            "type": "scatter3d"
           }
          ],
          "scattercarpet": [
           {
            "marker": {
             "colorbar": {
              "outlinewidth": 0,
              "ticks": ""
             }
            },
            "type": "scattercarpet"
           }
          ],
          "scattergeo": [
           {
            "marker": {
             "colorbar": {
              "outlinewidth": 0,
              "ticks": ""
             }
            },
            "type": "scattergeo"
           }
          ],
          "scattergl": [
           {
            "marker": {
             "colorbar": {
              "outlinewidth": 0,
              "ticks": ""
             }
            },
            "type": "scattergl"
           }
          ],
          "scattermapbox": [
           {
            "marker": {
             "colorbar": {
              "outlinewidth": 0,
              "ticks": ""
             }
            },
            "type": "scattermapbox"
           }
          ],
          "scatterpolar": [
           {
            "marker": {
             "colorbar": {
              "outlinewidth": 0,
              "ticks": ""
             }
            },
            "type": "scatterpolar"
           }
          ],
          "scatterpolargl": [
           {
            "marker": {
             "colorbar": {
              "outlinewidth": 0,
              "ticks": ""
             }
            },
            "type": "scatterpolargl"
           }
          ],
          "scatterternary": [
           {
            "marker": {
             "colorbar": {
              "outlinewidth": 0,
              "ticks": ""
             }
            },
            "type": "scatterternary"
           }
          ],
          "surface": [
           {
            "colorbar": {
             "outlinewidth": 0,
             "ticks": ""
            },
            "colorscale": [
             [
              0,
              "#0d0887"
             ],
             [
              0.1111111111111111,
              "#46039f"
             ],
             [
              0.2222222222222222,
              "#7201a8"
             ],
             [
              0.3333333333333333,
              "#9c179e"
             ],
             [
              0.4444444444444444,
              "#bd3786"
             ],
             [
              0.5555555555555556,
              "#d8576b"
             ],
             [
              0.6666666666666666,
              "#ed7953"
             ],
             [
              0.7777777777777778,
              "#fb9f3a"
             ],
             [
              0.8888888888888888,
              "#fdca26"
             ],
             [
              1,
              "#f0f921"
             ]
            ],
            "type": "surface"
           }
          ],
          "table": [
           {
            "cells": {
             "fill": {
              "color": "#EBF0F8"
             },
             "line": {
              "color": "white"
             }
            },
            "header": {
             "fill": {
              "color": "#C8D4E3"
             },
             "line": {
              "color": "white"
             }
            },
            "type": "table"
           }
          ]
         },
         "layout": {
          "annotationdefaults": {
           "arrowcolor": "#2a3f5f",
           "arrowhead": 0,
           "arrowwidth": 1
          },
          "autotypenumbers": "strict",
          "coloraxis": {
           "colorbar": {
            "outlinewidth": 0,
            "ticks": ""
           }
          },
          "colorscale": {
           "diverging": [
            [
             0,
             "#8e0152"
            ],
            [
             0.1,
             "#c51b7d"
            ],
            [
             0.2,
             "#de77ae"
            ],
            [
             0.3,
             "#f1b6da"
            ],
            [
             0.4,
             "#fde0ef"
            ],
            [
             0.5,
             "#f7f7f7"
            ],
            [
             0.6,
             "#e6f5d0"
            ],
            [
             0.7,
             "#b8e186"
            ],
            [
             0.8,
             "#7fbc41"
            ],
            [
             0.9,
             "#4d9221"
            ],
            [
             1,
             "#276419"
            ]
           ],
           "sequential": [
            [
             0,
             "#0d0887"
            ],
            [
             0.1111111111111111,
             "#46039f"
            ],
            [
             0.2222222222222222,
             "#7201a8"
            ],
            [
             0.3333333333333333,
             "#9c179e"
            ],
            [
             0.4444444444444444,
             "#bd3786"
            ],
            [
             0.5555555555555556,
             "#d8576b"
            ],
            [
             0.6666666666666666,
             "#ed7953"
            ],
            [
             0.7777777777777778,
             "#fb9f3a"
            ],
            [
             0.8888888888888888,
             "#fdca26"
            ],
            [
             1,
             "#f0f921"
            ]
           ],
           "sequentialminus": [
            [
             0,
             "#0d0887"
            ],
            [
             0.1111111111111111,
             "#46039f"
            ],
            [
             0.2222222222222222,
             "#7201a8"
            ],
            [
             0.3333333333333333,
             "#9c179e"
            ],
            [
             0.4444444444444444,
             "#bd3786"
            ],
            [
             0.5555555555555556,
             "#d8576b"
            ],
            [
             0.6666666666666666,
             "#ed7953"
            ],
            [
             0.7777777777777778,
             "#fb9f3a"
            ],
            [
             0.8888888888888888,
             "#fdca26"
            ],
            [
             1,
             "#f0f921"
            ]
           ]
          },
          "colorway": [
           "#636efa",
           "#EF553B",
           "#00cc96",
           "#ab63fa",
           "#FFA15A",
           "#19d3f3",
           "#FF6692",
           "#B6E880",
           "#FF97FF",
           "#FECB52"
          ],
          "font": {
           "color": "#2a3f5f"
          },
          "geo": {
           "bgcolor": "white",
           "lakecolor": "white",
           "landcolor": "#E5ECF6",
           "showlakes": true,
           "showland": true,
           "subunitcolor": "white"
          },
          "hoverlabel": {
           "align": "left"
          },
          "hovermode": "closest",
          "mapbox": {
           "style": "light"
          },
          "paper_bgcolor": "white",
          "plot_bgcolor": "#E5ECF6",
          "polar": {
           "angularaxis": {
            "gridcolor": "white",
            "linecolor": "white",
            "ticks": ""
           },
           "bgcolor": "#E5ECF6",
           "radialaxis": {
            "gridcolor": "white",
            "linecolor": "white",
            "ticks": ""
           }
          },
          "scene": {
           "xaxis": {
            "backgroundcolor": "#E5ECF6",
            "gridcolor": "white",
            "gridwidth": 2,
            "linecolor": "white",
            "showbackground": true,
            "ticks": "",
            "zerolinecolor": "white"
           },
           "yaxis": {
            "backgroundcolor": "#E5ECF6",
            "gridcolor": "white",
            "gridwidth": 2,
            "linecolor": "white",
            "showbackground": true,
            "ticks": "",
            "zerolinecolor": "white"
           },
           "zaxis": {
            "backgroundcolor": "#E5ECF6",
            "gridcolor": "white",
            "gridwidth": 2,
            "linecolor": "white",
            "showbackground": true,
            "ticks": "",
            "zerolinecolor": "white"
           }
          },
          "shapedefaults": {
           "line": {
            "color": "#2a3f5f"
           }
          },
          "ternary": {
           "aaxis": {
            "gridcolor": "white",
            "linecolor": "white",
            "ticks": ""
           },
           "baxis": {
            "gridcolor": "white",
            "linecolor": "white",
            "ticks": ""
           },
           "bgcolor": "#E5ECF6",
           "caxis": {
            "gridcolor": "white",
            "linecolor": "white",
            "ticks": ""
           }
          },
          "title": {
           "x": 0.05
          },
          "xaxis": {
           "automargin": true,
           "gridcolor": "white",
           "linecolor": "white",
           "ticks": "",
           "title": {
            "standoff": 15
           },
           "zerolinecolor": "white",
           "zerolinewidth": 2
          },
          "yaxis": {
           "automargin": true,
           "gridcolor": "white",
           "linecolor": "white",
           "ticks": "",
           "title": {
            "standoff": 15
           },
           "zerolinecolor": "white",
           "zerolinewidth": 2
          }
         }
        },
        "title": {
         "text": "Top 20 Tags in All posts"
        },
        "width": 1000,
        "xaxis": {
         "anchor": "y",
         "categoryarray": [
          "Server-side",
          "Data/AI",
          "iOS",
          "Open Source",
          "data",
          "QA",
          "Tech Management",
          "Android",
          "Armeria",
          "data engineering",
          "LINE Events",
          "Java",
          "frontend",
          "Security Engineering",
          "Web Development",
          "design system",
          "Client-side",
          "Kubernetes",
          "Fintech",
          "Front-end"
         ],
         "categoryorder": "total descending",
         "domain": [
          0,
          1
         ],
         "title": {
          "text": "Tags"
         }
        },
        "yaxis": {
         "anchor": "x",
         "domain": [
          0,
          1
         ],
         "title": {
          "text": "Frequency"
         }
        }
       }
      }
     },
     "metadata": {},
     "output_type": "display_data"
    }
   ],
   "source": [
    "fig = px.bar(\n",
    "    tags_df,\n",
    "    x='Tag',\n",
    "    y='Count',\n",
    "    title='Top 20 Tags in All posts',\n",
    "    labels={'Count': 'Frequency', 'Tag': 'Tags'},\n",
    "    color='Tag',\n",
    ")\n",
    "fig.update_layout(\n",
    "    width = 1000,\n",
    "    height = 800,\n",
    "    xaxis={'categoryorder':'total descending'},\n",
    "    yaxis_title='Frequency'\n",
    ")\n",
    "fig.show()"
   ]
  },
  {
   "cell_type": "markdown",
   "metadata": {},
   "source": [
    "### 기업별 - barchart"
   ]
  },
  {
   "cell_type": "code",
   "execution_count": 10,
   "metadata": {},
   "outputs": [],
   "source": [
    "company_tags_list = new_dummy_df[new_dummy_df['company'] == '쏘카']['tags'].dropna().str.split(', ').tolist()\n",
    "company_tags_list = sum(company_tags_list, [])\n",
    "company_tag_counts = Counter(company_tags_list)\n",
    "company_tags_df = pd.DataFrame(company_tag_counts.most_common(20), columns=['Tag', 'Count'])"
   ]
  },
  {
   "cell_type": "code",
   "execution_count": 11,
   "metadata": {},
   "outputs": [
    {
     "data": {
      "application/vnd.plotly.v1+json": {
       "config": {
        "plotlyServerURL": "https://plot.ly"
       },
       "data": [
        {
         "alignmentgroup": "True",
         "hovertemplate": "Tags=%{y}<br>Frequency=%{x}<extra></extra>",
         "legendgroup": "data",
         "marker": {
          "color": "#636efa",
          "pattern": {
           "shape": ""
          }
         },
         "name": "data",
         "offsetgroup": "data",
         "orientation": "h",
         "showlegend": true,
         "textposition": "auto",
         "type": "bar",
         "x": [
          16
         ],
         "xaxis": "x",
         "y": [
          "data"
         ],
         "yaxis": "y"
        },
        {
         "alignmentgroup": "True",
         "hovertemplate": "Tags=%{y}<br>Frequency=%{x}<extra></extra>",
         "legendgroup": "data engineering",
         "marker": {
          "color": "#EF553B",
          "pattern": {
           "shape": ""
          }
         },
         "name": "data engineering",
         "offsetgroup": "data engineering",
         "orientation": "h",
         "showlegend": true,
         "textposition": "auto",
         "type": "bar",
         "x": [
          10
         ],
         "xaxis": "x",
         "y": [
          "data engineering"
         ],
         "yaxis": "y"
        },
        {
         "alignmentgroup": "True",
         "hovertemplate": "Tags=%{y}<br>Frequency=%{x}<extra></extra>",
         "legendgroup": "design system",
         "marker": {
          "color": "#00cc96",
          "pattern": {
           "shape": ""
          }
         },
         "name": "design system",
         "offsetgroup": "design system",
         "orientation": "h",
         "showlegend": true,
         "textposition": "auto",
         "type": "bar",
         "x": [
          6
         ],
         "xaxis": "x",
         "y": [
          "design system"
         ],
         "yaxis": "y"
        },
        {
         "alignmentgroup": "True",
         "hovertemplate": "Tags=%{y}<br>Frequency=%{x}<extra></extra>",
         "legendgroup": "service engineering",
         "marker": {
          "color": "#ab63fa",
          "pattern": {
           "shape": ""
          }
         },
         "name": "service engineering",
         "offsetgroup": "service engineering",
         "orientation": "h",
         "showlegend": true,
         "textposition": "auto",
         "type": "bar",
         "x": [
          4
         ],
         "xaxis": "x",
         "y": [
          "service engineering"
         ],
         "yaxis": "y"
        },
        {
         "alignmentgroup": "True",
         "hovertemplate": "Tags=%{y}<br>Frequency=%{x}<extra></extra>",
         "legendgroup": "deep learning",
         "marker": {
          "color": "#FFA15A",
          "pattern": {
           "shape": ""
          }
         },
         "name": "deep learning",
         "offsetgroup": "deep learning",
         "orientation": "h",
         "showlegend": true,
         "textposition": "auto",
         "type": "bar",
         "x": [
          4
         ],
         "xaxis": "x",
         "y": [
          "deep learning"
         ],
         "yaxis": "y"
        },
        {
         "alignmentgroup": "True",
         "hovertemplate": "Tags=%{y}<br>Frequency=%{x}<extra></extra>",
         "legendgroup": "Accounts",
         "marker": {
          "color": "#19d3f3",
          "pattern": {
           "shape": ""
          }
         },
         "name": "Accounts",
         "offsetgroup": "Accounts",
         "orientation": "h",
         "showlegend": true,
         "textposition": "auto",
         "type": "bar",
         "x": [
          3
         ],
         "xaxis": "x",
         "y": [
          "Accounts"
         ],
         "yaxis": "y"
        },
        {
         "alignmentgroup": "True",
         "hovertemplate": "Tags=%{y}<br>Frequency=%{x}<extra></extra>",
         "legendgroup": "data platform",
         "marker": {
          "color": "#FF6692",
          "pattern": {
           "shape": ""
          }
         },
         "name": "data platform",
         "offsetgroup": "data platform",
         "orientation": "h",
         "showlegend": true,
         "textposition": "auto",
         "type": "bar",
         "x": [
          3
         ],
         "xaxis": "x",
         "y": [
          "data platform"
         ],
         "yaxis": "y"
        },
        {
         "alignmentgroup": "True",
         "hovertemplate": "Tags=%{y}<br>Frequency=%{x}<extra></extra>",
         "legendgroup": "iot",
         "marker": {
          "color": "#B6E880",
          "pattern": {
           "shape": ""
          }
         },
         "name": "iot",
         "offsetgroup": "iot",
         "orientation": "h",
         "showlegend": true,
         "textposition": "auto",
         "type": "bar",
         "x": [
          3
         ],
         "xaxis": "x",
         "y": [
          "iot"
         ],
         "yaxis": "y"
        },
        {
         "alignmentgroup": "True",
         "hovertemplate": "Tags=%{y}<br>Frequency=%{x}<extra></extra>",
         "legendgroup": "backend",
         "marker": {
          "color": "#FF97FF",
          "pattern": {
           "shape": ""
          }
         },
         "name": "backend",
         "offsetgroup": "backend",
         "orientation": "h",
         "showlegend": true,
         "textposition": "auto",
         "type": "bar",
         "x": [
          2
         ],
         "xaxis": "x",
         "y": [
          "backend"
         ],
         "yaxis": "y"
        },
        {
         "alignmentgroup": "True",
         "hovertemplate": "Tags=%{y}<br>Frequency=%{x}<extra></extra>",
         "legendgroup": "developer",
         "marker": {
          "color": "#FECB52",
          "pattern": {
           "shape": ""
          }
         },
         "name": "developer",
         "offsetgroup": "developer",
         "orientation": "h",
         "showlegend": true,
         "textposition": "auto",
         "type": "bar",
         "x": [
          2
         ],
         "xaxis": "x",
         "y": [
          "developer"
         ],
         "yaxis": "y"
        },
        {
         "alignmentgroup": "True",
         "hovertemplate": "Tags=%{y}<br>Frequency=%{x}<extra></extra>",
         "legendgroup": "iot streaming",
         "marker": {
          "color": "#636efa",
          "pattern": {
           "shape": ""
          }
         },
         "name": "iot streaming",
         "offsetgroup": "iot streaming",
         "orientation": "h",
         "showlegend": true,
         "textposition": "auto",
         "type": "bar",
         "x": [
          2
         ],
         "xaxis": "x",
         "y": [
          "iot streaming"
         ],
         "yaxis": "y"
        },
        {
         "alignmentgroup": "True",
         "hovertemplate": "Tags=%{y}<br>Frequency=%{x}<extra></extra>",
         "legendgroup": "aws",
         "marker": {
          "color": "#EF553B",
          "pattern": {
           "shape": ""
          }
         },
         "name": "aws",
         "offsetgroup": "aws",
         "orientation": "h",
         "showlegend": true,
         "textposition": "auto",
         "type": "bar",
         "x": [
          2
         ],
         "xaxis": "x",
         "y": [
          "aws"
         ],
         "yaxis": "y"
        },
        {
         "alignmentgroup": "True",
         "hovertemplate": "Tags=%{y}<br>Frequency=%{x}<extra></extra>",
         "legendgroup": "frontend",
         "marker": {
          "color": "#00cc96",
          "pattern": {
           "shape": ""
          }
         },
         "name": "frontend",
         "offsetgroup": "frontend",
         "orientation": "h",
         "showlegend": true,
         "textposition": "auto",
         "type": "bar",
         "x": [
          2
         ],
         "xaxis": "x",
         "y": [
          "frontend"
         ],
         "yaxis": "y"
        },
        {
         "alignmentgroup": "True",
         "hovertemplate": "Tags=%{y}<br>Frequency=%{x}<extra></extra>",
         "legendgroup": "onboarding",
         "marker": {
          "color": "#ab63fa",
          "pattern": {
           "shape": ""
          }
         },
         "name": "onboarding",
         "offsetgroup": "onboarding",
         "orientation": "h",
         "showlegend": true,
         "textposition": "auto",
         "type": "bar",
         "x": [
          2
         ],
         "xaxis": "x",
         "y": [
          "onboarding"
         ],
         "yaxis": "y"
        },
        {
         "alignmentgroup": "True",
         "hovertemplate": "Tags=%{y}<br>Frequency=%{x}<extra></extra>",
         "legendgroup": "product",
         "marker": {
          "color": "#FFA15A",
          "pattern": {
           "shape": ""
          }
         },
         "name": "product",
         "offsetgroup": "product",
         "orientation": "h",
         "showlegend": true,
         "textposition": "auto",
         "type": "bar",
         "x": [
          2
         ],
         "xaxis": "x",
         "y": [
          "product"
         ],
         "yaxis": "y"
        },
        {
         "alignmentgroup": "True",
         "hovertemplate": "Tags=%{y}<br>Frequency=%{x}<extra></extra>",
         "legendgroup": "product manager",
         "marker": {
          "color": "#19d3f3",
          "pattern": {
           "shape": ""
          }
         },
         "name": "product manager",
         "offsetgroup": "product manager",
         "orientation": "h",
         "showlegend": true,
         "textposition": "auto",
         "type": "bar",
         "x": [
          2
         ],
         "xaxis": "x",
         "y": [
          "product manager"
         ],
         "yaxis": "y"
        },
        {
         "alignmentgroup": "True",
         "hovertemplate": "Tags=%{y}<br>Frequency=%{x}<extra></extra>",
         "legendgroup": "applied research scientist",
         "marker": {
          "color": "#FF6692",
          "pattern": {
           "shape": ""
          }
         },
         "name": "applied research scientist",
         "offsetgroup": "applied research scientist",
         "orientation": "h",
         "showlegend": true,
         "textposition": "auto",
         "type": "bar",
         "x": [
          2
         ],
         "xaxis": "x",
         "y": [
          "applied research scientist"
         ],
         "yaxis": "y"
        },
        {
         "alignmentgroup": "True",
         "hovertemplate": "Tags=%{y}<br>Frequency=%{x}<extra></extra>",
         "legendgroup": "ai",
         "marker": {
          "color": "#B6E880",
          "pattern": {
           "shape": ""
          }
         },
         "name": "ai",
         "offsetgroup": "ai",
         "orientation": "h",
         "showlegend": true,
         "textposition": "auto",
         "type": "bar",
         "x": [
          2
         ],
         "xaxis": "x",
         "y": [
          "ai"
         ],
         "yaxis": "y"
        },
        {
         "alignmentgroup": "True",
         "hovertemplate": "Tags=%{y}<br>Frequency=%{x}<extra></extra>",
         "legendgroup": "mechanical engineering",
         "marker": {
          "color": "#FF97FF",
          "pattern": {
           "shape": ""
          }
         },
         "name": "mechanical engineering",
         "offsetgroup": "mechanical engineering",
         "orientation": "h",
         "showlegend": true,
         "textposition": "auto",
         "type": "bar",
         "x": [
          2
         ],
         "xaxis": "x",
         "y": [
          "mechanical engineering"
         ],
         "yaxis": "y"
        },
        {
         "alignmentgroup": "True",
         "hovertemplate": "Tags=%{y}<br>Frequency=%{x}<extra></extra>",
         "legendgroup": "chemical engineering",
         "marker": {
          "color": "#FECB52",
          "pattern": {
           "shape": ""
          }
         },
         "name": "chemical engineering",
         "offsetgroup": "chemical engineering",
         "orientation": "h",
         "showlegend": true,
         "textposition": "auto",
         "type": "bar",
         "x": [
          2
         ],
         "xaxis": "x",
         "y": [
          "chemical engineering"
         ],
         "yaxis": "y"
        }
       ],
       "layout": {
        "barmode": "relative",
        "height": 800,
        "legend": {
         "title": {
          "text": "Tags"
         },
         "tracegroupgap": 0
        },
        "template": {
         "data": {
          "bar": [
           {
            "error_x": {
             "color": "#2a3f5f"
            },
            "error_y": {
             "color": "#2a3f5f"
            },
            "marker": {
             "line": {
              "color": "#E5ECF6",
              "width": 0.5
             },
             "pattern": {
              "fillmode": "overlay",
              "size": 10,
              "solidity": 0.2
             }
            },
            "type": "bar"
           }
          ],
          "barpolar": [
           {
            "marker": {
             "line": {
              "color": "#E5ECF6",
              "width": 0.5
             },
             "pattern": {
              "fillmode": "overlay",
              "size": 10,
              "solidity": 0.2
             }
            },
            "type": "barpolar"
           }
          ],
          "carpet": [
           {
            "aaxis": {
             "endlinecolor": "#2a3f5f",
             "gridcolor": "white",
             "linecolor": "white",
             "minorgridcolor": "white",
             "startlinecolor": "#2a3f5f"
            },
            "baxis": {
             "endlinecolor": "#2a3f5f",
             "gridcolor": "white",
             "linecolor": "white",
             "minorgridcolor": "white",
             "startlinecolor": "#2a3f5f"
            },
            "type": "carpet"
           }
          ],
          "choropleth": [
           {
            "colorbar": {
             "outlinewidth": 0,
             "ticks": ""
            },
            "type": "choropleth"
           }
          ],
          "contour": [
           {
            "colorbar": {
             "outlinewidth": 0,
             "ticks": ""
            },
            "colorscale": [
             [
              0,
              "#0d0887"
             ],
             [
              0.1111111111111111,
              "#46039f"
             ],
             [
              0.2222222222222222,
              "#7201a8"
             ],
             [
              0.3333333333333333,
              "#9c179e"
             ],
             [
              0.4444444444444444,
              "#bd3786"
             ],
             [
              0.5555555555555556,
              "#d8576b"
             ],
             [
              0.6666666666666666,
              "#ed7953"
             ],
             [
              0.7777777777777778,
              "#fb9f3a"
             ],
             [
              0.8888888888888888,
              "#fdca26"
             ],
             [
              1,
              "#f0f921"
             ]
            ],
            "type": "contour"
           }
          ],
          "contourcarpet": [
           {
            "colorbar": {
             "outlinewidth": 0,
             "ticks": ""
            },
            "type": "contourcarpet"
           }
          ],
          "heatmap": [
           {
            "colorbar": {
             "outlinewidth": 0,
             "ticks": ""
            },
            "colorscale": [
             [
              0,
              "#0d0887"
             ],
             [
              0.1111111111111111,
              "#46039f"
             ],
             [
              0.2222222222222222,
              "#7201a8"
             ],
             [
              0.3333333333333333,
              "#9c179e"
             ],
             [
              0.4444444444444444,
              "#bd3786"
             ],
             [
              0.5555555555555556,
              "#d8576b"
             ],
             [
              0.6666666666666666,
              "#ed7953"
             ],
             [
              0.7777777777777778,
              "#fb9f3a"
             ],
             [
              0.8888888888888888,
              "#fdca26"
             ],
             [
              1,
              "#f0f921"
             ]
            ],
            "type": "heatmap"
           }
          ],
          "heatmapgl": [
           {
            "colorbar": {
             "outlinewidth": 0,
             "ticks": ""
            },
            "colorscale": [
             [
              0,
              "#0d0887"
             ],
             [
              0.1111111111111111,
              "#46039f"
             ],
             [
              0.2222222222222222,
              "#7201a8"
             ],
             [
              0.3333333333333333,
              "#9c179e"
             ],
             [
              0.4444444444444444,
              "#bd3786"
             ],
             [
              0.5555555555555556,
              "#d8576b"
             ],
             [
              0.6666666666666666,
              "#ed7953"
             ],
             [
              0.7777777777777778,
              "#fb9f3a"
             ],
             [
              0.8888888888888888,
              "#fdca26"
             ],
             [
              1,
              "#f0f921"
             ]
            ],
            "type": "heatmapgl"
           }
          ],
          "histogram": [
           {
            "marker": {
             "pattern": {
              "fillmode": "overlay",
              "size": 10,
              "solidity": 0.2
             }
            },
            "type": "histogram"
           }
          ],
          "histogram2d": [
           {
            "colorbar": {
             "outlinewidth": 0,
             "ticks": ""
            },
            "colorscale": [
             [
              0,
              "#0d0887"
             ],
             [
              0.1111111111111111,
              "#46039f"
             ],
             [
              0.2222222222222222,
              "#7201a8"
             ],
             [
              0.3333333333333333,
              "#9c179e"
             ],
             [
              0.4444444444444444,
              "#bd3786"
             ],
             [
              0.5555555555555556,
              "#d8576b"
             ],
             [
              0.6666666666666666,
              "#ed7953"
             ],
             [
              0.7777777777777778,
              "#fb9f3a"
             ],
             [
              0.8888888888888888,
              "#fdca26"
             ],
             [
              1,
              "#f0f921"
             ]
            ],
            "type": "histogram2d"
           }
          ],
          "histogram2dcontour": [
           {
            "colorbar": {
             "outlinewidth": 0,
             "ticks": ""
            },
            "colorscale": [
             [
              0,
              "#0d0887"
             ],
             [
              0.1111111111111111,
              "#46039f"
             ],
             [
              0.2222222222222222,
              "#7201a8"
             ],
             [
              0.3333333333333333,
              "#9c179e"
             ],
             [
              0.4444444444444444,
              "#bd3786"
             ],
             [
              0.5555555555555556,
              "#d8576b"
             ],
             [
              0.6666666666666666,
              "#ed7953"
             ],
             [
              0.7777777777777778,
              "#fb9f3a"
             ],
             [
              0.8888888888888888,
              "#fdca26"
             ],
             [
              1,
              "#f0f921"
             ]
            ],
            "type": "histogram2dcontour"
           }
          ],
          "mesh3d": [
           {
            "colorbar": {
             "outlinewidth": 0,
             "ticks": ""
            },
            "type": "mesh3d"
           }
          ],
          "parcoords": [
           {
            "line": {
             "colorbar": {
              "outlinewidth": 0,
              "ticks": ""
             }
            },
            "type": "parcoords"
           }
          ],
          "pie": [
           {
            "automargin": true,
            "type": "pie"
           }
          ],
          "scatter": [
           {
            "fillpattern": {
             "fillmode": "overlay",
             "size": 10,
             "solidity": 0.2
            },
            "type": "scatter"
           }
          ],
          "scatter3d": [
           {
            "line": {
             "colorbar": {
              "outlinewidth": 0,
              "ticks": ""
             }
            },
            "marker": {
             "colorbar": {
              "outlinewidth": 0,
              "ticks": ""
             }
            },
            "type": "scatter3d"
           }
          ],
          "scattercarpet": [
           {
            "marker": {
             "colorbar": {
              "outlinewidth": 0,
              "ticks": ""
             }
            },
            "type": "scattercarpet"
           }
          ],
          "scattergeo": [
           {
            "marker": {
             "colorbar": {
              "outlinewidth": 0,
              "ticks": ""
             }
            },
            "type": "scattergeo"
           }
          ],
          "scattergl": [
           {
            "marker": {
             "colorbar": {
              "outlinewidth": 0,
              "ticks": ""
             }
            },
            "type": "scattergl"
           }
          ],
          "scattermapbox": [
           {
            "marker": {
             "colorbar": {
              "outlinewidth": 0,
              "ticks": ""
             }
            },
            "type": "scattermapbox"
           }
          ],
          "scatterpolar": [
           {
            "marker": {
             "colorbar": {
              "outlinewidth": 0,
              "ticks": ""
             }
            },
            "type": "scatterpolar"
           }
          ],
          "scatterpolargl": [
           {
            "marker": {
             "colorbar": {
              "outlinewidth": 0,
              "ticks": ""
             }
            },
            "type": "scatterpolargl"
           }
          ],
          "scatterternary": [
           {
            "marker": {
             "colorbar": {
              "outlinewidth": 0,
              "ticks": ""
             }
            },
            "type": "scatterternary"
           }
          ],
          "surface": [
           {
            "colorbar": {
             "outlinewidth": 0,
             "ticks": ""
            },
            "colorscale": [
             [
              0,
              "#0d0887"
             ],
             [
              0.1111111111111111,
              "#46039f"
             ],
             [
              0.2222222222222222,
              "#7201a8"
             ],
             [
              0.3333333333333333,
              "#9c179e"
             ],
             [
              0.4444444444444444,
              "#bd3786"
             ],
             [
              0.5555555555555556,
              "#d8576b"
             ],
             [
              0.6666666666666666,
              "#ed7953"
             ],
             [
              0.7777777777777778,
              "#fb9f3a"
             ],
             [
              0.8888888888888888,
              "#fdca26"
             ],
             [
              1,
              "#f0f921"
             ]
            ],
            "type": "surface"
           }
          ],
          "table": [
           {
            "cells": {
             "fill": {
              "color": "#EBF0F8"
             },
             "line": {
              "color": "white"
             }
            },
            "header": {
             "fill": {
              "color": "#C8D4E3"
             },
             "line": {
              "color": "white"
             }
            },
            "type": "table"
           }
          ]
         },
         "layout": {
          "annotationdefaults": {
           "arrowcolor": "#2a3f5f",
           "arrowhead": 0,
           "arrowwidth": 1
          },
          "autotypenumbers": "strict",
          "coloraxis": {
           "colorbar": {
            "outlinewidth": 0,
            "ticks": ""
           }
          },
          "colorscale": {
           "diverging": [
            [
             0,
             "#8e0152"
            ],
            [
             0.1,
             "#c51b7d"
            ],
            [
             0.2,
             "#de77ae"
            ],
            [
             0.3,
             "#f1b6da"
            ],
            [
             0.4,
             "#fde0ef"
            ],
            [
             0.5,
             "#f7f7f7"
            ],
            [
             0.6,
             "#e6f5d0"
            ],
            [
             0.7,
             "#b8e186"
            ],
            [
             0.8,
             "#7fbc41"
            ],
            [
             0.9,
             "#4d9221"
            ],
            [
             1,
             "#276419"
            ]
           ],
           "sequential": [
            [
             0,
             "#0d0887"
            ],
            [
             0.1111111111111111,
             "#46039f"
            ],
            [
             0.2222222222222222,
             "#7201a8"
            ],
            [
             0.3333333333333333,
             "#9c179e"
            ],
            [
             0.4444444444444444,
             "#bd3786"
            ],
            [
             0.5555555555555556,
             "#d8576b"
            ],
            [
             0.6666666666666666,
             "#ed7953"
            ],
            [
             0.7777777777777778,
             "#fb9f3a"
            ],
            [
             0.8888888888888888,
             "#fdca26"
            ],
            [
             1,
             "#f0f921"
            ]
           ],
           "sequentialminus": [
            [
             0,
             "#0d0887"
            ],
            [
             0.1111111111111111,
             "#46039f"
            ],
            [
             0.2222222222222222,
             "#7201a8"
            ],
            [
             0.3333333333333333,
             "#9c179e"
            ],
            [
             0.4444444444444444,
             "#bd3786"
            ],
            [
             0.5555555555555556,
             "#d8576b"
            ],
            [
             0.6666666666666666,
             "#ed7953"
            ],
            [
             0.7777777777777778,
             "#fb9f3a"
            ],
            [
             0.8888888888888888,
             "#fdca26"
            ],
            [
             1,
             "#f0f921"
            ]
           ]
          },
          "colorway": [
           "#636efa",
           "#EF553B",
           "#00cc96",
           "#ab63fa",
           "#FFA15A",
           "#19d3f3",
           "#FF6692",
           "#B6E880",
           "#FF97FF",
           "#FECB52"
          ],
          "font": {
           "color": "#2a3f5f"
          },
          "geo": {
           "bgcolor": "white",
           "lakecolor": "white",
           "landcolor": "#E5ECF6",
           "showlakes": true,
           "showland": true,
           "subunitcolor": "white"
          },
          "hoverlabel": {
           "align": "left"
          },
          "hovermode": "closest",
          "mapbox": {
           "style": "light"
          },
          "paper_bgcolor": "white",
          "plot_bgcolor": "#E5ECF6",
          "polar": {
           "angularaxis": {
            "gridcolor": "white",
            "linecolor": "white",
            "ticks": ""
           },
           "bgcolor": "#E5ECF6",
           "radialaxis": {
            "gridcolor": "white",
            "linecolor": "white",
            "ticks": ""
           }
          },
          "scene": {
           "xaxis": {
            "backgroundcolor": "#E5ECF6",
            "gridcolor": "white",
            "gridwidth": 2,
            "linecolor": "white",
            "showbackground": true,
            "ticks": "",
            "zerolinecolor": "white"
           },
           "yaxis": {
            "backgroundcolor": "#E5ECF6",
            "gridcolor": "white",
            "gridwidth": 2,
            "linecolor": "white",
            "showbackground": true,
            "ticks": "",
            "zerolinecolor": "white"
           },
           "zaxis": {
            "backgroundcolor": "#E5ECF6",
            "gridcolor": "white",
            "gridwidth": 2,
            "linecolor": "white",
            "showbackground": true,
            "ticks": "",
            "zerolinecolor": "white"
           }
          },
          "shapedefaults": {
           "line": {
            "color": "#2a3f5f"
           }
          },
          "ternary": {
           "aaxis": {
            "gridcolor": "white",
            "linecolor": "white",
            "ticks": ""
           },
           "baxis": {
            "gridcolor": "white",
            "linecolor": "white",
            "ticks": ""
           },
           "bgcolor": "#E5ECF6",
           "caxis": {
            "gridcolor": "white",
            "linecolor": "white",
            "ticks": ""
           }
          },
          "title": {
           "x": 0.05
          },
          "xaxis": {
           "automargin": true,
           "gridcolor": "white",
           "linecolor": "white",
           "ticks": "",
           "title": {
            "standoff": 15
           },
           "zerolinecolor": "white",
           "zerolinewidth": 2
          },
          "yaxis": {
           "automargin": true,
           "gridcolor": "white",
           "linecolor": "white",
           "ticks": "",
           "title": {
            "standoff": 15
           },
           "zerolinecolor": "white",
           "zerolinewidth": 2
          }
         }
        },
        "title": {
         "text": "Top 20 Tags in All posts"
        },
        "width": 1000,
        "xaxis": {
         "anchor": "y",
         "categoryorder": "total descending",
         "domain": [
          0,
          1
         ],
         "title": {
          "text": "Frequency"
         }
        },
        "yaxis": {
         "anchor": "x",
         "categoryarray": [
          "chemical engineering",
          "mechanical engineering",
          "ai",
          "applied research scientist",
          "product manager",
          "product",
          "onboarding",
          "frontend",
          "aws",
          "iot streaming",
          "developer",
          "backend",
          "iot",
          "data platform",
          "Accounts",
          "deep learning",
          "service engineering",
          "design system",
          "data engineering",
          "data"
         ],
         "categoryorder": "array",
         "domain": [
          0,
          1
         ],
         "title": {
          "text": "Tags"
         }
        }
       }
      }
     },
     "metadata": {},
     "output_type": "display_data"
    }
   ],
   "source": [
    "fig = px.bar(\n",
    "    company_tags_df,\n",
    "    x='Count',\n",
    "    y='Tag',\n",
    "    title='Top 20 Tags in All posts',\n",
    "    labels={'Tag': 'Tags', 'Count': 'Frequency'},  # 축 라벨 정의\n",
    "    color='Tag',  # 태그별 다른 색상으로 표시\n",
    ")\n",
    "fig.update_layout(\n",
    "    width = 1000,\n",
    "    height = 800,\n",
    "    xaxis={'categoryorder':'total descending'},  # 빈도수가 높은 순으로 정렬\n",
    "    yaxis_title='Tags'  # y축 제목 설정\n",
    ")\n",
    "fig.show()"
   ]
  },
  {
   "cell_type": "code",
   "execution_count": 12,
   "metadata": {},
   "outputs": [
    {
     "data": {
      "application/vnd.plotly.v1+json": {
       "config": {
        "plotlyServerURL": "https://plot.ly"
       },
       "data": [
        {
         "alignmentgroup": "True",
         "hovertemplate": "Tags=%{x}<br>Frequency=%{y}<extra></extra>",
         "legendgroup": "data",
         "marker": {
          "color": "#636efa",
          "pattern": {
           "shape": ""
          }
         },
         "name": "data",
         "offsetgroup": "data",
         "orientation": "v",
         "showlegend": true,
         "textposition": "auto",
         "type": "bar",
         "x": [
          "data"
         ],
         "xaxis": "x",
         "y": [
          16
         ],
         "yaxis": "y"
        },
        {
         "alignmentgroup": "True",
         "hovertemplate": "Tags=%{x}<br>Frequency=%{y}<extra></extra>",
         "legendgroup": "data engineering",
         "marker": {
          "color": "#EF553B",
          "pattern": {
           "shape": ""
          }
         },
         "name": "data engineering",
         "offsetgroup": "data engineering",
         "orientation": "v",
         "showlegend": true,
         "textposition": "auto",
         "type": "bar",
         "x": [
          "data engineering"
         ],
         "xaxis": "x",
         "y": [
          10
         ],
         "yaxis": "y"
        },
        {
         "alignmentgroup": "True",
         "hovertemplate": "Tags=%{x}<br>Frequency=%{y}<extra></extra>",
         "legendgroup": "design system",
         "marker": {
          "color": "#00cc96",
          "pattern": {
           "shape": ""
          }
         },
         "name": "design system",
         "offsetgroup": "design system",
         "orientation": "v",
         "showlegend": true,
         "textposition": "auto",
         "type": "bar",
         "x": [
          "design system"
         ],
         "xaxis": "x",
         "y": [
          6
         ],
         "yaxis": "y"
        },
        {
         "alignmentgroup": "True",
         "hovertemplate": "Tags=%{x}<br>Frequency=%{y}<extra></extra>",
         "legendgroup": "service engineering",
         "marker": {
          "color": "#ab63fa",
          "pattern": {
           "shape": ""
          }
         },
         "name": "service engineering",
         "offsetgroup": "service engineering",
         "orientation": "v",
         "showlegend": true,
         "textposition": "auto",
         "type": "bar",
         "x": [
          "service engineering"
         ],
         "xaxis": "x",
         "y": [
          4
         ],
         "yaxis": "y"
        },
        {
         "alignmentgroup": "True",
         "hovertemplate": "Tags=%{x}<br>Frequency=%{y}<extra></extra>",
         "legendgroup": "deep learning",
         "marker": {
          "color": "#FFA15A",
          "pattern": {
           "shape": ""
          }
         },
         "name": "deep learning",
         "offsetgroup": "deep learning",
         "orientation": "v",
         "showlegend": true,
         "textposition": "auto",
         "type": "bar",
         "x": [
          "deep learning"
         ],
         "xaxis": "x",
         "y": [
          4
         ],
         "yaxis": "y"
        },
        {
         "alignmentgroup": "True",
         "hovertemplate": "Tags=%{x}<br>Frequency=%{y}<extra></extra>",
         "legendgroup": "Accounts",
         "marker": {
          "color": "#19d3f3",
          "pattern": {
           "shape": ""
          }
         },
         "name": "Accounts",
         "offsetgroup": "Accounts",
         "orientation": "v",
         "showlegend": true,
         "textposition": "auto",
         "type": "bar",
         "x": [
          "Accounts"
         ],
         "xaxis": "x",
         "y": [
          3
         ],
         "yaxis": "y"
        },
        {
         "alignmentgroup": "True",
         "hovertemplate": "Tags=%{x}<br>Frequency=%{y}<extra></extra>",
         "legendgroup": "data platform",
         "marker": {
          "color": "#FF6692",
          "pattern": {
           "shape": ""
          }
         },
         "name": "data platform",
         "offsetgroup": "data platform",
         "orientation": "v",
         "showlegend": true,
         "textposition": "auto",
         "type": "bar",
         "x": [
          "data platform"
         ],
         "xaxis": "x",
         "y": [
          3
         ],
         "yaxis": "y"
        },
        {
         "alignmentgroup": "True",
         "hovertemplate": "Tags=%{x}<br>Frequency=%{y}<extra></extra>",
         "legendgroup": "iot",
         "marker": {
          "color": "#B6E880",
          "pattern": {
           "shape": ""
          }
         },
         "name": "iot",
         "offsetgroup": "iot",
         "orientation": "v",
         "showlegend": true,
         "textposition": "auto",
         "type": "bar",
         "x": [
          "iot"
         ],
         "xaxis": "x",
         "y": [
          3
         ],
         "yaxis": "y"
        },
        {
         "alignmentgroup": "True",
         "hovertemplate": "Tags=%{x}<br>Frequency=%{y}<extra></extra>",
         "legendgroup": "backend",
         "marker": {
          "color": "#FF97FF",
          "pattern": {
           "shape": ""
          }
         },
         "name": "backend",
         "offsetgroup": "backend",
         "orientation": "v",
         "showlegend": true,
         "textposition": "auto",
         "type": "bar",
         "x": [
          "backend"
         ],
         "xaxis": "x",
         "y": [
          2
         ],
         "yaxis": "y"
        },
        {
         "alignmentgroup": "True",
         "hovertemplate": "Tags=%{x}<br>Frequency=%{y}<extra></extra>",
         "legendgroup": "developer",
         "marker": {
          "color": "#FECB52",
          "pattern": {
           "shape": ""
          }
         },
         "name": "developer",
         "offsetgroup": "developer",
         "orientation": "v",
         "showlegend": true,
         "textposition": "auto",
         "type": "bar",
         "x": [
          "developer"
         ],
         "xaxis": "x",
         "y": [
          2
         ],
         "yaxis": "y"
        },
        {
         "alignmentgroup": "True",
         "hovertemplate": "Tags=%{x}<br>Frequency=%{y}<extra></extra>",
         "legendgroup": "iot streaming",
         "marker": {
          "color": "#636efa",
          "pattern": {
           "shape": ""
          }
         },
         "name": "iot streaming",
         "offsetgroup": "iot streaming",
         "orientation": "v",
         "showlegend": true,
         "textposition": "auto",
         "type": "bar",
         "x": [
          "iot streaming"
         ],
         "xaxis": "x",
         "y": [
          2
         ],
         "yaxis": "y"
        },
        {
         "alignmentgroup": "True",
         "hovertemplate": "Tags=%{x}<br>Frequency=%{y}<extra></extra>",
         "legendgroup": "aws",
         "marker": {
          "color": "#EF553B",
          "pattern": {
           "shape": ""
          }
         },
         "name": "aws",
         "offsetgroup": "aws",
         "orientation": "v",
         "showlegend": true,
         "textposition": "auto",
         "type": "bar",
         "x": [
          "aws"
         ],
         "xaxis": "x",
         "y": [
          2
         ],
         "yaxis": "y"
        },
        {
         "alignmentgroup": "True",
         "hovertemplate": "Tags=%{x}<br>Frequency=%{y}<extra></extra>",
         "legendgroup": "frontend",
         "marker": {
          "color": "#00cc96",
          "pattern": {
           "shape": ""
          }
         },
         "name": "frontend",
         "offsetgroup": "frontend",
         "orientation": "v",
         "showlegend": true,
         "textposition": "auto",
         "type": "bar",
         "x": [
          "frontend"
         ],
         "xaxis": "x",
         "y": [
          2
         ],
         "yaxis": "y"
        },
        {
         "alignmentgroup": "True",
         "hovertemplate": "Tags=%{x}<br>Frequency=%{y}<extra></extra>",
         "legendgroup": "onboarding",
         "marker": {
          "color": "#ab63fa",
          "pattern": {
           "shape": ""
          }
         },
         "name": "onboarding",
         "offsetgroup": "onboarding",
         "orientation": "v",
         "showlegend": true,
         "textposition": "auto",
         "type": "bar",
         "x": [
          "onboarding"
         ],
         "xaxis": "x",
         "y": [
          2
         ],
         "yaxis": "y"
        },
        {
         "alignmentgroup": "True",
         "hovertemplate": "Tags=%{x}<br>Frequency=%{y}<extra></extra>",
         "legendgroup": "product",
         "marker": {
          "color": "#FFA15A",
          "pattern": {
           "shape": ""
          }
         },
         "name": "product",
         "offsetgroup": "product",
         "orientation": "v",
         "showlegend": true,
         "textposition": "auto",
         "type": "bar",
         "x": [
          "product"
         ],
         "xaxis": "x",
         "y": [
          2
         ],
         "yaxis": "y"
        },
        {
         "alignmentgroup": "True",
         "hovertemplate": "Tags=%{x}<br>Frequency=%{y}<extra></extra>",
         "legendgroup": "product manager",
         "marker": {
          "color": "#19d3f3",
          "pattern": {
           "shape": ""
          }
         },
         "name": "product manager",
         "offsetgroup": "product manager",
         "orientation": "v",
         "showlegend": true,
         "textposition": "auto",
         "type": "bar",
         "x": [
          "product manager"
         ],
         "xaxis": "x",
         "y": [
          2
         ],
         "yaxis": "y"
        },
        {
         "alignmentgroup": "True",
         "hovertemplate": "Tags=%{x}<br>Frequency=%{y}<extra></extra>",
         "legendgroup": "applied research scientist",
         "marker": {
          "color": "#FF6692",
          "pattern": {
           "shape": ""
          }
         },
         "name": "applied research scientist",
         "offsetgroup": "applied research scientist",
         "orientation": "v",
         "showlegend": true,
         "textposition": "auto",
         "type": "bar",
         "x": [
          "applied research scientist"
         ],
         "xaxis": "x",
         "y": [
          2
         ],
         "yaxis": "y"
        },
        {
         "alignmentgroup": "True",
         "hovertemplate": "Tags=%{x}<br>Frequency=%{y}<extra></extra>",
         "legendgroup": "ai",
         "marker": {
          "color": "#B6E880",
          "pattern": {
           "shape": ""
          }
         },
         "name": "ai",
         "offsetgroup": "ai",
         "orientation": "v",
         "showlegend": true,
         "textposition": "auto",
         "type": "bar",
         "x": [
          "ai"
         ],
         "xaxis": "x",
         "y": [
          2
         ],
         "yaxis": "y"
        },
        {
         "alignmentgroup": "True",
         "hovertemplate": "Tags=%{x}<br>Frequency=%{y}<extra></extra>",
         "legendgroup": "mechanical engineering",
         "marker": {
          "color": "#FF97FF",
          "pattern": {
           "shape": ""
          }
         },
         "name": "mechanical engineering",
         "offsetgroup": "mechanical engineering",
         "orientation": "v",
         "showlegend": true,
         "textposition": "auto",
         "type": "bar",
         "x": [
          "mechanical engineering"
         ],
         "xaxis": "x",
         "y": [
          2
         ],
         "yaxis": "y"
        },
        {
         "alignmentgroup": "True",
         "hovertemplate": "Tags=%{x}<br>Frequency=%{y}<extra></extra>",
         "legendgroup": "chemical engineering",
         "marker": {
          "color": "#FECB52",
          "pattern": {
           "shape": ""
          }
         },
         "name": "chemical engineering",
         "offsetgroup": "chemical engineering",
         "orientation": "v",
         "showlegend": true,
         "textposition": "auto",
         "type": "bar",
         "x": [
          "chemical engineering"
         ],
         "xaxis": "x",
         "y": [
          2
         ],
         "yaxis": "y"
        }
       ],
       "layout": {
        "barmode": "relative",
        "height": 800,
        "legend": {
         "title": {
          "text": "Tags"
         },
         "tracegroupgap": 0
        },
        "template": {
         "data": {
          "bar": [
           {
            "error_x": {
             "color": "#2a3f5f"
            },
            "error_y": {
             "color": "#2a3f5f"
            },
            "marker": {
             "line": {
              "color": "#E5ECF6",
              "width": 0.5
             },
             "pattern": {
              "fillmode": "overlay",
              "size": 10,
              "solidity": 0.2
             }
            },
            "type": "bar"
           }
          ],
          "barpolar": [
           {
            "marker": {
             "line": {
              "color": "#E5ECF6",
              "width": 0.5
             },
             "pattern": {
              "fillmode": "overlay",
              "size": 10,
              "solidity": 0.2
             }
            },
            "type": "barpolar"
           }
          ],
          "carpet": [
           {
            "aaxis": {
             "endlinecolor": "#2a3f5f",
             "gridcolor": "white",
             "linecolor": "white",
             "minorgridcolor": "white",
             "startlinecolor": "#2a3f5f"
            },
            "baxis": {
             "endlinecolor": "#2a3f5f",
             "gridcolor": "white",
             "linecolor": "white",
             "minorgridcolor": "white",
             "startlinecolor": "#2a3f5f"
            },
            "type": "carpet"
           }
          ],
          "choropleth": [
           {
            "colorbar": {
             "outlinewidth": 0,
             "ticks": ""
            },
            "type": "choropleth"
           }
          ],
          "contour": [
           {
            "colorbar": {
             "outlinewidth": 0,
             "ticks": ""
            },
            "colorscale": [
             [
              0,
              "#0d0887"
             ],
             [
              0.1111111111111111,
              "#46039f"
             ],
             [
              0.2222222222222222,
              "#7201a8"
             ],
             [
              0.3333333333333333,
              "#9c179e"
             ],
             [
              0.4444444444444444,
              "#bd3786"
             ],
             [
              0.5555555555555556,
              "#d8576b"
             ],
             [
              0.6666666666666666,
              "#ed7953"
             ],
             [
              0.7777777777777778,
              "#fb9f3a"
             ],
             [
              0.8888888888888888,
              "#fdca26"
             ],
             [
              1,
              "#f0f921"
             ]
            ],
            "type": "contour"
           }
          ],
          "contourcarpet": [
           {
            "colorbar": {
             "outlinewidth": 0,
             "ticks": ""
            },
            "type": "contourcarpet"
           }
          ],
          "heatmap": [
           {
            "colorbar": {
             "outlinewidth": 0,
             "ticks": ""
            },
            "colorscale": [
             [
              0,
              "#0d0887"
             ],
             [
              0.1111111111111111,
              "#46039f"
             ],
             [
              0.2222222222222222,
              "#7201a8"
             ],
             [
              0.3333333333333333,
              "#9c179e"
             ],
             [
              0.4444444444444444,
              "#bd3786"
             ],
             [
              0.5555555555555556,
              "#d8576b"
             ],
             [
              0.6666666666666666,
              "#ed7953"
             ],
             [
              0.7777777777777778,
              "#fb9f3a"
             ],
             [
              0.8888888888888888,
              "#fdca26"
             ],
             [
              1,
              "#f0f921"
             ]
            ],
            "type": "heatmap"
           }
          ],
          "heatmapgl": [
           {
            "colorbar": {
             "outlinewidth": 0,
             "ticks": ""
            },
            "colorscale": [
             [
              0,
              "#0d0887"
             ],
             [
              0.1111111111111111,
              "#46039f"
             ],
             [
              0.2222222222222222,
              "#7201a8"
             ],
             [
              0.3333333333333333,
              "#9c179e"
             ],
             [
              0.4444444444444444,
              "#bd3786"
             ],
             [
              0.5555555555555556,
              "#d8576b"
             ],
             [
              0.6666666666666666,
              "#ed7953"
             ],
             [
              0.7777777777777778,
              "#fb9f3a"
             ],
             [
              0.8888888888888888,
              "#fdca26"
             ],
             [
              1,
              "#f0f921"
             ]
            ],
            "type": "heatmapgl"
           }
          ],
          "histogram": [
           {
            "marker": {
             "pattern": {
              "fillmode": "overlay",
              "size": 10,
              "solidity": 0.2
             }
            },
            "type": "histogram"
           }
          ],
          "histogram2d": [
           {
            "colorbar": {
             "outlinewidth": 0,
             "ticks": ""
            },
            "colorscale": [
             [
              0,
              "#0d0887"
             ],
             [
              0.1111111111111111,
              "#46039f"
             ],
             [
              0.2222222222222222,
              "#7201a8"
             ],
             [
              0.3333333333333333,
              "#9c179e"
             ],
             [
              0.4444444444444444,
              "#bd3786"
             ],
             [
              0.5555555555555556,
              "#d8576b"
             ],
             [
              0.6666666666666666,
              "#ed7953"
             ],
             [
              0.7777777777777778,
              "#fb9f3a"
             ],
             [
              0.8888888888888888,
              "#fdca26"
             ],
             [
              1,
              "#f0f921"
             ]
            ],
            "type": "histogram2d"
           }
          ],
          "histogram2dcontour": [
           {
            "colorbar": {
             "outlinewidth": 0,
             "ticks": ""
            },
            "colorscale": [
             [
              0,
              "#0d0887"
             ],
             [
              0.1111111111111111,
              "#46039f"
             ],
             [
              0.2222222222222222,
              "#7201a8"
             ],
             [
              0.3333333333333333,
              "#9c179e"
             ],
             [
              0.4444444444444444,
              "#bd3786"
             ],
             [
              0.5555555555555556,
              "#d8576b"
             ],
             [
              0.6666666666666666,
              "#ed7953"
             ],
             [
              0.7777777777777778,
              "#fb9f3a"
             ],
             [
              0.8888888888888888,
              "#fdca26"
             ],
             [
              1,
              "#f0f921"
             ]
            ],
            "type": "histogram2dcontour"
           }
          ],
          "mesh3d": [
           {
            "colorbar": {
             "outlinewidth": 0,
             "ticks": ""
            },
            "type": "mesh3d"
           }
          ],
          "parcoords": [
           {
            "line": {
             "colorbar": {
              "outlinewidth": 0,
              "ticks": ""
             }
            },
            "type": "parcoords"
           }
          ],
          "pie": [
           {
            "automargin": true,
            "type": "pie"
           }
          ],
          "scatter": [
           {
            "fillpattern": {
             "fillmode": "overlay",
             "size": 10,
             "solidity": 0.2
            },
            "type": "scatter"
           }
          ],
          "scatter3d": [
           {
            "line": {
             "colorbar": {
              "outlinewidth": 0,
              "ticks": ""
             }
            },
            "marker": {
             "colorbar": {
              "outlinewidth": 0,
              "ticks": ""
             }
            },
            "type": "scatter3d"
           }
          ],
          "scattercarpet": [
           {
            "marker": {
             "colorbar": {
              "outlinewidth": 0,
              "ticks": ""
             }
            },
            "type": "scattercarpet"
           }
          ],
          "scattergeo": [
           {
            "marker": {
             "colorbar": {
              "outlinewidth": 0,
              "ticks": ""
             }
            },
            "type": "scattergeo"
           }
          ],
          "scattergl": [
           {
            "marker": {
             "colorbar": {
              "outlinewidth": 0,
              "ticks": ""
             }
            },
            "type": "scattergl"
           }
          ],
          "scattermapbox": [
           {
            "marker": {
             "colorbar": {
              "outlinewidth": 0,
              "ticks": ""
             }
            },
            "type": "scattermapbox"
           }
          ],
          "scatterpolar": [
           {
            "marker": {
             "colorbar": {
              "outlinewidth": 0,
              "ticks": ""
             }
            },
            "type": "scatterpolar"
           }
          ],
          "scatterpolargl": [
           {
            "marker": {
             "colorbar": {
              "outlinewidth": 0,
              "ticks": ""
             }
            },
            "type": "scatterpolargl"
           }
          ],
          "scatterternary": [
           {
            "marker": {
             "colorbar": {
              "outlinewidth": 0,
              "ticks": ""
             }
            },
            "type": "scatterternary"
           }
          ],
          "surface": [
           {
            "colorbar": {
             "outlinewidth": 0,
             "ticks": ""
            },
            "colorscale": [
             [
              0,
              "#0d0887"
             ],
             [
              0.1111111111111111,
              "#46039f"
             ],
             [
              0.2222222222222222,
              "#7201a8"
             ],
             [
              0.3333333333333333,
              "#9c179e"
             ],
             [
              0.4444444444444444,
              "#bd3786"
             ],
             [
              0.5555555555555556,
              "#d8576b"
             ],
             [
              0.6666666666666666,
              "#ed7953"
             ],
             [
              0.7777777777777778,
              "#fb9f3a"
             ],
             [
              0.8888888888888888,
              "#fdca26"
             ],
             [
              1,
              "#f0f921"
             ]
            ],
            "type": "surface"
           }
          ],
          "table": [
           {
            "cells": {
             "fill": {
              "color": "#EBF0F8"
             },
             "line": {
              "color": "white"
             }
            },
            "header": {
             "fill": {
              "color": "#C8D4E3"
             },
             "line": {
              "color": "white"
             }
            },
            "type": "table"
           }
          ]
         },
         "layout": {
          "annotationdefaults": {
           "arrowcolor": "#2a3f5f",
           "arrowhead": 0,
           "arrowwidth": 1
          },
          "autotypenumbers": "strict",
          "coloraxis": {
           "colorbar": {
            "outlinewidth": 0,
            "ticks": ""
           }
          },
          "colorscale": {
           "diverging": [
            [
             0,
             "#8e0152"
            ],
            [
             0.1,
             "#c51b7d"
            ],
            [
             0.2,
             "#de77ae"
            ],
            [
             0.3,
             "#f1b6da"
            ],
            [
             0.4,
             "#fde0ef"
            ],
            [
             0.5,
             "#f7f7f7"
            ],
            [
             0.6,
             "#e6f5d0"
            ],
            [
             0.7,
             "#b8e186"
            ],
            [
             0.8,
             "#7fbc41"
            ],
            [
             0.9,
             "#4d9221"
            ],
            [
             1,
             "#276419"
            ]
           ],
           "sequential": [
            [
             0,
             "#0d0887"
            ],
            [
             0.1111111111111111,
             "#46039f"
            ],
            [
             0.2222222222222222,
             "#7201a8"
            ],
            [
             0.3333333333333333,
             "#9c179e"
            ],
            [
             0.4444444444444444,
             "#bd3786"
            ],
            [
             0.5555555555555556,
             "#d8576b"
            ],
            [
             0.6666666666666666,
             "#ed7953"
            ],
            [
             0.7777777777777778,
             "#fb9f3a"
            ],
            [
             0.8888888888888888,
             "#fdca26"
            ],
            [
             1,
             "#f0f921"
            ]
           ],
           "sequentialminus": [
            [
             0,
             "#0d0887"
            ],
            [
             0.1111111111111111,
             "#46039f"
            ],
            [
             0.2222222222222222,
             "#7201a8"
            ],
            [
             0.3333333333333333,
             "#9c179e"
            ],
            [
             0.4444444444444444,
             "#bd3786"
            ],
            [
             0.5555555555555556,
             "#d8576b"
            ],
            [
             0.6666666666666666,
             "#ed7953"
            ],
            [
             0.7777777777777778,
             "#fb9f3a"
            ],
            [
             0.8888888888888888,
             "#fdca26"
            ],
            [
             1,
             "#f0f921"
            ]
           ]
          },
          "colorway": [
           "#636efa",
           "#EF553B",
           "#00cc96",
           "#ab63fa",
           "#FFA15A",
           "#19d3f3",
           "#FF6692",
           "#B6E880",
           "#FF97FF",
           "#FECB52"
          ],
          "font": {
           "color": "#2a3f5f"
          },
          "geo": {
           "bgcolor": "white",
           "lakecolor": "white",
           "landcolor": "#E5ECF6",
           "showlakes": true,
           "showland": true,
           "subunitcolor": "white"
          },
          "hoverlabel": {
           "align": "left"
          },
          "hovermode": "closest",
          "mapbox": {
           "style": "light"
          },
          "paper_bgcolor": "white",
          "plot_bgcolor": "#E5ECF6",
          "polar": {
           "angularaxis": {
            "gridcolor": "white",
            "linecolor": "white",
            "ticks": ""
           },
           "bgcolor": "#E5ECF6",
           "radialaxis": {
            "gridcolor": "white",
            "linecolor": "white",
            "ticks": ""
           }
          },
          "scene": {
           "xaxis": {
            "backgroundcolor": "#E5ECF6",
            "gridcolor": "white",
            "gridwidth": 2,
            "linecolor": "white",
            "showbackground": true,
            "ticks": "",
            "zerolinecolor": "white"
           },
           "yaxis": {
            "backgroundcolor": "#E5ECF6",
            "gridcolor": "white",
            "gridwidth": 2,
            "linecolor": "white",
            "showbackground": true,
            "ticks": "",
            "zerolinecolor": "white"
           },
           "zaxis": {
            "backgroundcolor": "#E5ECF6",
            "gridcolor": "white",
            "gridwidth": 2,
            "linecolor": "white",
            "showbackground": true,
            "ticks": "",
            "zerolinecolor": "white"
           }
          },
          "shapedefaults": {
           "line": {
            "color": "#2a3f5f"
           }
          },
          "ternary": {
           "aaxis": {
            "gridcolor": "white",
            "linecolor": "white",
            "ticks": ""
           },
           "baxis": {
            "gridcolor": "white",
            "linecolor": "white",
            "ticks": ""
           },
           "bgcolor": "#E5ECF6",
           "caxis": {
            "gridcolor": "white",
            "linecolor": "white",
            "ticks": ""
           }
          },
          "title": {
           "x": 0.05
          },
          "xaxis": {
           "automargin": true,
           "gridcolor": "white",
           "linecolor": "white",
           "ticks": "",
           "title": {
            "standoff": 15
           },
           "zerolinecolor": "white",
           "zerolinewidth": 2
          },
          "yaxis": {
           "automargin": true,
           "gridcolor": "white",
           "linecolor": "white",
           "ticks": "",
           "title": {
            "standoff": 15
           },
           "zerolinecolor": "white",
           "zerolinewidth": 2
          }
         }
        },
        "title": {
         "text": "Top 20 Tags in All posts"
        },
        "width": 1000,
        "xaxis": {
         "anchor": "y",
         "categoryarray": [
          "data",
          "data engineering",
          "design system",
          "service engineering",
          "deep learning",
          "Accounts",
          "data platform",
          "iot",
          "backend",
          "developer",
          "iot streaming",
          "aws",
          "frontend",
          "onboarding",
          "product",
          "product manager",
          "applied research scientist",
          "ai",
          "mechanical engineering",
          "chemical engineering"
         ],
         "categoryorder": "total descending",
         "domain": [
          0,
          1
         ],
         "title": {
          "text": "Tags"
         }
        },
        "yaxis": {
         "anchor": "x",
         "domain": [
          0,
          1
         ],
         "title": {
          "text": "Frequency"
         }
        }
       }
      }
     },
     "metadata": {},
     "output_type": "display_data"
    }
   ],
   "source": [
    "fig = px.bar(\n",
    "    company_tags_df,\n",
    "    x='Tag',\n",
    "    y='Count',\n",
    "    title='Top 20 Tags in All posts',\n",
    "    labels={'Count': 'Frequency', 'Tag': 'Tags'},\n",
    "    color='Tag',\n",
    ")\n",
    "fig.update_layout(\n",
    "    width = 1000,\n",
    "    height = 800,\n",
    "    xaxis={'categoryorder':'total descending'},\n",
    "    yaxis_title='Frequency'\n",
    ")\n",
    "fig.show()"
   ]
  },
  {
   "cell_type": "markdown",
   "metadata": {},
   "source": [
    "### 전체 기업 - piechart(태그별 보다는 태그를 카테고리화 해서 시각화하는 것이 좋을 것 같음)"
   ]
  },
  {
   "cell_type": "code",
   "execution_count": 13,
   "metadata": {},
   "outputs": [
    {
     "data": {
      "application/vnd.plotly.v1+json": {
       "config": {
        "plotlyServerURL": "https://plot.ly"
       },
       "data": [
        {
         "domain": {
          "x": [
           0,
           1
          ],
          "y": [
           0,
           1
          ]
         },
         "hovertemplate": "Tag=%{label}<br>Count=%{value}<extra></extra>",
         "labels": [
          "Server-side",
          "Data/AI",
          "iOS",
          "Open Source",
          "data",
          "QA",
          "Tech Management",
          "Android",
          "Armeria",
          "data engineering",
          "LINE Events",
          "Java",
          "frontend",
          "Security Engineering",
          "Web Development",
          "design system",
          "Client-side",
          "Kubernetes",
          "Fintech",
          "Front-end"
         ],
         "legendgroup": "",
         "name": "",
         "showlegend": true,
         "textinfo": "percent+label",
         "type": "pie",
         "values": [
          36,
          23,
          21,
          19,
          16,
          15,
          15,
          14,
          11,
          10,
          10,
          9,
          8,
          8,
          7,
          6,
          6,
          6,
          6,
          5
         ]
        }
       ],
       "layout": {
        "height": 800,
        "legend": {
         "tracegroupgap": 0
        },
        "template": {
         "data": {
          "bar": [
           {
            "error_x": {
             "color": "#2a3f5f"
            },
            "error_y": {
             "color": "#2a3f5f"
            },
            "marker": {
             "line": {
              "color": "#E5ECF6",
              "width": 0.5
             },
             "pattern": {
              "fillmode": "overlay",
              "size": 10,
              "solidity": 0.2
             }
            },
            "type": "bar"
           }
          ],
          "barpolar": [
           {
            "marker": {
             "line": {
              "color": "#E5ECF6",
              "width": 0.5
             },
             "pattern": {
              "fillmode": "overlay",
              "size": 10,
              "solidity": 0.2
             }
            },
            "type": "barpolar"
           }
          ],
          "carpet": [
           {
            "aaxis": {
             "endlinecolor": "#2a3f5f",
             "gridcolor": "white",
             "linecolor": "white",
             "minorgridcolor": "white",
             "startlinecolor": "#2a3f5f"
            },
            "baxis": {
             "endlinecolor": "#2a3f5f",
             "gridcolor": "white",
             "linecolor": "white",
             "minorgridcolor": "white",
             "startlinecolor": "#2a3f5f"
            },
            "type": "carpet"
           }
          ],
          "choropleth": [
           {
            "colorbar": {
             "outlinewidth": 0,
             "ticks": ""
            },
            "type": "choropleth"
           }
          ],
          "contour": [
           {
            "colorbar": {
             "outlinewidth": 0,
             "ticks": ""
            },
            "colorscale": [
             [
              0,
              "#0d0887"
             ],
             [
              0.1111111111111111,
              "#46039f"
             ],
             [
              0.2222222222222222,
              "#7201a8"
             ],
             [
              0.3333333333333333,
              "#9c179e"
             ],
             [
              0.4444444444444444,
              "#bd3786"
             ],
             [
              0.5555555555555556,
              "#d8576b"
             ],
             [
              0.6666666666666666,
              "#ed7953"
             ],
             [
              0.7777777777777778,
              "#fb9f3a"
             ],
             [
              0.8888888888888888,
              "#fdca26"
             ],
             [
              1,
              "#f0f921"
             ]
            ],
            "type": "contour"
           }
          ],
          "contourcarpet": [
           {
            "colorbar": {
             "outlinewidth": 0,
             "ticks": ""
            },
            "type": "contourcarpet"
           }
          ],
          "heatmap": [
           {
            "colorbar": {
             "outlinewidth": 0,
             "ticks": ""
            },
            "colorscale": [
             [
              0,
              "#0d0887"
             ],
             [
              0.1111111111111111,
              "#46039f"
             ],
             [
              0.2222222222222222,
              "#7201a8"
             ],
             [
              0.3333333333333333,
              "#9c179e"
             ],
             [
              0.4444444444444444,
              "#bd3786"
             ],
             [
              0.5555555555555556,
              "#d8576b"
             ],
             [
              0.6666666666666666,
              "#ed7953"
             ],
             [
              0.7777777777777778,
              "#fb9f3a"
             ],
             [
              0.8888888888888888,
              "#fdca26"
             ],
             [
              1,
              "#f0f921"
             ]
            ],
            "type": "heatmap"
           }
          ],
          "heatmapgl": [
           {
            "colorbar": {
             "outlinewidth": 0,
             "ticks": ""
            },
            "colorscale": [
             [
              0,
              "#0d0887"
             ],
             [
              0.1111111111111111,
              "#46039f"
             ],
             [
              0.2222222222222222,
              "#7201a8"
             ],
             [
              0.3333333333333333,
              "#9c179e"
             ],
             [
              0.4444444444444444,
              "#bd3786"
             ],
             [
              0.5555555555555556,
              "#d8576b"
             ],
             [
              0.6666666666666666,
              "#ed7953"
             ],
             [
              0.7777777777777778,
              "#fb9f3a"
             ],
             [
              0.8888888888888888,
              "#fdca26"
             ],
             [
              1,
              "#f0f921"
             ]
            ],
            "type": "heatmapgl"
           }
          ],
          "histogram": [
           {
            "marker": {
             "pattern": {
              "fillmode": "overlay",
              "size": 10,
              "solidity": 0.2
             }
            },
            "type": "histogram"
           }
          ],
          "histogram2d": [
           {
            "colorbar": {
             "outlinewidth": 0,
             "ticks": ""
            },
            "colorscale": [
             [
              0,
              "#0d0887"
             ],
             [
              0.1111111111111111,
              "#46039f"
             ],
             [
              0.2222222222222222,
              "#7201a8"
             ],
             [
              0.3333333333333333,
              "#9c179e"
             ],
             [
              0.4444444444444444,
              "#bd3786"
             ],
             [
              0.5555555555555556,
              "#d8576b"
             ],
             [
              0.6666666666666666,
              "#ed7953"
             ],
             [
              0.7777777777777778,
              "#fb9f3a"
             ],
             [
              0.8888888888888888,
              "#fdca26"
             ],
             [
              1,
              "#f0f921"
             ]
            ],
            "type": "histogram2d"
           }
          ],
          "histogram2dcontour": [
           {
            "colorbar": {
             "outlinewidth": 0,
             "ticks": ""
            },
            "colorscale": [
             [
              0,
              "#0d0887"
             ],
             [
              0.1111111111111111,
              "#46039f"
             ],
             [
              0.2222222222222222,
              "#7201a8"
             ],
             [
              0.3333333333333333,
              "#9c179e"
             ],
             [
              0.4444444444444444,
              "#bd3786"
             ],
             [
              0.5555555555555556,
              "#d8576b"
             ],
             [
              0.6666666666666666,
              "#ed7953"
             ],
             [
              0.7777777777777778,
              "#fb9f3a"
             ],
             [
              0.8888888888888888,
              "#fdca26"
             ],
             [
              1,
              "#f0f921"
             ]
            ],
            "type": "histogram2dcontour"
           }
          ],
          "mesh3d": [
           {
            "colorbar": {
             "outlinewidth": 0,
             "ticks": ""
            },
            "type": "mesh3d"
           }
          ],
          "parcoords": [
           {
            "line": {
             "colorbar": {
              "outlinewidth": 0,
              "ticks": ""
             }
            },
            "type": "parcoords"
           }
          ],
          "pie": [
           {
            "automargin": true,
            "type": "pie"
           }
          ],
          "scatter": [
           {
            "fillpattern": {
             "fillmode": "overlay",
             "size": 10,
             "solidity": 0.2
            },
            "type": "scatter"
           }
          ],
          "scatter3d": [
           {
            "line": {
             "colorbar": {
              "outlinewidth": 0,
              "ticks": ""
             }
            },
            "marker": {
             "colorbar": {
              "outlinewidth": 0,
              "ticks": ""
             }
            },
            "type": "scatter3d"
           }
          ],
          "scattercarpet": [
           {
            "marker": {
             "colorbar": {
              "outlinewidth": 0,
              "ticks": ""
             }
            },
            "type": "scattercarpet"
           }
          ],
          "scattergeo": [
           {
            "marker": {
             "colorbar": {
              "outlinewidth": 0,
              "ticks": ""
             }
            },
            "type": "scattergeo"
           }
          ],
          "scattergl": [
           {
            "marker": {
             "colorbar": {
              "outlinewidth": 0,
              "ticks": ""
             }
            },
            "type": "scattergl"
           }
          ],
          "scattermapbox": [
           {
            "marker": {
             "colorbar": {
              "outlinewidth": 0,
              "ticks": ""
             }
            },
            "type": "scattermapbox"
           }
          ],
          "scatterpolar": [
           {
            "marker": {
             "colorbar": {
              "outlinewidth": 0,
              "ticks": ""
             }
            },
            "type": "scatterpolar"
           }
          ],
          "scatterpolargl": [
           {
            "marker": {
             "colorbar": {
              "outlinewidth": 0,
              "ticks": ""
             }
            },
            "type": "scatterpolargl"
           }
          ],
          "scatterternary": [
           {
            "marker": {
             "colorbar": {
              "outlinewidth": 0,
              "ticks": ""
             }
            },
            "type": "scatterternary"
           }
          ],
          "surface": [
           {
            "colorbar": {
             "outlinewidth": 0,
             "ticks": ""
            },
            "colorscale": [
             [
              0,
              "#0d0887"
             ],
             [
              0.1111111111111111,
              "#46039f"
             ],
             [
              0.2222222222222222,
              "#7201a8"
             ],
             [
              0.3333333333333333,
              "#9c179e"
             ],
             [
              0.4444444444444444,
              "#bd3786"
             ],
             [
              0.5555555555555556,
              "#d8576b"
             ],
             [
              0.6666666666666666,
              "#ed7953"
             ],
             [
              0.7777777777777778,
              "#fb9f3a"
             ],
             [
              0.8888888888888888,
              "#fdca26"
             ],
             [
              1,
              "#f0f921"
             ]
            ],
            "type": "surface"
           }
          ],
          "table": [
           {
            "cells": {
             "fill": {
              "color": "#EBF0F8"
             },
             "line": {
              "color": "white"
             }
            },
            "header": {
             "fill": {
              "color": "#C8D4E3"
             },
             "line": {
              "color": "white"
             }
            },
            "type": "table"
           }
          ]
         },
         "layout": {
          "annotationdefaults": {
           "arrowcolor": "#2a3f5f",
           "arrowhead": 0,
           "arrowwidth": 1
          },
          "autotypenumbers": "strict",
          "coloraxis": {
           "colorbar": {
            "outlinewidth": 0,
            "ticks": ""
           }
          },
          "colorscale": {
           "diverging": [
            [
             0,
             "#8e0152"
            ],
            [
             0.1,
             "#c51b7d"
            ],
            [
             0.2,
             "#de77ae"
            ],
            [
             0.3,
             "#f1b6da"
            ],
            [
             0.4,
             "#fde0ef"
            ],
            [
             0.5,
             "#f7f7f7"
            ],
            [
             0.6,
             "#e6f5d0"
            ],
            [
             0.7,
             "#b8e186"
            ],
            [
             0.8,
             "#7fbc41"
            ],
            [
             0.9,
             "#4d9221"
            ],
            [
             1,
             "#276419"
            ]
           ],
           "sequential": [
            [
             0,
             "#0d0887"
            ],
            [
             0.1111111111111111,
             "#46039f"
            ],
            [
             0.2222222222222222,
             "#7201a8"
            ],
            [
             0.3333333333333333,
             "#9c179e"
            ],
            [
             0.4444444444444444,
             "#bd3786"
            ],
            [
             0.5555555555555556,
             "#d8576b"
            ],
            [
             0.6666666666666666,
             "#ed7953"
            ],
            [
             0.7777777777777778,
             "#fb9f3a"
            ],
            [
             0.8888888888888888,
             "#fdca26"
            ],
            [
             1,
             "#f0f921"
            ]
           ],
           "sequentialminus": [
            [
             0,
             "#0d0887"
            ],
            [
             0.1111111111111111,
             "#46039f"
            ],
            [
             0.2222222222222222,
             "#7201a8"
            ],
            [
             0.3333333333333333,
             "#9c179e"
            ],
            [
             0.4444444444444444,
             "#bd3786"
            ],
            [
             0.5555555555555556,
             "#d8576b"
            ],
            [
             0.6666666666666666,
             "#ed7953"
            ],
            [
             0.7777777777777778,
             "#fb9f3a"
            ],
            [
             0.8888888888888888,
             "#fdca26"
            ],
            [
             1,
             "#f0f921"
            ]
           ]
          },
          "colorway": [
           "#636efa",
           "#EF553B",
           "#00cc96",
           "#ab63fa",
           "#FFA15A",
           "#19d3f3",
           "#FF6692",
           "#B6E880",
           "#FF97FF",
           "#FECB52"
          ],
          "font": {
           "color": "#2a3f5f"
          },
          "geo": {
           "bgcolor": "white",
           "lakecolor": "white",
           "landcolor": "#E5ECF6",
           "showlakes": true,
           "showland": true,
           "subunitcolor": "white"
          },
          "hoverlabel": {
           "align": "left"
          },
          "hovermode": "closest",
          "mapbox": {
           "style": "light"
          },
          "paper_bgcolor": "white",
          "plot_bgcolor": "#E5ECF6",
          "polar": {
           "angularaxis": {
            "gridcolor": "white",
            "linecolor": "white",
            "ticks": ""
           },
           "bgcolor": "#E5ECF6",
           "radialaxis": {
            "gridcolor": "white",
            "linecolor": "white",
            "ticks": ""
           }
          },
          "scene": {
           "xaxis": {
            "backgroundcolor": "#E5ECF6",
            "gridcolor": "white",
            "gridwidth": 2,
            "linecolor": "white",
            "showbackground": true,
            "ticks": "",
            "zerolinecolor": "white"
           },
           "yaxis": {
            "backgroundcolor": "#E5ECF6",
            "gridcolor": "white",
            "gridwidth": 2,
            "linecolor": "white",
            "showbackground": true,
            "ticks": "",
            "zerolinecolor": "white"
           },
           "zaxis": {
            "backgroundcolor": "#E5ECF6",
            "gridcolor": "white",
            "gridwidth": 2,
            "linecolor": "white",
            "showbackground": true,
            "ticks": "",
            "zerolinecolor": "white"
           }
          },
          "shapedefaults": {
           "line": {
            "color": "#2a3f5f"
           }
          },
          "ternary": {
           "aaxis": {
            "gridcolor": "white",
            "linecolor": "white",
            "ticks": ""
           },
           "baxis": {
            "gridcolor": "white",
            "linecolor": "white",
            "ticks": ""
           },
           "bgcolor": "#E5ECF6",
           "caxis": {
            "gridcolor": "white",
            "linecolor": "white",
            "ticks": ""
           }
          },
          "title": {
           "x": 0.05
          },
          "xaxis": {
           "automargin": true,
           "gridcolor": "white",
           "linecolor": "white",
           "ticks": "",
           "title": {
            "standoff": 15
           },
           "zerolinecolor": "white",
           "zerolinewidth": 2
          },
          "yaxis": {
           "automargin": true,
           "gridcolor": "white",
           "linecolor": "white",
           "ticks": "",
           "title": {
            "standoff": 15
           },
           "zerolinecolor": "white",
           "zerolinewidth": 2
          }
         }
        },
        "title": {
         "text": "Top 20 Tags in All posts"
        },
        "width": 1000
       }
      }
     },
     "metadata": {},
     "output_type": "display_data"
    }
   ],
   "source": [
    "tags_list = new_dummy_df['tags'].dropna().str.split(', ').tolist()\n",
    "tags_list = sum(tags_list, [])\n",
    "tag_counts = Counter(tags_list)\n",
    "top_tags = tag_counts.most_common(20)\n",
    "tags_df = pd.DataFrame(top_tags, columns=['Tag', 'Count'])\n",
    "\n",
    "fig = px.pie(\n",
    "    tags_df,\n",
    "    values='Count',  # 파이조각의 value 값\n",
    "    names='Tag',  # 파이조각의 라벨\n",
    "    title='Top 20 Tags in All posts'\n",
    ")\n",
    "fig.update_layout(\n",
    "    width = 1000,\n",
    "    height = 800\n",
    ")\n",
    "fig.update_traces(\n",
    "    textinfo='percent+label',  # 수치와 라벨 표시\n",
    "    # pull=0.2 # 파이 조각들 간의 간격(사용하지 않아도 라벨이 조각안에 정상적으로 보임)\n",
    ")\n",
    "fig.show()"
   ]
  },
  {
   "cell_type": "markdown",
   "metadata": {},
   "source": [
    "### 기업별 - piechart(태그별 보다는 태그를 카테고리화 해서 시각화하는 것이 좋을 것 같음)"
   ]
  },
  {
   "cell_type": "code",
   "execution_count": 14,
   "metadata": {},
   "outputs": [
    {
     "data": {
      "application/vnd.plotly.v1+json": {
       "config": {
        "plotlyServerURL": "https://plot.ly"
       },
       "data": [
        {
         "domain": {
          "x": [
           0,
           1
          ],
          "y": [
           0,
           1
          ]
         },
         "hovertemplate": "Tag=%{label}<br>Count=%{value}<extra></extra>",
         "labels": [
          "data",
          "data engineering",
          "design system",
          "service engineering",
          "deep learning",
          "Accounts",
          "data platform",
          "iot",
          "backend",
          "developer",
          "iot streaming",
          "aws",
          "frontend",
          "onboarding",
          "product",
          "product manager",
          "applied research scientist",
          "ai",
          "mechanical engineering",
          "chemical engineering"
         ],
         "legendgroup": "",
         "name": "",
         "showlegend": true,
         "textinfo": "percent+label",
         "type": "pie",
         "values": [
          16,
          10,
          6,
          4,
          4,
          3,
          3,
          3,
          2,
          2,
          2,
          2,
          2,
          2,
          2,
          2,
          2,
          2,
          2,
          2
         ]
        }
       ],
       "layout": {
        "height": 800,
        "legend": {
         "tracegroupgap": 0
        },
        "template": {
         "data": {
          "bar": [
           {
            "error_x": {
             "color": "#2a3f5f"
            },
            "error_y": {
             "color": "#2a3f5f"
            },
            "marker": {
             "line": {
              "color": "#E5ECF6",
              "width": 0.5
             },
             "pattern": {
              "fillmode": "overlay",
              "size": 10,
              "solidity": 0.2
             }
            },
            "type": "bar"
           }
          ],
          "barpolar": [
           {
            "marker": {
             "line": {
              "color": "#E5ECF6",
              "width": 0.5
             },
             "pattern": {
              "fillmode": "overlay",
              "size": 10,
              "solidity": 0.2
             }
            },
            "type": "barpolar"
           }
          ],
          "carpet": [
           {
            "aaxis": {
             "endlinecolor": "#2a3f5f",
             "gridcolor": "white",
             "linecolor": "white",
             "minorgridcolor": "white",
             "startlinecolor": "#2a3f5f"
            },
            "baxis": {
             "endlinecolor": "#2a3f5f",
             "gridcolor": "white",
             "linecolor": "white",
             "minorgridcolor": "white",
             "startlinecolor": "#2a3f5f"
            },
            "type": "carpet"
           }
          ],
          "choropleth": [
           {
            "colorbar": {
             "outlinewidth": 0,
             "ticks": ""
            },
            "type": "choropleth"
           }
          ],
          "contour": [
           {
            "colorbar": {
             "outlinewidth": 0,
             "ticks": ""
            },
            "colorscale": [
             [
              0,
              "#0d0887"
             ],
             [
              0.1111111111111111,
              "#46039f"
             ],
             [
              0.2222222222222222,
              "#7201a8"
             ],
             [
              0.3333333333333333,
              "#9c179e"
             ],
             [
              0.4444444444444444,
              "#bd3786"
             ],
             [
              0.5555555555555556,
              "#d8576b"
             ],
             [
              0.6666666666666666,
              "#ed7953"
             ],
             [
              0.7777777777777778,
              "#fb9f3a"
             ],
             [
              0.8888888888888888,
              "#fdca26"
             ],
             [
              1,
              "#f0f921"
             ]
            ],
            "type": "contour"
           }
          ],
          "contourcarpet": [
           {
            "colorbar": {
             "outlinewidth": 0,
             "ticks": ""
            },
            "type": "contourcarpet"
           }
          ],
          "heatmap": [
           {
            "colorbar": {
             "outlinewidth": 0,
             "ticks": ""
            },
            "colorscale": [
             [
              0,
              "#0d0887"
             ],
             [
              0.1111111111111111,
              "#46039f"
             ],
             [
              0.2222222222222222,
              "#7201a8"
             ],
             [
              0.3333333333333333,
              "#9c179e"
             ],
             [
              0.4444444444444444,
              "#bd3786"
             ],
             [
              0.5555555555555556,
              "#d8576b"
             ],
             [
              0.6666666666666666,
              "#ed7953"
             ],
             [
              0.7777777777777778,
              "#fb9f3a"
             ],
             [
              0.8888888888888888,
              "#fdca26"
             ],
             [
              1,
              "#f0f921"
             ]
            ],
            "type": "heatmap"
           }
          ],
          "heatmapgl": [
           {
            "colorbar": {
             "outlinewidth": 0,
             "ticks": ""
            },
            "colorscale": [
             [
              0,
              "#0d0887"
             ],
             [
              0.1111111111111111,
              "#46039f"
             ],
             [
              0.2222222222222222,
              "#7201a8"
             ],
             [
              0.3333333333333333,
              "#9c179e"
             ],
             [
              0.4444444444444444,
              "#bd3786"
             ],
             [
              0.5555555555555556,
              "#d8576b"
             ],
             [
              0.6666666666666666,
              "#ed7953"
             ],
             [
              0.7777777777777778,
              "#fb9f3a"
             ],
             [
              0.8888888888888888,
              "#fdca26"
             ],
             [
              1,
              "#f0f921"
             ]
            ],
            "type": "heatmapgl"
           }
          ],
          "histogram": [
           {
            "marker": {
             "pattern": {
              "fillmode": "overlay",
              "size": 10,
              "solidity": 0.2
             }
            },
            "type": "histogram"
           }
          ],
          "histogram2d": [
           {
            "colorbar": {
             "outlinewidth": 0,
             "ticks": ""
            },
            "colorscale": [
             [
              0,
              "#0d0887"
             ],
             [
              0.1111111111111111,
              "#46039f"
             ],
             [
              0.2222222222222222,
              "#7201a8"
             ],
             [
              0.3333333333333333,
              "#9c179e"
             ],
             [
              0.4444444444444444,
              "#bd3786"
             ],
             [
              0.5555555555555556,
              "#d8576b"
             ],
             [
              0.6666666666666666,
              "#ed7953"
             ],
             [
              0.7777777777777778,
              "#fb9f3a"
             ],
             [
              0.8888888888888888,
              "#fdca26"
             ],
             [
              1,
              "#f0f921"
             ]
            ],
            "type": "histogram2d"
           }
          ],
          "histogram2dcontour": [
           {
            "colorbar": {
             "outlinewidth": 0,
             "ticks": ""
            },
            "colorscale": [
             [
              0,
              "#0d0887"
             ],
             [
              0.1111111111111111,
              "#46039f"
             ],
             [
              0.2222222222222222,
              "#7201a8"
             ],
             [
              0.3333333333333333,
              "#9c179e"
             ],
             [
              0.4444444444444444,
              "#bd3786"
             ],
             [
              0.5555555555555556,
              "#d8576b"
             ],
             [
              0.6666666666666666,
              "#ed7953"
             ],
             [
              0.7777777777777778,
              "#fb9f3a"
             ],
             [
              0.8888888888888888,
              "#fdca26"
             ],
             [
              1,
              "#f0f921"
             ]
            ],
            "type": "histogram2dcontour"
           }
          ],
          "mesh3d": [
           {
            "colorbar": {
             "outlinewidth": 0,
             "ticks": ""
            },
            "type": "mesh3d"
           }
          ],
          "parcoords": [
           {
            "line": {
             "colorbar": {
              "outlinewidth": 0,
              "ticks": ""
             }
            },
            "type": "parcoords"
           }
          ],
          "pie": [
           {
            "automargin": true,
            "type": "pie"
           }
          ],
          "scatter": [
           {
            "fillpattern": {
             "fillmode": "overlay",
             "size": 10,
             "solidity": 0.2
            },
            "type": "scatter"
           }
          ],
          "scatter3d": [
           {
            "line": {
             "colorbar": {
              "outlinewidth": 0,
              "ticks": ""
             }
            },
            "marker": {
             "colorbar": {
              "outlinewidth": 0,
              "ticks": ""
             }
            },
            "type": "scatter3d"
           }
          ],
          "scattercarpet": [
           {
            "marker": {
             "colorbar": {
              "outlinewidth": 0,
              "ticks": ""
             }
            },
            "type": "scattercarpet"
           }
          ],
          "scattergeo": [
           {
            "marker": {
             "colorbar": {
              "outlinewidth": 0,
              "ticks": ""
             }
            },
            "type": "scattergeo"
           }
          ],
          "scattergl": [
           {
            "marker": {
             "colorbar": {
              "outlinewidth": 0,
              "ticks": ""
             }
            },
            "type": "scattergl"
           }
          ],
          "scattermapbox": [
           {
            "marker": {
             "colorbar": {
              "outlinewidth": 0,
              "ticks": ""
             }
            },
            "type": "scattermapbox"
           }
          ],
          "scatterpolar": [
           {
            "marker": {
             "colorbar": {
              "outlinewidth": 0,
              "ticks": ""
             }
            },
            "type": "scatterpolar"
           }
          ],
          "scatterpolargl": [
           {
            "marker": {
             "colorbar": {
              "outlinewidth": 0,
              "ticks": ""
             }
            },
            "type": "scatterpolargl"
           }
          ],
          "scatterternary": [
           {
            "marker": {
             "colorbar": {
              "outlinewidth": 0,
              "ticks": ""
             }
            },
            "type": "scatterternary"
           }
          ],
          "surface": [
           {
            "colorbar": {
             "outlinewidth": 0,
             "ticks": ""
            },
            "colorscale": [
             [
              0,
              "#0d0887"
             ],
             [
              0.1111111111111111,
              "#46039f"
             ],
             [
              0.2222222222222222,
              "#7201a8"
             ],
             [
              0.3333333333333333,
              "#9c179e"
             ],
             [
              0.4444444444444444,
              "#bd3786"
             ],
             [
              0.5555555555555556,
              "#d8576b"
             ],
             [
              0.6666666666666666,
              "#ed7953"
             ],
             [
              0.7777777777777778,
              "#fb9f3a"
             ],
             [
              0.8888888888888888,
              "#fdca26"
             ],
             [
              1,
              "#f0f921"
             ]
            ],
            "type": "surface"
           }
          ],
          "table": [
           {
            "cells": {
             "fill": {
              "color": "#EBF0F8"
             },
             "line": {
              "color": "white"
             }
            },
            "header": {
             "fill": {
              "color": "#C8D4E3"
             },
             "line": {
              "color": "white"
             }
            },
            "type": "table"
           }
          ]
         },
         "layout": {
          "annotationdefaults": {
           "arrowcolor": "#2a3f5f",
           "arrowhead": 0,
           "arrowwidth": 1
          },
          "autotypenumbers": "strict",
          "coloraxis": {
           "colorbar": {
            "outlinewidth": 0,
            "ticks": ""
           }
          },
          "colorscale": {
           "diverging": [
            [
             0,
             "#8e0152"
            ],
            [
             0.1,
             "#c51b7d"
            ],
            [
             0.2,
             "#de77ae"
            ],
            [
             0.3,
             "#f1b6da"
            ],
            [
             0.4,
             "#fde0ef"
            ],
            [
             0.5,
             "#f7f7f7"
            ],
            [
             0.6,
             "#e6f5d0"
            ],
            [
             0.7,
             "#b8e186"
            ],
            [
             0.8,
             "#7fbc41"
            ],
            [
             0.9,
             "#4d9221"
            ],
            [
             1,
             "#276419"
            ]
           ],
           "sequential": [
            [
             0,
             "#0d0887"
            ],
            [
             0.1111111111111111,
             "#46039f"
            ],
            [
             0.2222222222222222,
             "#7201a8"
            ],
            [
             0.3333333333333333,
             "#9c179e"
            ],
            [
             0.4444444444444444,
             "#bd3786"
            ],
            [
             0.5555555555555556,
             "#d8576b"
            ],
            [
             0.6666666666666666,
             "#ed7953"
            ],
            [
             0.7777777777777778,
             "#fb9f3a"
            ],
            [
             0.8888888888888888,
             "#fdca26"
            ],
            [
             1,
             "#f0f921"
            ]
           ],
           "sequentialminus": [
            [
             0,
             "#0d0887"
            ],
            [
             0.1111111111111111,
             "#46039f"
            ],
            [
             0.2222222222222222,
             "#7201a8"
            ],
            [
             0.3333333333333333,
             "#9c179e"
            ],
            [
             0.4444444444444444,
             "#bd3786"
            ],
            [
             0.5555555555555556,
             "#d8576b"
            ],
            [
             0.6666666666666666,
             "#ed7953"
            ],
            [
             0.7777777777777778,
             "#fb9f3a"
            ],
            [
             0.8888888888888888,
             "#fdca26"
            ],
            [
             1,
             "#f0f921"
            ]
           ]
          },
          "colorway": [
           "#636efa",
           "#EF553B",
           "#00cc96",
           "#ab63fa",
           "#FFA15A",
           "#19d3f3",
           "#FF6692",
           "#B6E880",
           "#FF97FF",
           "#FECB52"
          ],
          "font": {
           "color": "#2a3f5f"
          },
          "geo": {
           "bgcolor": "white",
           "lakecolor": "white",
           "landcolor": "#E5ECF6",
           "showlakes": true,
           "showland": true,
           "subunitcolor": "white"
          },
          "hoverlabel": {
           "align": "left"
          },
          "hovermode": "closest",
          "mapbox": {
           "style": "light"
          },
          "paper_bgcolor": "white",
          "plot_bgcolor": "#E5ECF6",
          "polar": {
           "angularaxis": {
            "gridcolor": "white",
            "linecolor": "white",
            "ticks": ""
           },
           "bgcolor": "#E5ECF6",
           "radialaxis": {
            "gridcolor": "white",
            "linecolor": "white",
            "ticks": ""
           }
          },
          "scene": {
           "xaxis": {
            "backgroundcolor": "#E5ECF6",
            "gridcolor": "white",
            "gridwidth": 2,
            "linecolor": "white",
            "showbackground": true,
            "ticks": "",
            "zerolinecolor": "white"
           },
           "yaxis": {
            "backgroundcolor": "#E5ECF6",
            "gridcolor": "white",
            "gridwidth": 2,
            "linecolor": "white",
            "showbackground": true,
            "ticks": "",
            "zerolinecolor": "white"
           },
           "zaxis": {
            "backgroundcolor": "#E5ECF6",
            "gridcolor": "white",
            "gridwidth": 2,
            "linecolor": "white",
            "showbackground": true,
            "ticks": "",
            "zerolinecolor": "white"
           }
          },
          "shapedefaults": {
           "line": {
            "color": "#2a3f5f"
           }
          },
          "ternary": {
           "aaxis": {
            "gridcolor": "white",
            "linecolor": "white",
            "ticks": ""
           },
           "baxis": {
            "gridcolor": "white",
            "linecolor": "white",
            "ticks": ""
           },
           "bgcolor": "#E5ECF6",
           "caxis": {
            "gridcolor": "white",
            "linecolor": "white",
            "ticks": ""
           }
          },
          "title": {
           "x": 0.05
          },
          "xaxis": {
           "automargin": true,
           "gridcolor": "white",
           "linecolor": "white",
           "ticks": "",
           "title": {
            "standoff": 15
           },
           "zerolinecolor": "white",
           "zerolinewidth": 2
          },
          "yaxis": {
           "automargin": true,
           "gridcolor": "white",
           "linecolor": "white",
           "ticks": "",
           "title": {
            "standoff": 15
           },
           "zerolinecolor": "white",
           "zerolinewidth": 2
          }
         }
        },
        "title": {
         "text": "Top 20 Tags in company posts"
        },
        "width": 1000
       }
      }
     },
     "metadata": {},
     "output_type": "display_data"
    }
   ],
   "source": [
    "company_tags_list = new_dummy_df[new_dummy_df['company'] == '쏘카']['tags'].dropna().str.split(', ').tolist()\n",
    "company_tags_list = sum(company_tags_list, [])\n",
    "company_tag_counts = Counter(company_tags_list)\n",
    "company_top_tags = company_tag_counts.most_common(20)\n",
    "company_top_tags = pd.DataFrame(company_top_tags, columns=['Tag', 'Count'])\n",
    "\n",
    "fig = px.pie(\n",
    "    company_top_tags,\n",
    "    values='Count',\n",
    "    names='Tag',\n",
    "    title='Top 20 Tags in company posts'\n",
    ")\n",
    "fig.update_layout(\n",
    "    width = 1000,\n",
    "    height = 800\n",
    ")\n",
    "fig.update_traces(\n",
    "    textinfo='percent+label',\n",
    ")\n",
    "fig.show()"
   ]
  },
  {
   "cell_type": "markdown",
   "metadata": {},
   "source": [
    "### 전체 기업 - 워드클라우드"
   ]
  },
  {
   "cell_type": "code",
   "execution_count": 15,
   "metadata": {},
   "outputs": [
    {
     "data": {
      "application/vnd.plotly.v1+json": {
       "config": {
        "plotlyServerURL": "https://plot.ly"
       },
       "data": [
        {
         "hovertemplate": "x: %{x}<br>y: %{y}<extra></extra>",
         "name": "0",
         "source": "data:image/png;base64,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",
         "type": "image",
         "xaxis": "x",
         "yaxis": "y"
        }
       ],
       "layout": {
        "coloraxis": {
         "showscale": false
        },
        "height": 600,
        "margin": {
         "t": 60
        },
        "template": {
         "data": {
          "bar": [
           {
            "error_x": {
             "color": "#2a3f5f"
            },
            "error_y": {
             "color": "#2a3f5f"
            },
            "marker": {
             "line": {
              "color": "#E5ECF6",
              "width": 0.5
             },
             "pattern": {
              "fillmode": "overlay",
              "size": 10,
              "solidity": 0.2
             }
            },
            "type": "bar"
           }
          ],
          "barpolar": [
           {
            "marker": {
             "line": {
              "color": "#E5ECF6",
              "width": 0.5
             },
             "pattern": {
              "fillmode": "overlay",
              "size": 10,
              "solidity": 0.2
             }
            },
            "type": "barpolar"
           }
          ],
          "carpet": [
           {
            "aaxis": {
             "endlinecolor": "#2a3f5f",
             "gridcolor": "white",
             "linecolor": "white",
             "minorgridcolor": "white",
             "startlinecolor": "#2a3f5f"
            },
            "baxis": {
             "endlinecolor": "#2a3f5f",
             "gridcolor": "white",
             "linecolor": "white",
             "minorgridcolor": "white",
             "startlinecolor": "#2a3f5f"
            },
            "type": "carpet"
           }
          ],
          "choropleth": [
           {
            "colorbar": {
             "outlinewidth": 0,
             "ticks": ""
            },
            "type": "choropleth"
           }
          ],
          "contour": [
           {
            "colorbar": {
             "outlinewidth": 0,
             "ticks": ""
            },
            "colorscale": [
             [
              0,
              "#0d0887"
             ],
             [
              0.1111111111111111,
              "#46039f"
             ],
             [
              0.2222222222222222,
              "#7201a8"
             ],
             [
              0.3333333333333333,
              "#9c179e"
             ],
             [
              0.4444444444444444,
              "#bd3786"
             ],
             [
              0.5555555555555556,
              "#d8576b"
             ],
             [
              0.6666666666666666,
              "#ed7953"
             ],
             [
              0.7777777777777778,
              "#fb9f3a"
             ],
             [
              0.8888888888888888,
              "#fdca26"
             ],
             [
              1,
              "#f0f921"
             ]
            ],
            "type": "contour"
           }
          ],
          "contourcarpet": [
           {
            "colorbar": {
             "outlinewidth": 0,
             "ticks": ""
            },
            "type": "contourcarpet"
           }
          ],
          "heatmap": [
           {
            "colorbar": {
             "outlinewidth": 0,
             "ticks": ""
            },
            "colorscale": [
             [
              0,
              "#0d0887"
             ],
             [
              0.1111111111111111,
              "#46039f"
             ],
             [
              0.2222222222222222,
              "#7201a8"
             ],
             [
              0.3333333333333333,
              "#9c179e"
             ],
             [
              0.4444444444444444,
              "#bd3786"
             ],
             [
              0.5555555555555556,
              "#d8576b"
             ],
             [
              0.6666666666666666,
              "#ed7953"
             ],
             [
              0.7777777777777778,
              "#fb9f3a"
             ],
             [
              0.8888888888888888,
              "#fdca26"
             ],
             [
              1,
              "#f0f921"
             ]
            ],
            "type": "heatmap"
           }
          ],
          "heatmapgl": [
           {
            "colorbar": {
             "outlinewidth": 0,
             "ticks": ""
            },
            "colorscale": [
             [
              0,
              "#0d0887"
             ],
             [
              0.1111111111111111,
              "#46039f"
             ],
             [
              0.2222222222222222,
              "#7201a8"
             ],
             [
              0.3333333333333333,
              "#9c179e"
             ],
             [
              0.4444444444444444,
              "#bd3786"
             ],
             [
              0.5555555555555556,
              "#d8576b"
             ],
             [
              0.6666666666666666,
              "#ed7953"
             ],
             [
              0.7777777777777778,
              "#fb9f3a"
             ],
             [
              0.8888888888888888,
              "#fdca26"
             ],
             [
              1,
              "#f0f921"
             ]
            ],
            "type": "heatmapgl"
           }
          ],
          "histogram": [
           {
            "marker": {
             "pattern": {
              "fillmode": "overlay",
              "size": 10,
              "solidity": 0.2
             }
            },
            "type": "histogram"
           }
          ],
          "histogram2d": [
           {
            "colorbar": {
             "outlinewidth": 0,
             "ticks": ""
            },
            "colorscale": [
             [
              0,
              "#0d0887"
             ],
             [
              0.1111111111111111,
              "#46039f"
             ],
             [
              0.2222222222222222,
              "#7201a8"
             ],
             [
              0.3333333333333333,
              "#9c179e"
             ],
             [
              0.4444444444444444,
              "#bd3786"
             ],
             [
              0.5555555555555556,
              "#d8576b"
             ],
             [
              0.6666666666666666,
              "#ed7953"
             ],
             [
              0.7777777777777778,
              "#fb9f3a"
             ],
             [
              0.8888888888888888,
              "#fdca26"
             ],
             [
              1,
              "#f0f921"
             ]
            ],
            "type": "histogram2d"
           }
          ],
          "histogram2dcontour": [
           {
            "colorbar": {
             "outlinewidth": 0,
             "ticks": ""
            },
            "colorscale": [
             [
              0,
              "#0d0887"
             ],
             [
              0.1111111111111111,
              "#46039f"
             ],
             [
              0.2222222222222222,
              "#7201a8"
             ],
             [
              0.3333333333333333,
              "#9c179e"
             ],
             [
              0.4444444444444444,
              "#bd3786"
             ],
             [
              0.5555555555555556,
              "#d8576b"
             ],
             [
              0.6666666666666666,
              "#ed7953"
             ],
             [
              0.7777777777777778,
              "#fb9f3a"
             ],
             [
              0.8888888888888888,
              "#fdca26"
             ],
             [
              1,
              "#f0f921"
             ]
            ],
            "type": "histogram2dcontour"
           }
          ],
          "mesh3d": [
           {
            "colorbar": {
             "outlinewidth": 0,
             "ticks": ""
            },
            "type": "mesh3d"
           }
          ],
          "parcoords": [
           {
            "line": {
             "colorbar": {
              "outlinewidth": 0,
              "ticks": ""
             }
            },
            "type": "parcoords"
           }
          ],
          "pie": [
           {
            "automargin": true,
            "type": "pie"
           }
          ],
          "scatter": [
           {
            "fillpattern": {
             "fillmode": "overlay",
             "size": 10,
             "solidity": 0.2
            },
            "type": "scatter"
           }
          ],
          "scatter3d": [
           {
            "line": {
             "colorbar": {
              "outlinewidth": 0,
              "ticks": ""
             }
            },
            "marker": {
             "colorbar": {
              "outlinewidth": 0,
              "ticks": ""
             }
            },
            "type": "scatter3d"
           }
          ],
          "scattercarpet": [
           {
            "marker": {
             "colorbar": {
              "outlinewidth": 0,
              "ticks": ""
             }
            },
            "type": "scattercarpet"
           }
          ],
          "scattergeo": [
           {
            "marker": {
             "colorbar": {
              "outlinewidth": 0,
              "ticks": ""
             }
            },
            "type": "scattergeo"
           }
          ],
          "scattergl": [
           {
            "marker": {
             "colorbar": {
              "outlinewidth": 0,
              "ticks": ""
             }
            },
            "type": "scattergl"
           }
          ],
          "scattermapbox": [
           {
            "marker": {
             "colorbar": {
              "outlinewidth": 0,
              "ticks": ""
             }
            },
            "type": "scattermapbox"
           }
          ],
          "scatterpolar": [
           {
            "marker": {
             "colorbar": {
              "outlinewidth": 0,
              "ticks": ""
             }
            },
            "type": "scatterpolar"
           }
          ],
          "scatterpolargl": [
           {
            "marker": {
             "colorbar": {
              "outlinewidth": 0,
              "ticks": ""
             }
            },
            "type": "scatterpolargl"
           }
          ],
          "scatterternary": [
           {
            "marker": {
             "colorbar": {
              "outlinewidth": 0,
              "ticks": ""
             }
            },
            "type": "scatterternary"
           }
          ],
          "surface": [
           {
            "colorbar": {
             "outlinewidth": 0,
             "ticks": ""
            },
            "colorscale": [
             [
              0,
              "#0d0887"
             ],
             [
              0.1111111111111111,
              "#46039f"
             ],
             [
              0.2222222222222222,
              "#7201a8"
             ],
             [
              0.3333333333333333,
              "#9c179e"
             ],
             [
              0.4444444444444444,
              "#bd3786"
             ],
             [
              0.5555555555555556,
              "#d8576b"
             ],
             [
              0.6666666666666666,
              "#ed7953"
             ],
             [
              0.7777777777777778,
              "#fb9f3a"
             ],
             [
              0.8888888888888888,
              "#fdca26"
             ],
             [
              1,
              "#f0f921"
             ]
            ],
            "type": "surface"
           }
          ],
          "table": [
           {
            "cells": {
             "fill": {
              "color": "#EBF0F8"
             },
             "line": {
              "color": "white"
             }
            },
            "header": {
             "fill": {
              "color": "#C8D4E3"
             },
             "line": {
              "color": "white"
             }
            },
            "type": "table"
           }
          ]
         },
         "layout": {
          "annotationdefaults": {
           "arrowcolor": "#2a3f5f",
           "arrowhead": 0,
           "arrowwidth": 1
          },
          "autotypenumbers": "strict",
          "coloraxis": {
           "colorbar": {
            "outlinewidth": 0,
            "ticks": ""
           }
          },
          "colorscale": {
           "diverging": [
            [
             0,
             "#8e0152"
            ],
            [
             0.1,
             "#c51b7d"
            ],
            [
             0.2,
             "#de77ae"
            ],
            [
             0.3,
             "#f1b6da"
            ],
            [
             0.4,
             "#fde0ef"
            ],
            [
             0.5,
             "#f7f7f7"
            ],
            [
             0.6,
             "#e6f5d0"
            ],
            [
             0.7,
             "#b8e186"
            ],
            [
             0.8,
             "#7fbc41"
            ],
            [
             0.9,
             "#4d9221"
            ],
            [
             1,
             "#276419"
            ]
           ],
           "sequential": [
            [
             0,
             "#0d0887"
            ],
            [
             0.1111111111111111,
             "#46039f"
            ],
            [
             0.2222222222222222,
             "#7201a8"
            ],
            [
             0.3333333333333333,
             "#9c179e"
            ],
            [
             0.4444444444444444,
             "#bd3786"
            ],
            [
             0.5555555555555556,
             "#d8576b"
            ],
            [
             0.6666666666666666,
             "#ed7953"
            ],
            [
             0.7777777777777778,
             "#fb9f3a"
            ],
            [
             0.8888888888888888,
             "#fdca26"
            ],
            [
             1,
             "#f0f921"
            ]
           ],
           "sequentialminus": [
            [
             0,
             "#0d0887"
            ],
            [
             0.1111111111111111,
             "#46039f"
            ],
            [
             0.2222222222222222,
             "#7201a8"
            ],
            [
             0.3333333333333333,
             "#9c179e"
            ],
            [
             0.4444444444444444,
             "#bd3786"
            ],
            [
             0.5555555555555556,
             "#d8576b"
            ],
            [
             0.6666666666666666,
             "#ed7953"
            ],
            [
             0.7777777777777778,
             "#fb9f3a"
            ],
            [
             0.8888888888888888,
             "#fdca26"
            ],
            [
             1,
             "#f0f921"
            ]
           ]
          },
          "colorway": [
           "#636efa",
           "#EF553B",
           "#00cc96",
           "#ab63fa",
           "#FFA15A",
           "#19d3f3",
           "#FF6692",
           "#B6E880",
           "#FF97FF",
           "#FECB52"
          ],
          "font": {
           "color": "#2a3f5f"
          },
          "geo": {
           "bgcolor": "white",
           "lakecolor": "white",
           "landcolor": "#E5ECF6",
           "showlakes": true,
           "showland": true,
           "subunitcolor": "white"
          },
          "hoverlabel": {
           "align": "left"
          },
          "hovermode": "closest",
          "mapbox": {
           "style": "light"
          },
          "paper_bgcolor": "white",
          "plot_bgcolor": "#E5ECF6",
          "polar": {
           "angularaxis": {
            "gridcolor": "white",
            "linecolor": "white",
            "ticks": ""
           },
           "bgcolor": "#E5ECF6",
           "radialaxis": {
            "gridcolor": "white",
            "linecolor": "white",
            "ticks": ""
           }
          },
          "scene": {
           "xaxis": {
            "backgroundcolor": "#E5ECF6",
            "gridcolor": "white",
            "gridwidth": 2,
            "linecolor": "white",
            "showbackground": true,
            "ticks": "",
            "zerolinecolor": "white"
           },
           "yaxis": {
            "backgroundcolor": "#E5ECF6",
            "gridcolor": "white",
            "gridwidth": 2,
            "linecolor": "white",
            "showbackground": true,
            "ticks": "",
            "zerolinecolor": "white"
           },
           "zaxis": {
            "backgroundcolor": "#E5ECF6",
            "gridcolor": "white",
            "gridwidth": 2,
            "linecolor": "white",
            "showbackground": true,
            "ticks": "",
            "zerolinecolor": "white"
           }
          },
          "shapedefaults": {
           "line": {
            "color": "#2a3f5f"
           }
          },
          "ternary": {
           "aaxis": {
            "gridcolor": "white",
            "linecolor": "white",
            "ticks": ""
           },
           "baxis": {
            "gridcolor": "white",
            "linecolor": "white",
            "ticks": ""
           },
           "bgcolor": "#E5ECF6",
           "caxis": {
            "gridcolor": "white",
            "linecolor": "white",
            "ticks": ""
           }
          },
          "title": {
           "x": 0.05
          },
          "xaxis": {
           "automargin": true,
           "gridcolor": "white",
           "linecolor": "white",
           "ticks": "",
           "title": {
            "standoff": 15
           },
           "zerolinecolor": "white",
           "zerolinewidth": 2
          },
          "yaxis": {
           "automargin": true,
           "gridcolor": "white",
           "linecolor": "white",
           "ticks": "",
           "title": {
            "standoff": 15
           },
           "zerolinecolor": "white",
           "zerolinewidth": 2
          }
         }
        },
        "width": 1000,
        "xaxis": {
         "anchor": "y",
         "domain": [
          0,
          1
         ],
         "showticklabels": false
        },
        "yaxis": {
         "anchor": "x",
         "domain": [
          0,
          1
         ],
         "showticklabels": false
        }
       }
      }
     },
     "metadata": {},
     "output_type": "display_data"
    }
   ],
   "source": [
    "# 저장되는 해상도가 좋아야 화질이 안깨지는 것 같음\n",
    "# 꼭 plotly로 읽어와서 시각화할 이유가 없어 보임\n",
    "tags_list = new_dummy_df['tags'].dropna().str.split(', ').tolist()\n",
    "tags_list = sum(tags_list, [])\n",
    "tag_counts = Counter(tags_list)\n",
    "wordcloud = WordCloud(width=800, height=400, background_color='white').generate_from_frequencies(tag_counts)\n",
    "\n",
    "# 워드클라우드 이미지 저장\n",
    "wordcloud.to_file('./all_wc.png')\n",
    "\n",
    "# plotly로 저장된 이미지 시각화\n",
    "img = plt.imread('./all_wc.png')\n",
    "fig = px.imshow(img)\n",
    "fig.update_layout(\n",
    "    width = 1000,\n",
    "    height = 600,\n",
    "    coloraxis_showscale=False # 색상 축 스케일 표시 안 함\n",
    ")\n",
    "# x,y 라벨 숨김\n",
    "fig.update_xaxes(showticklabels=False)\n",
    "fig.update_yaxes(showticklabels=False)\n",
    "fig.show()"
   ]
  },
  {
   "cell_type": "markdown",
   "metadata": {},
   "source": [
    "### 기업별 - 워드클라우드"
   ]
  },
  {
   "cell_type": "code",
   "execution_count": 16,
   "metadata": {},
   "outputs": [
    {
     "data": {
      "application/vnd.plotly.v1+json": {
       "config": {
        "plotlyServerURL": "https://plot.ly"
       },
       "data": [
        {
         "hovertemplate": "x: %{x}<br>y: %{y}<extra></extra>",
         "name": "0",
         "source": "data:image/png;base64,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",
         "type": "image",
         "xaxis": "x",
         "yaxis": "y"
        }
       ],
       "layout": {
        "coloraxis": {
         "showscale": false
        },
        "height": 600,
        "margin": {
         "t": 60
        },
        "template": {
         "data": {
          "bar": [
           {
            "error_x": {
             "color": "#2a3f5f"
            },
            "error_y": {
             "color": "#2a3f5f"
            },
            "marker": {
             "line": {
              "color": "#E5ECF6",
              "width": 0.5
             },
             "pattern": {
              "fillmode": "overlay",
              "size": 10,
              "solidity": 0.2
             }
            },
            "type": "bar"
           }
          ],
          "barpolar": [
           {
            "marker": {
             "line": {
              "color": "#E5ECF6",
              "width": 0.5
             },
             "pattern": {
              "fillmode": "overlay",
              "size": 10,
              "solidity": 0.2
             }
            },
            "type": "barpolar"
           }
          ],
          "carpet": [
           {
            "aaxis": {
             "endlinecolor": "#2a3f5f",
             "gridcolor": "white",
             "linecolor": "white",
             "minorgridcolor": "white",
             "startlinecolor": "#2a3f5f"
            },
            "baxis": {
             "endlinecolor": "#2a3f5f",
             "gridcolor": "white",
             "linecolor": "white",
             "minorgridcolor": "white",
             "startlinecolor": "#2a3f5f"
            },
            "type": "carpet"
           }
          ],
          "choropleth": [
           {
            "colorbar": {
             "outlinewidth": 0,
             "ticks": ""
            },
            "type": "choropleth"
           }
          ],
          "contour": [
           {
            "colorbar": {
             "outlinewidth": 0,
             "ticks": ""
            },
            "colorscale": [
             [
              0,
              "#0d0887"
             ],
             [
              0.1111111111111111,
              "#46039f"
             ],
             [
              0.2222222222222222,
              "#7201a8"
             ],
             [
              0.3333333333333333,
              "#9c179e"
             ],
             [
              0.4444444444444444,
              "#bd3786"
             ],
             [
              0.5555555555555556,
              "#d8576b"
             ],
             [
              0.6666666666666666,
              "#ed7953"
             ],
             [
              0.7777777777777778,
              "#fb9f3a"
             ],
             [
              0.8888888888888888,
              "#fdca26"
             ],
             [
              1,
              "#f0f921"
             ]
            ],
            "type": "contour"
           }
          ],
          "contourcarpet": [
           {
            "colorbar": {
             "outlinewidth": 0,
             "ticks": ""
            },
            "type": "contourcarpet"
           }
          ],
          "heatmap": [
           {
            "colorbar": {
             "outlinewidth": 0,
             "ticks": ""
            },
            "colorscale": [
             [
              0,
              "#0d0887"
             ],
             [
              0.1111111111111111,
              "#46039f"
             ],
             [
              0.2222222222222222,
              "#7201a8"
             ],
             [
              0.3333333333333333,
              "#9c179e"
             ],
             [
              0.4444444444444444,
              "#bd3786"
             ],
             [
              0.5555555555555556,
              "#d8576b"
             ],
             [
              0.6666666666666666,
              "#ed7953"
             ],
             [
              0.7777777777777778,
              "#fb9f3a"
             ],
             [
              0.8888888888888888,
              "#fdca26"
             ],
             [
              1,
              "#f0f921"
             ]
            ],
            "type": "heatmap"
           }
          ],
          "heatmapgl": [
           {
            "colorbar": {
             "outlinewidth": 0,
             "ticks": ""
            },
            "colorscale": [
             [
              0,
              "#0d0887"
             ],
             [
              0.1111111111111111,
              "#46039f"
             ],
             [
              0.2222222222222222,
              "#7201a8"
             ],
             [
              0.3333333333333333,
              "#9c179e"
             ],
             [
              0.4444444444444444,
              "#bd3786"
             ],
             [
              0.5555555555555556,
              "#d8576b"
             ],
             [
              0.6666666666666666,
              "#ed7953"
             ],
             [
              0.7777777777777778,
              "#fb9f3a"
             ],
             [
              0.8888888888888888,
              "#fdca26"
             ],
             [
              1,
              "#f0f921"
             ]
            ],
            "type": "heatmapgl"
           }
          ],
          "histogram": [
           {
            "marker": {
             "pattern": {
              "fillmode": "overlay",
              "size": 10,
              "solidity": 0.2
             }
            },
            "type": "histogram"
           }
          ],
          "histogram2d": [
           {
            "colorbar": {
             "outlinewidth": 0,
             "ticks": ""
            },
            "colorscale": [
             [
              0,
              "#0d0887"
             ],
             [
              0.1111111111111111,
              "#46039f"
             ],
             [
              0.2222222222222222,
              "#7201a8"
             ],
             [
              0.3333333333333333,
              "#9c179e"
             ],
             [
              0.4444444444444444,
              "#bd3786"
             ],
             [
              0.5555555555555556,
              "#d8576b"
             ],
             [
              0.6666666666666666,
              "#ed7953"
             ],
             [
              0.7777777777777778,
              "#fb9f3a"
             ],
             [
              0.8888888888888888,
              "#fdca26"
             ],
             [
              1,
              "#f0f921"
             ]
            ],
            "type": "histogram2d"
           }
          ],
          "histogram2dcontour": [
           {
            "colorbar": {
             "outlinewidth": 0,
             "ticks": ""
            },
            "colorscale": [
             [
              0,
              "#0d0887"
             ],
             [
              0.1111111111111111,
              "#46039f"
             ],
             [
              0.2222222222222222,
              "#7201a8"
             ],
             [
              0.3333333333333333,
              "#9c179e"
             ],
             [
              0.4444444444444444,
              "#bd3786"
             ],
             [
              0.5555555555555556,
              "#d8576b"
             ],
             [
              0.6666666666666666,
              "#ed7953"
             ],
             [
              0.7777777777777778,
              "#fb9f3a"
             ],
             [
              0.8888888888888888,
              "#fdca26"
             ],
             [
              1,
              "#f0f921"
             ]
            ],
            "type": "histogram2dcontour"
           }
          ],
          "mesh3d": [
           {
            "colorbar": {
             "outlinewidth": 0,
             "ticks": ""
            },
            "type": "mesh3d"
           }
          ],
          "parcoords": [
           {
            "line": {
             "colorbar": {
              "outlinewidth": 0,
              "ticks": ""
             }
            },
            "type": "parcoords"
           }
          ],
          "pie": [
           {
            "automargin": true,
            "type": "pie"
           }
          ],
          "scatter": [
           {
            "fillpattern": {
             "fillmode": "overlay",
             "size": 10,
             "solidity": 0.2
            },
            "type": "scatter"
           }
          ],
          "scatter3d": [
           {
            "line": {
             "colorbar": {
              "outlinewidth": 0,
              "ticks": ""
             }
            },
            "marker": {
             "colorbar": {
              "outlinewidth": 0,
              "ticks": ""
             }
            },
            "type": "scatter3d"
           }
          ],
          "scattercarpet": [
           {
            "marker": {
             "colorbar": {
              "outlinewidth": 0,
              "ticks": ""
             }
            },
            "type": "scattercarpet"
           }
          ],
          "scattergeo": [
           {
            "marker": {
             "colorbar": {
              "outlinewidth": 0,
              "ticks": ""
             }
            },
            "type": "scattergeo"
           }
          ],
          "scattergl": [
           {
            "marker": {
             "colorbar": {
              "outlinewidth": 0,
              "ticks": ""
             }
            },
            "type": "scattergl"
           }
          ],
          "scattermapbox": [
           {
            "marker": {
             "colorbar": {
              "outlinewidth": 0,
              "ticks": ""
             }
            },
            "type": "scattermapbox"
           }
          ],
          "scatterpolar": [
           {
            "marker": {
             "colorbar": {
              "outlinewidth": 0,
              "ticks": ""
             }
            },
            "type": "scatterpolar"
           }
          ],
          "scatterpolargl": [
           {
            "marker": {
             "colorbar": {
              "outlinewidth": 0,
              "ticks": ""
             }
            },
            "type": "scatterpolargl"
           }
          ],
          "scatterternary": [
           {
            "marker": {
             "colorbar": {
              "outlinewidth": 0,
              "ticks": ""
             }
            },
            "type": "scatterternary"
           }
          ],
          "surface": [
           {
            "colorbar": {
             "outlinewidth": 0,
             "ticks": ""
            },
            "colorscale": [
             [
              0,
              "#0d0887"
             ],
             [
              0.1111111111111111,
              "#46039f"
             ],
             [
              0.2222222222222222,
              "#7201a8"
             ],
             [
              0.3333333333333333,
              "#9c179e"
             ],
             [
              0.4444444444444444,
              "#bd3786"
             ],
             [
              0.5555555555555556,
              "#d8576b"
             ],
             [
              0.6666666666666666,
              "#ed7953"
             ],
             [
              0.7777777777777778,
              "#fb9f3a"
             ],
             [
              0.8888888888888888,
              "#fdca26"
             ],
             [
              1,
              "#f0f921"
             ]
            ],
            "type": "surface"
           }
          ],
          "table": [
           {
            "cells": {
             "fill": {
              "color": "#EBF0F8"
             },
             "line": {
              "color": "white"
             }
            },
            "header": {
             "fill": {
              "color": "#C8D4E3"
             },
             "line": {
              "color": "white"
             }
            },
            "type": "table"
           }
          ]
         },
         "layout": {
          "annotationdefaults": {
           "arrowcolor": "#2a3f5f",
           "arrowhead": 0,
           "arrowwidth": 1
          },
          "autotypenumbers": "strict",
          "coloraxis": {
           "colorbar": {
            "outlinewidth": 0,
            "ticks": ""
           }
          },
          "colorscale": {
           "diverging": [
            [
             0,
             "#8e0152"
            ],
            [
             0.1,
             "#c51b7d"
            ],
            [
             0.2,
             "#de77ae"
            ],
            [
             0.3,
             "#f1b6da"
            ],
            [
             0.4,
             "#fde0ef"
            ],
            [
             0.5,
             "#f7f7f7"
            ],
            [
             0.6,
             "#e6f5d0"
            ],
            [
             0.7,
             "#b8e186"
            ],
            [
             0.8,
             "#7fbc41"
            ],
            [
             0.9,
             "#4d9221"
            ],
            [
             1,
             "#276419"
            ]
           ],
           "sequential": [
            [
             0,
             "#0d0887"
            ],
            [
             0.1111111111111111,
             "#46039f"
            ],
            [
             0.2222222222222222,
             "#7201a8"
            ],
            [
             0.3333333333333333,
             "#9c179e"
            ],
            [
             0.4444444444444444,
             "#bd3786"
            ],
            [
             0.5555555555555556,
             "#d8576b"
            ],
            [
             0.6666666666666666,
             "#ed7953"
            ],
            [
             0.7777777777777778,
             "#fb9f3a"
            ],
            [
             0.8888888888888888,
             "#fdca26"
            ],
            [
             1,
             "#f0f921"
            ]
           ],
           "sequentialminus": [
            [
             0,
             "#0d0887"
            ],
            [
             0.1111111111111111,
             "#46039f"
            ],
            [
             0.2222222222222222,
             "#7201a8"
            ],
            [
             0.3333333333333333,
             "#9c179e"
            ],
            [
             0.4444444444444444,
             "#bd3786"
            ],
            [
             0.5555555555555556,
             "#d8576b"
            ],
            [
             0.6666666666666666,
             "#ed7953"
            ],
            [
             0.7777777777777778,
             "#fb9f3a"
            ],
            [
             0.8888888888888888,
             "#fdca26"
            ],
            [
             1,
             "#f0f921"
            ]
           ]
          },
          "colorway": [
           "#636efa",
           "#EF553B",
           "#00cc96",
           "#ab63fa",
           "#FFA15A",
           "#19d3f3",
           "#FF6692",
           "#B6E880",
           "#FF97FF",
           "#FECB52"
          ],
          "font": {
           "color": "#2a3f5f"
          },
          "geo": {
           "bgcolor": "white",
           "lakecolor": "white",
           "landcolor": "#E5ECF6",
           "showlakes": true,
           "showland": true,
           "subunitcolor": "white"
          },
          "hoverlabel": {
           "align": "left"
          },
          "hovermode": "closest",
          "mapbox": {
           "style": "light"
          },
          "paper_bgcolor": "white",
          "plot_bgcolor": "#E5ECF6",
          "polar": {
           "angularaxis": {
            "gridcolor": "white",
            "linecolor": "white",
            "ticks": ""
           },
           "bgcolor": "#E5ECF6",
           "radialaxis": {
            "gridcolor": "white",
            "linecolor": "white",
            "ticks": ""
           }
          },
          "scene": {
           "xaxis": {
            "backgroundcolor": "#E5ECF6",
            "gridcolor": "white",
            "gridwidth": 2,
            "linecolor": "white",
            "showbackground": true,
            "ticks": "",
            "zerolinecolor": "white"
           },
           "yaxis": {
            "backgroundcolor": "#E5ECF6",
            "gridcolor": "white",
            "gridwidth": 2,
            "linecolor": "white",
            "showbackground": true,
            "ticks": "",
            "zerolinecolor": "white"
           },
           "zaxis": {
            "backgroundcolor": "#E5ECF6",
            "gridcolor": "white",
            "gridwidth": 2,
            "linecolor": "white",
            "showbackground": true,
            "ticks": "",
            "zerolinecolor": "white"
           }
          },
          "shapedefaults": {
           "line": {
            "color": "#2a3f5f"
           }
          },
          "ternary": {
           "aaxis": {
            "gridcolor": "white",
            "linecolor": "white",
            "ticks": ""
           },
           "baxis": {
            "gridcolor": "white",
            "linecolor": "white",
            "ticks": ""
           },
           "bgcolor": "#E5ECF6",
           "caxis": {
            "gridcolor": "white",
            "linecolor": "white",
            "ticks": ""
           }
          },
          "title": {
           "x": 0.05
          },
          "xaxis": {
           "automargin": true,
           "gridcolor": "white",
           "linecolor": "white",
           "ticks": "",
           "title": {
            "standoff": 15
           },
           "zerolinecolor": "white",
           "zerolinewidth": 2
          },
          "yaxis": {
           "automargin": true,
           "gridcolor": "white",
           "linecolor": "white",
           "ticks": "",
           "title": {
            "standoff": 15
           },
           "zerolinecolor": "white",
           "zerolinewidth": 2
          }
         }
        },
        "width": 1000,
        "xaxis": {
         "anchor": "y",
         "domain": [
          0,
          1
         ],
         "showticklabels": false
        },
        "yaxis": {
         "anchor": "x",
         "domain": [
          0,
          1
         ],
         "showticklabels": false
        }
       }
      }
     },
     "metadata": {},
     "output_type": "display_data"
    }
   ],
   "source": [
    "company_tags_list = new_dummy_df[new_dummy_df['company'] == '쏘카']['tags'].dropna().str.split(', ').tolist()\n",
    "company_tags_list = sum(company_tags_list, [])\n",
    "company_tag_counts = Counter(company_tags_list)\n",
    "wordcloud = WordCloud(width=800, height=400, background_color='white').generate_from_frequencies(company_tag_counts)\n",
    "wordcloud.to_file('./socar_wc.png')\n",
    "\n",
    "img = plt.imread('./socar_wc.png')\n",
    "fig = px.imshow(img)\n",
    "fig.update_layout(\n",
    "    width = 1000,\n",
    "    height = 600,\n",
    "    coloraxis_showscale=False\n",
    ")\n",
    "fig.update_xaxes(showticklabels=False)\n",
    "fig.update_yaxes(showticklabels=False)\n",
    "fig.show()"
   ]
  },
  {
   "cell_type": "markdown",
   "metadata": {},
   "source": [
    "## 시간에 따른 작성글 추이 시각화"
   ]
  },
  {
   "cell_type": "markdown",
   "metadata": {},
   "source": [
    "### 전체 기업 - linechart"
   ]
  },
  {
   "cell_type": "code",
   "execution_count": 17,
   "metadata": {},
   "outputs": [
    {
     "name": "stderr",
     "output_type": "stream",
     "text": [
      "C:\\Users\\romk\\AppData\\Local\\Temp\\ipykernel_42124\\2965775299.py:2: SettingWithCopyWarning:\n",
      "\n",
      "\n",
      "A value is trying to be set on a copy of a slice from a DataFrame.\n",
      "Try using .loc[row_indexer,col_indexer] = value instead\n",
      "\n",
      "See the caveats in the documentation: https://pandas.pydata.org/pandas-docs/stable/user_guide/indexing.html#returning-a-view-versus-a-copy\n",
      "\n",
      "C:\\Users\\romk\\AppData\\Local\\Temp\\ipykernel_42124\\2965775299.py:3: SettingWithCopyWarning:\n",
      "\n",
      "\n",
      "A value is trying to be set on a copy of a slice from a DataFrame.\n",
      "Try using .loc[row_indexer,col_indexer] = value instead\n",
      "\n",
      "See the caveats in the documentation: https://pandas.pydata.org/pandas-docs/stable/user_guide/indexing.html#returning-a-view-versus-a-copy\n",
      "\n"
     ]
    },
    {
     "data": {
      "application/vnd.plotly.v1+json": {
       "config": {
        "plotlyServerURL": "https://plot.ly"
       },
       "data": [
        {
         "hovertemplate": "company=라인<br>날짜=%{x}<br>게시글 수=%{y}<extra></extra>",
         "legendgroup": "라인",
         "line": {
          "color": "#636efa",
          "dash": "solid"
         },
         "marker": {
          "symbol": "circle"
         },
         "mode": "lines",
         "name": "라인",
         "orientation": "v",
         "showlegend": true,
         "type": "scatter",
         "x": [
          "2020-01",
          "2020-02",
          "2020-03",
          "2020-04",
          "2020-05",
          "2020-06",
          "2020-07",
          "2020-08",
          "2020-09",
          "2020-10",
          "2020-11",
          "2020-12",
          "2021-01",
          "2021-02",
          "2021-03",
          "2021-04",
          "2021-05",
          "2021-06",
          "2021-07",
          "2021-08",
          "2021-09",
          "2021-10",
          "2021-11",
          "2021-12",
          "2022-01",
          "2022-02",
          "2022-03",
          "2022-04",
          "2022-05",
          "2022-06",
          "2022-07",
          "2022-08",
          "2022-09",
          "2022-10",
          "2022-11",
          "2022-12",
          "2023-01",
          "2023-02",
          "2023-03",
          "2023-04",
          "2023-05",
          "2023-06",
          "2023-07",
          "2023-08",
          "2023-10"
         ],
         "xaxis": "x",
         "y": [
          6,
          7,
          5,
          6,
          5,
          5,
          3,
          3,
          4,
          1,
          2,
          9,
          5,
          1,
          4,
          5,
          4,
          4,
          4,
          3,
          2,
          3,
          3,
          3,
          7,
          4,
          6,
          6,
          5,
          2,
          3,
          4,
          5,
          5,
          2,
          5,
          3,
          2,
          4,
          3,
          6,
          4,
          2,
          4,
          1
         ],
         "yaxis": "y"
        },
        {
         "hovertemplate": "company=쏘카<br>날짜=%{x}<br>게시글 수=%{y}<extra></extra>",
         "legendgroup": "쏘카",
         "line": {
          "color": "#EF553B",
          "dash": "solid"
         },
         "marker": {
          "symbol": "circle"
         },
         "mode": "lines",
         "name": "쏘카",
         "orientation": "v",
         "showlegend": true,
         "type": "scatter",
         "x": [
          "2019-07",
          "2019-09",
          "2020-01",
          "2020-02",
          "2020-03",
          "2020-06",
          "2020-07",
          "2020-08",
          "2020-09",
          "2021-01",
          "2021-03",
          "2021-06",
          "2021-07",
          "2021-08",
          "2021-10",
          "2021-11",
          "2021-12",
          "2022-01",
          "2022-02",
          "2022-03",
          "2022-04",
          "2022-06",
          "2022-07",
          "2022-08",
          "2022-09",
          "2022-10",
          "2022-11",
          "2023-01",
          "2023-02",
          "2023-05",
          "2023-06",
          "2023-07"
         ],
         "xaxis": "x",
         "y": [
          1,
          1,
          1,
          1,
          1,
          1,
          3,
          1,
          1,
          1,
          1,
          1,
          1,
          2,
          1,
          1,
          1,
          2,
          5,
          3,
          2,
          2,
          1,
          1,
          1,
          1,
          1,
          3,
          2,
          1,
          1,
          2
         ],
         "yaxis": "y"
        }
       ],
       "layout": {
        "height": 700,
        "legend": {
         "title": {
          "text": "company"
         },
         "tracegroupgap": 0
        },
        "template": {
         "data": {
          "bar": [
           {
            "error_x": {
             "color": "#2a3f5f"
            },
            "error_y": {
             "color": "#2a3f5f"
            },
            "marker": {
             "line": {
              "color": "#E5ECF6",
              "width": 0.5
             },
             "pattern": {
              "fillmode": "overlay",
              "size": 10,
              "solidity": 0.2
             }
            },
            "type": "bar"
           }
          ],
          "barpolar": [
           {
            "marker": {
             "line": {
              "color": "#E5ECF6",
              "width": 0.5
             },
             "pattern": {
              "fillmode": "overlay",
              "size": 10,
              "solidity": 0.2
             }
            },
            "type": "barpolar"
           }
          ],
          "carpet": [
           {
            "aaxis": {
             "endlinecolor": "#2a3f5f",
             "gridcolor": "white",
             "linecolor": "white",
             "minorgridcolor": "white",
             "startlinecolor": "#2a3f5f"
            },
            "baxis": {
             "endlinecolor": "#2a3f5f",
             "gridcolor": "white",
             "linecolor": "white",
             "minorgridcolor": "white",
             "startlinecolor": "#2a3f5f"
            },
            "type": "carpet"
           }
          ],
          "choropleth": [
           {
            "colorbar": {
             "outlinewidth": 0,
             "ticks": ""
            },
            "type": "choropleth"
           }
          ],
          "contour": [
           {
            "colorbar": {
             "outlinewidth": 0,
             "ticks": ""
            },
            "colorscale": [
             [
              0,
              "#0d0887"
             ],
             [
              0.1111111111111111,
              "#46039f"
             ],
             [
              0.2222222222222222,
              "#7201a8"
             ],
             [
              0.3333333333333333,
              "#9c179e"
             ],
             [
              0.4444444444444444,
              "#bd3786"
             ],
             [
              0.5555555555555556,
              "#d8576b"
             ],
             [
              0.6666666666666666,
              "#ed7953"
             ],
             [
              0.7777777777777778,
              "#fb9f3a"
             ],
             [
              0.8888888888888888,
              "#fdca26"
             ],
             [
              1,
              "#f0f921"
             ]
            ],
            "type": "contour"
           }
          ],
          "contourcarpet": [
           {
            "colorbar": {
             "outlinewidth": 0,
             "ticks": ""
            },
            "type": "contourcarpet"
           }
          ],
          "heatmap": [
           {
            "colorbar": {
             "outlinewidth": 0,
             "ticks": ""
            },
            "colorscale": [
             [
              0,
              "#0d0887"
             ],
             [
              0.1111111111111111,
              "#46039f"
             ],
             [
              0.2222222222222222,
              "#7201a8"
             ],
             [
              0.3333333333333333,
              "#9c179e"
             ],
             [
              0.4444444444444444,
              "#bd3786"
             ],
             [
              0.5555555555555556,
              "#d8576b"
             ],
             [
              0.6666666666666666,
              "#ed7953"
             ],
             [
              0.7777777777777778,
              "#fb9f3a"
             ],
             [
              0.8888888888888888,
              "#fdca26"
             ],
             [
              1,
              "#f0f921"
             ]
            ],
            "type": "heatmap"
           }
          ],
          "heatmapgl": [
           {
            "colorbar": {
             "outlinewidth": 0,
             "ticks": ""
            },
            "colorscale": [
             [
              0,
              "#0d0887"
             ],
             [
              0.1111111111111111,
              "#46039f"
             ],
             [
              0.2222222222222222,
              "#7201a8"
             ],
             [
              0.3333333333333333,
              "#9c179e"
             ],
             [
              0.4444444444444444,
              "#bd3786"
             ],
             [
              0.5555555555555556,
              "#d8576b"
             ],
             [
              0.6666666666666666,
              "#ed7953"
             ],
             [
              0.7777777777777778,
              "#fb9f3a"
             ],
             [
              0.8888888888888888,
              "#fdca26"
             ],
             [
              1,
              "#f0f921"
             ]
            ],
            "type": "heatmapgl"
           }
          ],
          "histogram": [
           {
            "marker": {
             "pattern": {
              "fillmode": "overlay",
              "size": 10,
              "solidity": 0.2
             }
            },
            "type": "histogram"
           }
          ],
          "histogram2d": [
           {
            "colorbar": {
             "outlinewidth": 0,
             "ticks": ""
            },
            "colorscale": [
             [
              0,
              "#0d0887"
             ],
             [
              0.1111111111111111,
              "#46039f"
             ],
             [
              0.2222222222222222,
              "#7201a8"
             ],
             [
              0.3333333333333333,
              "#9c179e"
             ],
             [
              0.4444444444444444,
              "#bd3786"
             ],
             [
              0.5555555555555556,
              "#d8576b"
             ],
             [
              0.6666666666666666,
              "#ed7953"
             ],
             [
              0.7777777777777778,
              "#fb9f3a"
             ],
             [
              0.8888888888888888,
              "#fdca26"
             ],
             [
              1,
              "#f0f921"
             ]
            ],
            "type": "histogram2d"
           }
          ],
          "histogram2dcontour": [
           {
            "colorbar": {
             "outlinewidth": 0,
             "ticks": ""
            },
            "colorscale": [
             [
              0,
              "#0d0887"
             ],
             [
              0.1111111111111111,
              "#46039f"
             ],
             [
              0.2222222222222222,
              "#7201a8"
             ],
             [
              0.3333333333333333,
              "#9c179e"
             ],
             [
              0.4444444444444444,
              "#bd3786"
             ],
             [
              0.5555555555555556,
              "#d8576b"
             ],
             [
              0.6666666666666666,
              "#ed7953"
             ],
             [
              0.7777777777777778,
              "#fb9f3a"
             ],
             [
              0.8888888888888888,
              "#fdca26"
             ],
             [
              1,
              "#f0f921"
             ]
            ],
            "type": "histogram2dcontour"
           }
          ],
          "mesh3d": [
           {
            "colorbar": {
             "outlinewidth": 0,
             "ticks": ""
            },
            "type": "mesh3d"
           }
          ],
          "parcoords": [
           {
            "line": {
             "colorbar": {
              "outlinewidth": 0,
              "ticks": ""
             }
            },
            "type": "parcoords"
           }
          ],
          "pie": [
           {
            "automargin": true,
            "type": "pie"
           }
          ],
          "scatter": [
           {
            "fillpattern": {
             "fillmode": "overlay",
             "size": 10,
             "solidity": 0.2
            },
            "type": "scatter"
           }
          ],
          "scatter3d": [
           {
            "line": {
             "colorbar": {
              "outlinewidth": 0,
              "ticks": ""
             }
            },
            "marker": {
             "colorbar": {
              "outlinewidth": 0,
              "ticks": ""
             }
            },
            "type": "scatter3d"
           }
          ],
          "scattercarpet": [
           {
            "marker": {
             "colorbar": {
              "outlinewidth": 0,
              "ticks": ""
             }
            },
            "type": "scattercarpet"
           }
          ],
          "scattergeo": [
           {
            "marker": {
             "colorbar": {
              "outlinewidth": 0,
              "ticks": ""
             }
            },
            "type": "scattergeo"
           }
          ],
          "scattergl": [
           {
            "marker": {
             "colorbar": {
              "outlinewidth": 0,
              "ticks": ""
             }
            },
            "type": "scattergl"
           }
          ],
          "scattermapbox": [
           {
            "marker": {
             "colorbar": {
              "outlinewidth": 0,
              "ticks": ""
             }
            },
            "type": "scattermapbox"
           }
          ],
          "scatterpolar": [
           {
            "marker": {
             "colorbar": {
              "outlinewidth": 0,
              "ticks": ""
             }
            },
            "type": "scatterpolar"
           }
          ],
          "scatterpolargl": [
           {
            "marker": {
             "colorbar": {
              "outlinewidth": 0,
              "ticks": ""
             }
            },
            "type": "scatterpolargl"
           }
          ],
          "scatterternary": [
           {
            "marker": {
             "colorbar": {
              "outlinewidth": 0,
              "ticks": ""
             }
            },
            "type": "scatterternary"
           }
          ],
          "surface": [
           {
            "colorbar": {
             "outlinewidth": 0,
             "ticks": ""
            },
            "colorscale": [
             [
              0,
              "#0d0887"
             ],
             [
              0.1111111111111111,
              "#46039f"
             ],
             [
              0.2222222222222222,
              "#7201a8"
             ],
             [
              0.3333333333333333,
              "#9c179e"
             ],
             [
              0.4444444444444444,
              "#bd3786"
             ],
             [
              0.5555555555555556,
              "#d8576b"
             ],
             [
              0.6666666666666666,
              "#ed7953"
             ],
             [
              0.7777777777777778,
              "#fb9f3a"
             ],
             [
              0.8888888888888888,
              "#fdca26"
             ],
             [
              1,
              "#f0f921"
             ]
            ],
            "type": "surface"
           }
          ],
          "table": [
           {
            "cells": {
             "fill": {
              "color": "#EBF0F8"
             },
             "line": {
              "color": "white"
             }
            },
            "header": {
             "fill": {
              "color": "#C8D4E3"
             },
             "line": {
              "color": "white"
             }
            },
            "type": "table"
           }
          ]
         },
         "layout": {
          "annotationdefaults": {
           "arrowcolor": "#2a3f5f",
           "arrowhead": 0,
           "arrowwidth": 1
          },
          "autotypenumbers": "strict",
          "coloraxis": {
           "colorbar": {
            "outlinewidth": 0,
            "ticks": ""
           }
          },
          "colorscale": {
           "diverging": [
            [
             0,
             "#8e0152"
            ],
            [
             0.1,
             "#c51b7d"
            ],
            [
             0.2,
             "#de77ae"
            ],
            [
             0.3,
             "#f1b6da"
            ],
            [
             0.4,
             "#fde0ef"
            ],
            [
             0.5,
             "#f7f7f7"
            ],
            [
             0.6,
             "#e6f5d0"
            ],
            [
             0.7,
             "#b8e186"
            ],
            [
             0.8,
             "#7fbc41"
            ],
            [
             0.9,
             "#4d9221"
            ],
            [
             1,
             "#276419"
            ]
           ],
           "sequential": [
            [
             0,
             "#0d0887"
            ],
            [
             0.1111111111111111,
             "#46039f"
            ],
            [
             0.2222222222222222,
             "#7201a8"
            ],
            [
             0.3333333333333333,
             "#9c179e"
            ],
            [
             0.4444444444444444,
             "#bd3786"
            ],
            [
             0.5555555555555556,
             "#d8576b"
            ],
            [
             0.6666666666666666,
             "#ed7953"
            ],
            [
             0.7777777777777778,
             "#fb9f3a"
            ],
            [
             0.8888888888888888,
             "#fdca26"
            ],
            [
             1,
             "#f0f921"
            ]
           ],
           "sequentialminus": [
            [
             0,
             "#0d0887"
            ],
            [
             0.1111111111111111,
             "#46039f"
            ],
            [
             0.2222222222222222,
             "#7201a8"
            ],
            [
             0.3333333333333333,
             "#9c179e"
            ],
            [
             0.4444444444444444,
             "#bd3786"
            ],
            [
             0.5555555555555556,
             "#d8576b"
            ],
            [
             0.6666666666666666,
             "#ed7953"
            ],
            [
             0.7777777777777778,
             "#fb9f3a"
            ],
            [
             0.8888888888888888,
             "#fdca26"
            ],
            [
             1,
             "#f0f921"
            ]
           ]
          },
          "colorway": [
           "#636efa",
           "#EF553B",
           "#00cc96",
           "#ab63fa",
           "#FFA15A",
           "#19d3f3",
           "#FF6692",
           "#B6E880",
           "#FF97FF",
           "#FECB52"
          ],
          "font": {
           "color": "#2a3f5f"
          },
          "geo": {
           "bgcolor": "white",
           "lakecolor": "white",
           "landcolor": "#E5ECF6",
           "showlakes": true,
           "showland": true,
           "subunitcolor": "white"
          },
          "hoverlabel": {
           "align": "left"
          },
          "hovermode": "closest",
          "mapbox": {
           "style": "light"
          },
          "paper_bgcolor": "white",
          "plot_bgcolor": "#E5ECF6",
          "polar": {
           "angularaxis": {
            "gridcolor": "white",
            "linecolor": "white",
            "ticks": ""
           },
           "bgcolor": "#E5ECF6",
           "radialaxis": {
            "gridcolor": "white",
            "linecolor": "white",
            "ticks": ""
           }
          },
          "scene": {
           "xaxis": {
            "backgroundcolor": "#E5ECF6",
            "gridcolor": "white",
            "gridwidth": 2,
            "linecolor": "white",
            "showbackground": true,
            "ticks": "",
            "zerolinecolor": "white"
           },
           "yaxis": {
            "backgroundcolor": "#E5ECF6",
            "gridcolor": "white",
            "gridwidth": 2,
            "linecolor": "white",
            "showbackground": true,
            "ticks": "",
            "zerolinecolor": "white"
           },
           "zaxis": {
            "backgroundcolor": "#E5ECF6",
            "gridcolor": "white",
            "gridwidth": 2,
            "linecolor": "white",
            "showbackground": true,
            "ticks": "",
            "zerolinecolor": "white"
           }
          },
          "shapedefaults": {
           "line": {
            "color": "#2a3f5f"
           }
          },
          "ternary": {
           "aaxis": {
            "gridcolor": "white",
            "linecolor": "white",
            "ticks": ""
           },
           "baxis": {
            "gridcolor": "white",
            "linecolor": "white",
            "ticks": ""
           },
           "bgcolor": "#E5ECF6",
           "caxis": {
            "gridcolor": "white",
            "linecolor": "white",
            "ticks": ""
           }
          },
          "title": {
           "x": 0.05
          },
          "xaxis": {
           "automargin": true,
           "gridcolor": "white",
           "linecolor": "white",
           "ticks": "",
           "title": {
            "standoff": 15
           },
           "zerolinecolor": "white",
           "zerolinewidth": 2
          },
          "yaxis": {
           "automargin": true,
           "gridcolor": "white",
           "linecolor": "white",
           "ticks": "",
           "title": {
            "standoff": 15
           },
           "zerolinecolor": "white",
           "zerolinewidth": 2
          }
         }
        },
        "title": {
         "text": "회사별 월별 게시글 수"
        },
        "width": 1200,
        "xaxis": {
         "anchor": "y",
         "domain": [
          0,
          1
         ],
         "tickangle": -45,
         "title": {
          "text": "날짜"
         }
        },
        "yaxis": {
         "anchor": "x",
         "domain": [
          0,
          1
         ],
         "range": [
          0,
          10
         ],
         "title": {
          "text": "게시글 수"
         }
        }
       }
      }
     },
     "metadata": {},
     "output_type": "display_data"
    }
   ],
   "source": [
    "date_dummy_df = dummy_df[['date', 'company']]\n",
    "date_dummy_df['date'] = pd.to_datetime(date_dummy_df['date'])\n",
    "date_dummy_df['year_month'] = date_dummy_df['date'].dt.strftime('%Y-%m')\n",
    "grouped_df = date_dummy_df.groupby(['company', 'year_month']).size().reset_index(name='posts_count')\n",
    "# plotly는 문자열 형식의 날짜를 사용\n",
    "grouped_df['year_month'] = grouped_df['year_month'].astype(str)\n",
    "\n",
    "fig = px.line(\n",
    "    grouped_df,\n",
    "    x='year_month',\n",
    "    y='posts_count',\n",
    "    color='company',\n",
    "    title='회사별 월별 게시글 수',\n",
    "    labels={'year_month': '날짜', 'posts_count': '게시글 수'}  # 축 라벨 정의\n",
    ")\n",
    "fig.update_layout(\n",
    "    width = 1200,\n",
    "    height = 700,\n",
    "    xaxis_title='날짜',\n",
    "    yaxis_title='게시글 수',\n",
    "    xaxis=dict(tickangle=-45)  # x축 라벨 회전\n",
    ")\n",
    "# marker표시가 안됨...\n",
    "# fig.update_traces(\n",
    "#     marker=dict(size=10, color='Navy')\n",
    "# )\n",
    "fig.update_yaxes(range=[0, grouped_df['posts_count'].max() + 1])\n",
    "\n",
    "fig.show()"
   ]
  },
  {
   "cell_type": "markdown",
   "metadata": {},
   "source": [
    "### 기업별 - linechart"
   ]
  },
  {
   "cell_type": "code",
   "execution_count": 18,
   "metadata": {},
   "outputs": [
    {
     "data": {
      "application/vnd.plotly.v1+json": {
       "config": {
        "plotlyServerURL": "https://plot.ly"
       },
       "data": [
        {
         "hovertemplate": "날짜=%{x}<br>게시글 수=%{y}<extra></extra>",
         "legendgroup": "",
         "line": {
          "color": "#636efa",
          "dash": "solid"
         },
         "marker": {
          "symbol": "circle"
         },
         "mode": "lines",
         "name": "",
         "orientation": "v",
         "showlegend": false,
         "type": "scatter",
         "x": [
          "2019-07",
          "2019-09",
          "2020-01",
          "2020-02",
          "2020-03",
          "2020-06",
          "2020-07",
          "2020-08",
          "2020-09",
          "2021-01",
          "2021-03",
          "2021-06",
          "2021-07",
          "2021-08",
          "2021-10",
          "2021-11",
          "2021-12",
          "2022-01",
          "2022-02",
          "2022-03",
          "2022-04",
          "2022-06",
          "2022-07",
          "2022-08",
          "2022-09",
          "2022-10",
          "2022-11",
          "2023-01",
          "2023-02",
          "2023-05",
          "2023-06",
          "2023-07"
         ],
         "xaxis": "x",
         "y": [
          1,
          1,
          1,
          1,
          1,
          1,
          3,
          1,
          1,
          1,
          1,
          1,
          1,
          2,
          1,
          1,
          1,
          2,
          5,
          3,
          2,
          2,
          1,
          1,
          1,
          1,
          1,
          3,
          2,
          1,
          1,
          2
         ],
         "yaxis": "y"
        }
       ],
       "layout": {
        "height": 700,
        "legend": {
         "tracegroupgap": 0
        },
        "template": {
         "data": {
          "bar": [
           {
            "error_x": {
             "color": "#2a3f5f"
            },
            "error_y": {
             "color": "#2a3f5f"
            },
            "marker": {
             "line": {
              "color": "#E5ECF6",
              "width": 0.5
             },
             "pattern": {
              "fillmode": "overlay",
              "size": 10,
              "solidity": 0.2
             }
            },
            "type": "bar"
           }
          ],
          "barpolar": [
           {
            "marker": {
             "line": {
              "color": "#E5ECF6",
              "width": 0.5
             },
             "pattern": {
              "fillmode": "overlay",
              "size": 10,
              "solidity": 0.2
             }
            },
            "type": "barpolar"
           }
          ],
          "carpet": [
           {
            "aaxis": {
             "endlinecolor": "#2a3f5f",
             "gridcolor": "white",
             "linecolor": "white",
             "minorgridcolor": "white",
             "startlinecolor": "#2a3f5f"
            },
            "baxis": {
             "endlinecolor": "#2a3f5f",
             "gridcolor": "white",
             "linecolor": "white",
             "minorgridcolor": "white",
             "startlinecolor": "#2a3f5f"
            },
            "type": "carpet"
           }
          ],
          "choropleth": [
           {
            "colorbar": {
             "outlinewidth": 0,
             "ticks": ""
            },
            "type": "choropleth"
           }
          ],
          "contour": [
           {
            "colorbar": {
             "outlinewidth": 0,
             "ticks": ""
            },
            "colorscale": [
             [
              0,
              "#0d0887"
             ],
             [
              0.1111111111111111,
              "#46039f"
             ],
             [
              0.2222222222222222,
              "#7201a8"
             ],
             [
              0.3333333333333333,
              "#9c179e"
             ],
             [
              0.4444444444444444,
              "#bd3786"
             ],
             [
              0.5555555555555556,
              "#d8576b"
             ],
             [
              0.6666666666666666,
              "#ed7953"
             ],
             [
              0.7777777777777778,
              "#fb9f3a"
             ],
             [
              0.8888888888888888,
              "#fdca26"
             ],
             [
              1,
              "#f0f921"
             ]
            ],
            "type": "contour"
           }
          ],
          "contourcarpet": [
           {
            "colorbar": {
             "outlinewidth": 0,
             "ticks": ""
            },
            "type": "contourcarpet"
           }
          ],
          "heatmap": [
           {
            "colorbar": {
             "outlinewidth": 0,
             "ticks": ""
            },
            "colorscale": [
             [
              0,
              "#0d0887"
             ],
             [
              0.1111111111111111,
              "#46039f"
             ],
             [
              0.2222222222222222,
              "#7201a8"
             ],
             [
              0.3333333333333333,
              "#9c179e"
             ],
             [
              0.4444444444444444,
              "#bd3786"
             ],
             [
              0.5555555555555556,
              "#d8576b"
             ],
             [
              0.6666666666666666,
              "#ed7953"
             ],
             [
              0.7777777777777778,
              "#fb9f3a"
             ],
             [
              0.8888888888888888,
              "#fdca26"
             ],
             [
              1,
              "#f0f921"
             ]
            ],
            "type": "heatmap"
           }
          ],
          "heatmapgl": [
           {
            "colorbar": {
             "outlinewidth": 0,
             "ticks": ""
            },
            "colorscale": [
             [
              0,
              "#0d0887"
             ],
             [
              0.1111111111111111,
              "#46039f"
             ],
             [
              0.2222222222222222,
              "#7201a8"
             ],
             [
              0.3333333333333333,
              "#9c179e"
             ],
             [
              0.4444444444444444,
              "#bd3786"
             ],
             [
              0.5555555555555556,
              "#d8576b"
             ],
             [
              0.6666666666666666,
              "#ed7953"
             ],
             [
              0.7777777777777778,
              "#fb9f3a"
             ],
             [
              0.8888888888888888,
              "#fdca26"
             ],
             [
              1,
              "#f0f921"
             ]
            ],
            "type": "heatmapgl"
           }
          ],
          "histogram": [
           {
            "marker": {
             "pattern": {
              "fillmode": "overlay",
              "size": 10,
              "solidity": 0.2
             }
            },
            "type": "histogram"
           }
          ],
          "histogram2d": [
           {
            "colorbar": {
             "outlinewidth": 0,
             "ticks": ""
            },
            "colorscale": [
             [
              0,
              "#0d0887"
             ],
             [
              0.1111111111111111,
              "#46039f"
             ],
             [
              0.2222222222222222,
              "#7201a8"
             ],
             [
              0.3333333333333333,
              "#9c179e"
             ],
             [
              0.4444444444444444,
              "#bd3786"
             ],
             [
              0.5555555555555556,
              "#d8576b"
             ],
             [
              0.6666666666666666,
              "#ed7953"
             ],
             [
              0.7777777777777778,
              "#fb9f3a"
             ],
             [
              0.8888888888888888,
              "#fdca26"
             ],
             [
              1,
              "#f0f921"
             ]
            ],
            "type": "histogram2d"
           }
          ],
          "histogram2dcontour": [
           {
            "colorbar": {
             "outlinewidth": 0,
             "ticks": ""
            },
            "colorscale": [
             [
              0,
              "#0d0887"
             ],
             [
              0.1111111111111111,
              "#46039f"
             ],
             [
              0.2222222222222222,
              "#7201a8"
             ],
             [
              0.3333333333333333,
              "#9c179e"
             ],
             [
              0.4444444444444444,
              "#bd3786"
             ],
             [
              0.5555555555555556,
              "#d8576b"
             ],
             [
              0.6666666666666666,
              "#ed7953"
             ],
             [
              0.7777777777777778,
              "#fb9f3a"
             ],
             [
              0.8888888888888888,
              "#fdca26"
             ],
             [
              1,
              "#f0f921"
             ]
            ],
            "type": "histogram2dcontour"
           }
          ],
          "mesh3d": [
           {
            "colorbar": {
             "outlinewidth": 0,
             "ticks": ""
            },
            "type": "mesh3d"
           }
          ],
          "parcoords": [
           {
            "line": {
             "colorbar": {
              "outlinewidth": 0,
              "ticks": ""
             }
            },
            "type": "parcoords"
           }
          ],
          "pie": [
           {
            "automargin": true,
            "type": "pie"
           }
          ],
          "scatter": [
           {
            "fillpattern": {
             "fillmode": "overlay",
             "size": 10,
             "solidity": 0.2
            },
            "type": "scatter"
           }
          ],
          "scatter3d": [
           {
            "line": {
             "colorbar": {
              "outlinewidth": 0,
              "ticks": ""
             }
            },
            "marker": {
             "colorbar": {
              "outlinewidth": 0,
              "ticks": ""
             }
            },
            "type": "scatter3d"
           }
          ],
          "scattercarpet": [
           {
            "marker": {
             "colorbar": {
              "outlinewidth": 0,
              "ticks": ""
             }
            },
            "type": "scattercarpet"
           }
          ],
          "scattergeo": [
           {
            "marker": {
             "colorbar": {
              "outlinewidth": 0,
              "ticks": ""
             }
            },
            "type": "scattergeo"
           }
          ],
          "scattergl": [
           {
            "marker": {
             "colorbar": {
              "outlinewidth": 0,
              "ticks": ""
             }
            },
            "type": "scattergl"
           }
          ],
          "scattermapbox": [
           {
            "marker": {
             "colorbar": {
              "outlinewidth": 0,
              "ticks": ""
             }
            },
            "type": "scattermapbox"
           }
          ],
          "scatterpolar": [
           {
            "marker": {
             "colorbar": {
              "outlinewidth": 0,
              "ticks": ""
             }
            },
            "type": "scatterpolar"
           }
          ],
          "scatterpolargl": [
           {
            "marker": {
             "colorbar": {
              "outlinewidth": 0,
              "ticks": ""
             }
            },
            "type": "scatterpolargl"
           }
          ],
          "scatterternary": [
           {
            "marker": {
             "colorbar": {
              "outlinewidth": 0,
              "ticks": ""
             }
            },
            "type": "scatterternary"
           }
          ],
          "surface": [
           {
            "colorbar": {
             "outlinewidth": 0,
             "ticks": ""
            },
            "colorscale": [
             [
              0,
              "#0d0887"
             ],
             [
              0.1111111111111111,
              "#46039f"
             ],
             [
              0.2222222222222222,
              "#7201a8"
             ],
             [
              0.3333333333333333,
              "#9c179e"
             ],
             [
              0.4444444444444444,
              "#bd3786"
             ],
             [
              0.5555555555555556,
              "#d8576b"
             ],
             [
              0.6666666666666666,
              "#ed7953"
             ],
             [
              0.7777777777777778,
              "#fb9f3a"
             ],
             [
              0.8888888888888888,
              "#fdca26"
             ],
             [
              1,
              "#f0f921"
             ]
            ],
            "type": "surface"
           }
          ],
          "table": [
           {
            "cells": {
             "fill": {
              "color": "#EBF0F8"
             },
             "line": {
              "color": "white"
             }
            },
            "header": {
             "fill": {
              "color": "#C8D4E3"
             },
             "line": {
              "color": "white"
             }
            },
            "type": "table"
           }
          ]
         },
         "layout": {
          "annotationdefaults": {
           "arrowcolor": "#2a3f5f",
           "arrowhead": 0,
           "arrowwidth": 1
          },
          "autotypenumbers": "strict",
          "coloraxis": {
           "colorbar": {
            "outlinewidth": 0,
            "ticks": ""
           }
          },
          "colorscale": {
           "diverging": [
            [
             0,
             "#8e0152"
            ],
            [
             0.1,
             "#c51b7d"
            ],
            [
             0.2,
             "#de77ae"
            ],
            [
             0.3,
             "#f1b6da"
            ],
            [
             0.4,
             "#fde0ef"
            ],
            [
             0.5,
             "#f7f7f7"
            ],
            [
             0.6,
             "#e6f5d0"
            ],
            [
             0.7,
             "#b8e186"
            ],
            [
             0.8,
             "#7fbc41"
            ],
            [
             0.9,
             "#4d9221"
            ],
            [
             1,
             "#276419"
            ]
           ],
           "sequential": [
            [
             0,
             "#0d0887"
            ],
            [
             0.1111111111111111,
             "#46039f"
            ],
            [
             0.2222222222222222,
             "#7201a8"
            ],
            [
             0.3333333333333333,
             "#9c179e"
            ],
            [
             0.4444444444444444,
             "#bd3786"
            ],
            [
             0.5555555555555556,
             "#d8576b"
            ],
            [
             0.6666666666666666,
             "#ed7953"
            ],
            [
             0.7777777777777778,
             "#fb9f3a"
            ],
            [
             0.8888888888888888,
             "#fdca26"
            ],
            [
             1,
             "#f0f921"
            ]
           ],
           "sequentialminus": [
            [
             0,
             "#0d0887"
            ],
            [
             0.1111111111111111,
             "#46039f"
            ],
            [
             0.2222222222222222,
             "#7201a8"
            ],
            [
             0.3333333333333333,
             "#9c179e"
            ],
            [
             0.4444444444444444,
             "#bd3786"
            ],
            [
             0.5555555555555556,
             "#d8576b"
            ],
            [
             0.6666666666666666,
             "#ed7953"
            ],
            [
             0.7777777777777778,
             "#fb9f3a"
            ],
            [
             0.8888888888888888,
             "#fdca26"
            ],
            [
             1,
             "#f0f921"
            ]
           ]
          },
          "colorway": [
           "#636efa",
           "#EF553B",
           "#00cc96",
           "#ab63fa",
           "#FFA15A",
           "#19d3f3",
           "#FF6692",
           "#B6E880",
           "#FF97FF",
           "#FECB52"
          ],
          "font": {
           "color": "#2a3f5f"
          },
          "geo": {
           "bgcolor": "white",
           "lakecolor": "white",
           "landcolor": "#E5ECF6",
           "showlakes": true,
           "showland": true,
           "subunitcolor": "white"
          },
          "hoverlabel": {
           "align": "left"
          },
          "hovermode": "closest",
          "mapbox": {
           "style": "light"
          },
          "paper_bgcolor": "white",
          "plot_bgcolor": "#E5ECF6",
          "polar": {
           "angularaxis": {
            "gridcolor": "white",
            "linecolor": "white",
            "ticks": ""
           },
           "bgcolor": "#E5ECF6",
           "radialaxis": {
            "gridcolor": "white",
            "linecolor": "white",
            "ticks": ""
           }
          },
          "scene": {
           "xaxis": {
            "backgroundcolor": "#E5ECF6",
            "gridcolor": "white",
            "gridwidth": 2,
            "linecolor": "white",
            "showbackground": true,
            "ticks": "",
            "zerolinecolor": "white"
           },
           "yaxis": {
            "backgroundcolor": "#E5ECF6",
            "gridcolor": "white",
            "gridwidth": 2,
            "linecolor": "white",
            "showbackground": true,
            "ticks": "",
            "zerolinecolor": "white"
           },
           "zaxis": {
            "backgroundcolor": "#E5ECF6",
            "gridcolor": "white",
            "gridwidth": 2,
            "linecolor": "white",
            "showbackground": true,
            "ticks": "",
            "zerolinecolor": "white"
           }
          },
          "shapedefaults": {
           "line": {
            "color": "#2a3f5f"
           }
          },
          "ternary": {
           "aaxis": {
            "gridcolor": "white",
            "linecolor": "white",
            "ticks": ""
           },
           "baxis": {
            "gridcolor": "white",
            "linecolor": "white",
            "ticks": ""
           },
           "bgcolor": "#E5ECF6",
           "caxis": {
            "gridcolor": "white",
            "linecolor": "white",
            "ticks": ""
           }
          },
          "title": {
           "x": 0.05
          },
          "xaxis": {
           "automargin": true,
           "gridcolor": "white",
           "linecolor": "white",
           "ticks": "",
           "title": {
            "standoff": 15
           },
           "zerolinecolor": "white",
           "zerolinewidth": 2
          },
          "yaxis": {
           "automargin": true,
           "gridcolor": "white",
           "linecolor": "white",
           "ticks": "",
           "title": {
            "standoff": 15
           },
           "zerolinecolor": "white",
           "zerolinewidth": 2
          }
         }
        },
        "title": {
         "text": "회사별 월별 게시글 수"
        },
        "width": 1200,
        "xaxis": {
         "anchor": "y",
         "domain": [
          0,
          1
         ],
         "tickangle": -45,
         "title": {
          "text": "날짜"
         }
        },
        "yaxis": {
         "anchor": "x",
         "domain": [
          0,
          1
         ],
         "range": [
          0,
          6
         ],
         "title": {
          "text": "게시글 수"
         }
        }
       }
      }
     },
     "metadata": {},
     "output_type": "display_data"
    }
   ],
   "source": [
    "company_date_df = dummy_df[dummy_df['company'] == '쏘카'][['date', 'company']]\n",
    "company_date_df['date'] = pd.to_datetime(company_date_df['date'])\n",
    "company_date_df['year_month'] = company_date_df['date'].dt.strftime('%Y-%m')\n",
    "company_grouped_df = company_date_df.groupby(['year_month']).size().reset_index(name='posts_count')\n",
    "company_grouped_df['year_month'] = company_grouped_df['year_month'].astype(str)\n",
    "\n",
    "fig = px.line(\n",
    "    company_grouped_df,\n",
    "    x='year_month',\n",
    "    y='posts_count',\n",
    "    title='회사별 월별 게시글 수',\n",
    "    labels={'year_month': '날짜', 'posts_count': '게시글 수'}\n",
    ")\n",
    "fig.update_layout(\n",
    "    width = 1200,\n",
    "    height = 700,\n",
    "    xaxis_title='날짜',\n",
    "    yaxis_title='게시글 수',\n",
    "    xaxis=dict(tickangle=-45)\n",
    ")\n",
    "fig.update_yaxes(range=[0, company_grouped_df['posts_count'].max() + 1])\n",
    "\n",
    "fig.show()"
   ]
  },
  {
   "cell_type": "markdown",
   "metadata": {},
   "source": [
    "## Django"
   ]
  },
  {
   "cell_type": "code",
   "execution_count": null,
   "metadata": {},
   "outputs": [],
   "source": [
    "# Django views.py\n",
    "\n",
    "# 시각화 관련된 라이브러리 import\n",
    "\n",
    "def visualization_view(request):\n",
    "    \n",
    "    # 그래프 생성(제일 아래 시각화 코드로 사용)\n",
    "    company_date_df = dummy_df[dummy_df['company'] == '쏘카'][['date', 'company']]\n",
    "    company_date_df['date'] = pd.to_datetime(company_date_df['date'])\n",
    "    company_date_df['year_month'] = company_date_df['date'].dt.strftime('%Y-%m')\n",
    "    company_grouped_df = company_date_df.groupby(['year_month']).size().reset_index(name='posts_count')\n",
    "    company_grouped_df['year_month'] = company_grouped_df['year_month'].astype(str)\n",
    "\n",
    "    fig = px.line(\n",
    "        company_grouped_df,\n",
    "        x='year_month',\n",
    "        y='posts_count',\n",
    "        title='회사별 월별 게시글 수',\n",
    "        labels={'year_month': '날짜', 'posts_count': '게시글 수'}\n",
    "    )\n",
    "    fig.update_layout(\n",
    "        width = 1200,\n",
    "        height = 700,\n",
    "        xaxis_title='날짜',\n",
    "        yaxis_title='게시글 수',\n",
    "        xaxis=dict(tickangle=-45)\n",
    "    )\n",
    "    fig.update_yaxes(range=[0, company_grouped_df['posts_count'].max() + 1])\n",
    "    \n",
    "    # 그래프를 HTML 문자열로 변환\n",
    "    plot_div = fig.to_html(full_html=False, include_plotlyjs=True)\n",
    "    \n",
    "    # 컨텍스트에 plot_div 추가\n",
    "    return render(request, \"my_template.html\", context={'plot_div': plot_div})"
   ]
  },
  {
   "cell_type": "code",
   "execution_count": null,
   "metadata": {},
   "outputs": [],
   "source": [
    "# Django templets -> html\n",
    "'''\n",
    "<!-- template.html -->\n",
    "<html>\n",
    "<head>\n",
    "    <title>Plotly Visualization</title>\n",
    "</head>\n",
    "<body>\n",
    "    <!-- 변환된 그래프 HTML 삽입 -->\n",
    "    <div>{{ plot_div|safe }}</div>\n",
    "</body>\n",
    "</html>\n",
    "'''"
   ]
  }
 ],
 "metadata": {
  "kernelspec": {
   "display_name": "dedev",
   "language": "python",
   "name": "python3"
  },
  "language_info": {
   "codemirror_mode": {
    "name": "ipython",
    "version": 3
   },
   "file_extension": ".py",
   "mimetype": "text/x-python",
   "name": "python",
   "nbconvert_exporter": "python",
   "pygments_lexer": "ipython3",
   "version": "3.11.5"
  }
 },
 "nbformat": 4,
 "nbformat_minor": 2
}
