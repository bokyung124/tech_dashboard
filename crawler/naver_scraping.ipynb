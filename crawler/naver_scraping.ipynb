{
 "cells": [
  {
   "cell_type": "markdown",
   "metadata": {},
   "source": [
    "<h3> 크롤링 데이터\n",
    "\n",
    "* title\n",
    "* date\n",
    "* tags\n",
    "* 기업명\n",
    "* 링크\n",
    "\n",
    "<h3> 데이터 기간(23.11.7기준)\n",
    "\n",
    "* 2023년 - 1페이지 / 19개\n",
    "* 전체 :  18페이지 / 359개\n",
    "* 2020년도까지 : 3페이지 / 52개\n"
   ]
  },
  {
   "cell_type": "markdown",
   "metadata": {},
   "source": [
    "* 네이버 : https://d2.naver.com/helloworld/\n",
    "\n",
    "* robots.txt 확인 불가능"
   ]
  },
  {
   "cell_type": "code",
   "execution_count": 5,
   "metadata": {},
   "outputs": [],
   "source": [
    "# requests 설치\n",
    "# %pip install requests\n",
    "# BeautifulSoup 설치\n",
    "# %pip install bs4\n",
    "# Selenium 설치\n",
    "# %pip install selenium\n",
    "\n",
    "# %pip install webdriver-manager"
   ]
  },
  {
   "cell_type": "code",
   "execution_count": 19,
   "metadata": {},
   "outputs": [],
   "source": [
    "import requests\n",
    "import time\n",
    "import csv\n",
    "from selenium import webdriver\n",
    "from selenium.webdriver.common.by import By\n",
    "from selenium.webdriver.chrome.service import Service\n",
    "from webdriver_manager.chrome import ChromeDriverManager\n",
    "from bs4 import BeautifulSoup\n"
   ]
  },
  {
   "cell_type": "code",
   "execution_count": 27,
   "metadata": {},
   "outputs": [],
   "source": [
    "articles_data = []\n",
    "company_name = '네이버'"
   ]
  },
  {
   "cell_type": "code",
   "execution_count": 28,
   "metadata": {},
   "outputs": [
    {
     "name": "stdout",
     "output_type": "stream",
     "text": [
      "태그가 없습니다.\n",
      "태그가 없습니다.\n",
      "19\n"
     ]
    }
   ],
   "source": [
    "for page_num in range(0,18):\n",
    "    list_page_url = 'https://d2.naver.com/helloworld?page={}'.format(page_num)\n",
    "    driver = webdriver.Chrome(service=Service(ChromeDriverManager().install()))\n",
    "    driver.get(list_page_url)\n",
    "    time.sleep(2)\n",
    "    \n",
    "    page_source = driver.page_source\n",
    "    soup = BeautifulSoup(page_source, 'html.parser')\n",
    "    \n",
    "    posts = soup.find('div', class_='con_area').find_all('div', class_='post_article')\n",
    "    \n",
    "    for post in posts:\n",
    "        link = 'https://d2.naver.com' + post.find('h2').find('a')['href']\n",
    "        post_driver = webdriver.Chrome(service=Service(ChromeDriverManager().install()))\n",
    "        post_driver.get(link)\n",
    "        time.sleep(2)\n",
    "        \n",
    "        post_page_source = post_driver.page_source\n",
    "        post_soup = BeautifulSoup(post_page_source, 'html.parser')\n",
    "        \n",
    "        tags_list = []\n",
    "        try:\n",
    "            tags = post_soup.find('div', class_='txt_tag').find_all('a')\n",
    "            for tag in tags:\n",
    "                tags_list.append(tag.text)\n",
    "        except AttributeError:\n",
    "            print('태그가 없습니다.')\n",
    "            \n",
    "        article_date = {\n",
    "            'title' : post.find('h2').text,\n",
    "            'date' : post.find('dl').text[3:13],\n",
    "            'tags' : tags_list,\n",
    "            'company' : company_name,\n",
    "            'link' : link\n",
    "        }\n",
    "        articles_data.append(article_date)\n",
    "        \n",
    "print(len(articles_data))"
   ]
  },
  {
   "cell_type": "code",
   "execution_count": 29,
   "metadata": {},
   "outputs": [
    {
     "name": "stdout",
     "output_type": "stream",
     "text": [
      "완료\n"
     ]
    }
   ],
   "source": [
    "file_name = './naver_data.csv'\n",
    "with open(file_name, mode='w', newline='', encoding='utf-8') as csv_file:\n",
    "    writer = csv.DictWriter(csv_file, fieldnames=articles_data[0].keys())\n",
    "    \n",
    "    writer.writeheader()\n",
    "    \n",
    "    for data in articles_data:\n",
    "        data['tags'] = ', '.join(data['tags'])\n",
    "        writer.writerow(data)\n",
    "\n",
    "print('완료')"
   ]
  }
 ],
 "metadata": {
  "kernelspec": {
   "display_name": "dedev",
   "language": "python",
   "name": "python3"
  },
  "language_info": {
   "codemirror_mode": {
    "name": "ipython",
    "version": 3
   },
   "file_extension": ".py",
   "mimetype": "text/x-python",
   "name": "python",
   "nbconvert_exporter": "python",
   "pygments_lexer": "ipython3",
   "version": "3.11.5"
  }
 },
 "nbformat": 4,
 "nbformat_minor": 2
}
